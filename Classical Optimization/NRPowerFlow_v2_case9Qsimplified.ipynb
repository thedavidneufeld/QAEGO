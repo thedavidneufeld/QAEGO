{
 "cells": [
  {
   "attachments": {},
   "cell_type": "markdown",
   "metadata": {},
   "source": [
    "This code is the general case for the problem found in 5.3.4 of the textbook Power Flow Analysis by N. V. Ramana and uses the flowchart found in Fig 5.3 of the previous section to perform iterative Newton Raphson"
   ]
  },
  {
   "attachments": {},
   "cell_type": "markdown",
   "metadata": {},
   "source": [
    "**Imports**"
   ]
  },
  {
   "cell_type": "code",
   "execution_count": 1,
   "metadata": {},
   "outputs": [],
   "source": [
    "import numpy as np\n",
    "from numpy.linalg import inv"
   ]
  },
  {
   "attachments": {},
   "cell_type": "markdown",
   "metadata": {},
   "source": [
    "**Input Data**"
   ]
  },
  {
   "cell_type": "code",
   "execution_count": 2,
   "metadata": {},
   "outputs": [],
   "source": [
    "# Bus data\n",
    "# For each bus the data is as follows:\n",
    "# 0:BusNum, 1:PG, 2:QG, 3:PD, 4:QD, 5:V, 6:PA, 7:BusType\n",
    "# Where BusType 1 is Slack, 2 is PV, and 3 is PQ\n",
    "bus_arr = np.array([[1, 0, 0, 0, 0, 1, 0, 1], \n",
    "                    [2, 1.63, 0, 0, 0, 1, 0, 2], \n",
    "                    [3, 0.85, 0, 0, 0, 1, 0, 2],\n",
    "                    [4, 0, 0, 0, 0, 1, 0, 3],\n",
    "                    [5, 0, 0, -0.90, -0.30, 1, 0, 3],\n",
    "                    [6, 0, 0, 0, 0, 1, 0, 3],\n",
    "                    [7, 0, 0, -1.00, -0.35, 1, 0, 3],\n",
    "                    [8, 0, 0, 0, 0, 1, 0, 3],\n",
    "                    [9, 0, 0, -1.25, -0.50, 1, 0, 3]])\n",
    "\n",
    "# Reactive power limits\n",
    "reactive_min = []\n",
    "reactive_max = []\n",
    "for i in bus_arr:\n",
    "    if i[7] == 2:\n",
    "        reactive_min.append(-3.00)\n",
    "        reactive_max.append(3.00)\n",
    "    else:\n",
    "        reactive_min.append(0)\n",
    "        reactive_max.append(0)\n",
    "reactive_min = np.array(reactive_min)\n",
    "reactive_max = np.array(reactive_max)\n",
    "\n",
    "# Branch data\n",
    "# For each branch the data is as follows:\n",
    "# 0:BranchBuses, 1:LineImpedance\n",
    "branch_arr = [[[1, 4], complex(0, 0.0576)],\n",
    "              [[4, 5], complex(0.017, 0.092)],\n",
    "              [[5, 6], complex(0.039, 0.17)],\n",
    "              [[3, 6], complex(0, 0.0586)],\n",
    "              [[6, 7], complex(0.0119, 0.1008)],\n",
    "              [[7, 8], complex(0.0085, 0.072)],\n",
    "              [[8, 2], complex(0, 0.0625)],\n",
    "              [[8, 9], complex(0.032, 0.161)],\n",
    "              [[9, 4], complex(0.01, 0.085)]]"
   ]
  },
  {
   "attachments": {},
   "cell_type": "markdown",
   "metadata": {},
   "source": [
    "**Function for creating Generator and Line Admittance arrays**"
   ]
  },
  {
   "cell_type": "code",
   "execution_count": 3,
   "metadata": {},
   "outputs": [],
   "source": [
    "def create_GA_LA(Buses, Branches):\n",
    "    # Impedance Values\n",
    "    # Line Impedance Matrix\n",
    "    LA = np.zeros((Buses.shape[0], Buses.shape[0]), dtype = complex)\n",
    "    for b in Branches:\n",
    "        # Branch b[0] contains a list of BusNums (BusNums are 1 higher than the index they are at)\n",
    "        i = b[0][0]-1\n",
    "        j = b[0][1]-1\n",
    "        # Set LI for both buses to each other\n",
    "        LA[i][j] = 1/b[1]\n",
    "        LA[j][i] = 1/b[1]\n",
    "\n",
    "    # Compute Generator Admittance\n",
    "    GA = np.zeros(Buses.shape[0])\n",
    "    \n",
    "    return GA, LA"
   ]
  },
  {
   "attachments": {},
   "cell_type": "markdown",
   "metadata": {},
   "source": [
    "**Function for creating Y<sub>bus</sub>, G, and B**"
   ]
  },
  {
   "cell_type": "code",
   "execution_count": 4,
   "metadata": {},
   "outputs": [],
   "source": [
    "def create_Ybus(Buses, GA, LA):\n",
    "    Y = np.zeros((Buses.shape[0], Buses.shape[0]),  dtype = complex)\n",
    "    for i in range(Y.shape[0]):\n",
    "        Y[i][i] = Y[i][i] + GA[i]\n",
    "        for j in range (Y.shape[1]):\n",
    "            if i != j:\n",
    "                Y[i, j] = Y[i, j] - LA[i][j]\n",
    "                Y[i, i] = Y[i, i] + LA[i][j]\n",
    "                \n",
    "    G = Y.real\n",
    "    B = Y.imag\n",
    "\n",
    "    return Y, G, B"
   ]
  },
  {
   "attachments": {},
   "cell_type": "markdown",
   "metadata": {},
   "source": [
    "**Function for setting initial values of unknown quantities**"
   ]
  },
  {
   "cell_type": "code",
   "execution_count": 5,
   "metadata": {},
   "outputs": [],
   "source": [
    "def init_unknown(V, PA):\n",
    "    # Flat start for bus voltages\n",
    "    # Unknown values for bus volage will be set to 1\n",
    "    for i in range(V.size):\n",
    "        if V[i] == 0:\n",
    "            V[i] = 1"
   ]
  },
  {
   "attachments": {},
   "cell_type": "markdown",
   "metadata": {},
   "source": [
    "**Function for computing powers**"
   ]
  },
  {
   "cell_type": "code",
   "execution_count": 6,
   "metadata": {},
   "outputs": [],
   "source": [
    "def compute_powers(Buses, V, PA, G, B):\n",
    "    P_new = np.zeros(Buses.shape[0])\n",
    "    Q_new = np.zeros(Buses.shape[0])\n",
    "    # We don't need to calculate for the slack bus (the first bus), so we start at the second bus\n",
    "    for i in range(1, Buses.shape[0]):\n",
    "        for j in range (Buses.shape[0]):\n",
    "            P_new[i] = P_new[i]+V[i]*V[j]*(G[i][j]*np.cos(PA[i]-PA[j])+B[i][j]*np.sin(PA[i]-PA[j]))\n",
    "            Q_new[i] = Q_new[i]+V[i]*V[j]*(G[i][j]*np.sin(PA[i]-PA[j])-B[i][j]*np.cos(PA[i]-PA[j]))\n",
    "\n",
    "    return P_new, Q_new"
   ]
  },
  {
   "attachments": {},
   "cell_type": "markdown",
   "metadata": {},
   "source": [
    "**Function for checking reactive power limits**"
   ]
  },
  {
   "cell_type": "code",
   "execution_count": 7,
   "metadata": {},
   "outputs": [],
   "source": [
    "def check_limits(Buses, V, Q_new, Q_min, Q_max):\n",
    "    for i in range(1, Buses.shape[0]):\n",
    "        # Buses[i][7] is bus i's BusType, 2 is PV\n",
    "        if Buses[i][7] == 2:\n",
    "            # Check that Q for bus i is within limits\n",
    "            if (Q_new[i] > Q_max[i]) or (Q_new[i] < Q_min[i]):\n",
    "                # BusType 3 is PQ\n",
    "                Buses[i][7] = 3\n",
    "                # Set Bus's V to initial value\n",
    "                Buses[i][5] = 1\n",
    "                V[i] = 1\n",
    "                return False\n",
    "    # If the for loop is able to complete, all limit checks pass\n",
    "    return True"
   ]
  },
  {
   "attachments": {},
   "cell_type": "markdown",
   "metadata": {},
   "source": [
    "**Function for computing power mismatches**"
   ]
  },
  {
   "cell_type": "code",
   "execution_count": 8,
   "metadata": {},
   "outputs": [],
   "source": [
    "def compute_power_mismatches(Buses, P, Q, P_new, Q_new):\n",
    "    Delta_P = []\n",
    "    Delta_Q = []\n",
    "    for i in range(1, Buses.shape[0]):\n",
    "        Delta_P.append(P[i] - P_new[i])\n",
    "        # Buses[i][7] is Bus i's BusType, 3 is PQ\n",
    "        if Buses[i][7] == 3:\n",
    "            Delta_Q.append(Q[i] - Q_new[i])\n",
    "            \n",
    "    \n",
    "    return Delta_P, Delta_Q"
   ]
  },
  {
   "attachments": {},
   "cell_type": "markdown",
   "metadata": {},
   "source": [
    "**Function for computing the elements of the Jacobian matrix**"
   ]
  },
  {
   "cell_type": "code",
   "execution_count": 9,
   "metadata": {},
   "outputs": [],
   "source": [
    "def compute_Jacobian(Buses, P_new, Q_new, V, PA, G, B):\n",
    "    H = np.zeros((Buses.shape[0]-1, Buses.shape[0]-1))\n",
    "    N = np.zeros((Buses.shape[0]-1, Buses.shape[0]-1))\n",
    "    J = np.zeros((Buses.shape[0]-1, Buses.shape[0]-1))\n",
    "    L = np.zeros((Buses.shape[0]-1, Buses.shape[0]-1))\n",
    "    for i in range(1, Buses.shape[0]):\n",
    "        for j in range(1, Buses.shape[0]):\n",
    "            if i == j:\n",
    "                H[i-1][j-1] = -Q_new[i]-B[i][i]*(V[i]**2)\n",
    "                # Buses[i][7] is Bus i's BusType, 2 is PV\n",
    "                if Buses[i][7] != 2:\n",
    "                    N[i-1][j-1] = P_new[i]+G[i][i]*(V[i]**2)\n",
    "                    J[i-1][j-1] = P_new[i]-G[i][i]*(V[i]**2)\n",
    "                    L[i-1][j-1] = Q_new[i]-B[i][i]*(V[i]**2)\n",
    "            else:\n",
    "                H[i-1][j-1] = V[i]*V[j]*(G[i][j]*np.cos(PA[i]-PA[j])+B[i][j]*np.sin(PA[i]-PA[j]))\n",
    "                if Buses[j][7] != 2:\n",
    "                    N[i-1][j-1] = V[j]*V[i]*(G[i][j]*np.sin(PA[i]-PA[j])+B[i][j]*np.cos(PA[i]-PA[j]))\n",
    "                if Buses[i][7] != 2:\n",
    "                    J[i-1][j-1] = -V[i]*V[j]*(G[i][j]*np.cos(PA[i]-PA[j])+B[i][j]*np.sin(PA[i]-PA[j]))\n",
    "                if Buses[i][7] != 2 and Buses[j][7] != 2:\n",
    "                    L[i-1][j-1] = V[j]*V[i]*(G[i][j]*np.sin(PA[i]-PA[j])-B[i][j]*np.cos(PA[i]-PA[j]))\n",
    "\n",
    "    for i in reversed(range(1, Buses.shape[0])):\n",
    "        if Buses[i][7] == 2:\n",
    "            # If Bus i is PV, remove column for that bus from N\n",
    "            N = np.delete(N, i-1, 1)\n",
    "            # If Bus i is PV, remove row for that bus from J\n",
    "            J = np.delete(J, i-1, 0)\n",
    "            # If Bus i is PV, remove row and column for that bus from L\n",
    "            L = np.delete(L, i-1, 1)\n",
    "            L = np.delete(L, i-1, 0)\n",
    "\n",
    "    Jac = np.block([[H, N], [J, L]])\n",
    "    return Jac"
   ]
  },
  {
   "attachments": {},
   "cell_type": "markdown",
   "metadata": {},
   "source": [
    "**Function for computing the increment matrix**"
   ]
  },
  {
   "cell_type": "code",
   "execution_count": 10,
   "metadata": {},
   "outputs": [],
   "source": [
    "def compute_increment(Jac, Delta_P, Delta_Q):\n",
    "    Delta_PQ = np.append(Delta_P, Delta_Q)\n",
    "    Delta_PAV = np.dot(inv(Jac), Delta_PQ)\n",
    "    Delta_PA = Delta_PAV[0:len(Delta_P)]\n",
    "    Delta_V = Delta_PAV[len(Delta_P):]\n",
    "\n",
    "    return Delta_PAV, Delta_PA, Delta_V"
   ]
  },
  {
   "attachments": {},
   "cell_type": "markdown",
   "metadata": {},
   "source": [
    "**Function for computing new values of $\\delta$ and $V$**"
   ]
  },
  {
   "cell_type": "code",
   "execution_count": 11,
   "metadata": {},
   "outputs": [],
   "source": [
    "def compute_new_PAV(Buses, V, PA, Delta_PA, Delta_V):\n",
    "    PA_new = np.zeros(Buses.shape[0])\n",
    "    V_new = np.zeros(Buses.shape[0])\n",
    "    PA_new[0] = PA[0]\n",
    "    V_new[0] = V[0]\n",
    "    incr = 0\n",
    "    for i in range(1, Buses.shape[0]):\n",
    "        PA_new[i] = PA[i] + Delta_PA[i-1]\n",
    "        # Buses[i][7] is Bus i's BusType, 3 is PQ\n",
    "        if Buses[i][7] == 3:\n",
    "            V_new[i] = V[i] + (Delta_V[incr])*V[i]\n",
    "            incr = incr + 1\n",
    "        else:\n",
    "            V_new[i] = V[i]\n",
    "    \n",
    "    return PA_new, V_new"
   ]
  },
  {
   "attachments": {},
   "cell_type": "markdown",
   "metadata": {},
   "source": [
    "**Function for checking if $\\delta$ and $V$ have converged**"
   ]
  },
  {
   "cell_type": "code",
   "execution_count": 12,
   "metadata": {},
   "outputs": [],
   "source": [
    "def check_convergence(Buses, V, PA, V_new, PA_new, ep):\n",
    "    convergence_PA = np.zeros(Buses.shape[0])\n",
    "    convergence_V = np.zeros(Buses.shape[0])\n",
    "    for i in range(Buses.shape[0]):\n",
    "        convergence_PA[i] = abs(PA_new[i] - PA[i])\n",
    "        convergence_V[i] = abs(V_new[i] - V[i])\n",
    "    for i in range(Buses.shape[0]):\n",
    "        if (convergence_PA[i] > ep):\n",
    "            return False\n",
    "        # Buses[i][7] is Bus i's BusType, 3 is PQ\n",
    "        if Buses[i][7] == 3:\n",
    "            if(convergence_V[i] > ep):\n",
    "                return False\n",
    "    # If this line is reached, all convergence levels are <= ep\n",
    "    return True"
   ]
  },
  {
   "attachments": {},
   "cell_type": "markdown",
   "metadata": {},
   "source": [
    "**Function for loading calculated values into Bus array**"
   ]
  },
  {
   "cell_type": "code",
   "execution_count": 13,
   "metadata": {},
   "outputs": [],
   "source": [
    "def load_values(Buses, oldBuses, V_new, PA_new):\n",
    "    # Load calculated values into Buses and change altered PV buses back to PV\n",
    "        for i in range(Buses.shape[0]):\n",
    "            # Buses[i][6] is Bus i's PA\n",
    "            Buses[i][6] = PA_new[i]\n",
    "            # Buses[i][5] is Bus i's V\n",
    "            Buses[i][5] = V_new[i]\n",
    "            # Buses[i][7] is Bus i's BusType, 3 is PQ, 2 is PV\n",
    "            if (Buses[i][7] == 3) and (oldBuses[i][7] == 2):\n",
    "                Buses[i][7] = 2"
   ]
  },
  {
   "attachments": {},
   "cell_type": "markdown",
   "metadata": {},
   "source": [
    "**Function for calculating injected P and Q values**"
   ]
  },
  {
   "cell_type": "code",
   "execution_count": 14,
   "metadata": {},
   "outputs": [],
   "source": [
    "def calculate_injected(Buses, G, B):\n",
    "    for i in range(1, Buses.shape[0]):\n",
    "        # Buses[i][7] is Bus i's BusType, 3 is PQ\n",
    "        if Buses[i][7] == 2:\n",
    "            for j in range(Buses.shape[0]):\n",
    "                # Buses[i][2] is Bus i's QG, [i][5] is V, [i][6] is PA\n",
    "                Buses[i][2] = Buses[i][2]+Buses[i][5]*Buses[j][5]*(G[i][j]*np.sin(Buses[i][6]-Buses[j][6])-B[i][j]*np.cos(Buses[i][6]-Buses[j][6]))"
   ]
  },
  {
   "attachments": {},
   "cell_type": "markdown",
   "metadata": {},
   "source": [
    "**Function for using Newton Raphson for Power Flow Problem**"
   ]
  },
  {
   "cell_type": "code",
   "execution_count": 15,
   "metadata": {},
   "outputs": [],
   "source": [
    "def NR(oldBuses, Branches, Q_min, Q_max, ep):\n",
    "    # Make a copy of the old buses to retain its data\n",
    "    Buses = np.copy(oldBuses)\n",
    "\n",
    "    # Load information on P, Q, V, and PA into variables\n",
    "    P = []\n",
    "    Q = []\n",
    "    V = []\n",
    "    PA = []\n",
    "    for i in Buses:\n",
    "        V.append(i[5])\n",
    "        PA.append(i[6])\n",
    "        if i[7] == 2:\n",
    "            P.append(i[1])\n",
    "            Q.append(i[2])\n",
    "        else:\n",
    "            P.append(i[3])\n",
    "            Q.append(i[4])\n",
    "    P = np.array(P)\n",
    "    Q = np.array(Q)\n",
    "    V = np.array(V)\n",
    "    PA = np.array(PA)\n",
    "\n",
    "    # Value calculations\n",
    "    GA, LA = create_GA_LA(Buses, Branches)\n",
    "    Y, G, B = create_Ybus(Buses, GA, LA)\n",
    "    init_unknown(V, PA)\n",
    "\n",
    "    total_iterations = 0 # Total iterations of NR\n",
    "    iterations = 0 # Iterations since limit check last failed\n",
    "    # Perform NR method iteratively\n",
    "    # Stop condition handled within the loop\n",
    "    it = 0\n",
    "    while(True):\n",
    "        P_new, Q_new = compute_powers(Buses, V, PA, G, B)\n",
    "        # If limit check fails, treat ith PV bus as PQ bus and recompute powers\n",
    "        if not check_limits(Buses, V, Q_new, Q_min, Q_max):\n",
    "            iterations = 0\n",
    "            P_new, Q_new = compute_powers(Buses, V, PA, G, B)\n",
    "        Delta_P, Delta_Q = compute_power_mismatches(Buses, P, Q, P_new, Q_new)\n",
    "        Jac = compute_Jacobian(Buses, P_new, Q_new, V, PA, G, B)\n",
    "        Delta_PAV, Delta_PA, Delta_V = compute_increment(Jac, Delta_P, Delta_Q)\n",
    "        PA_new, V_new = compute_new_PAV(Buses, V, PA, Delta_PA, Delta_V)\n",
    "        total_iterations += 1\n",
    "        iterations += 1\n",
    "        # If convergence has been reached, exit loop\n",
    "        if check_convergence(Buses, V, PA, V_new, PA_new, ep):\n",
    "            break\n",
    "        V = V_new\n",
    "        PA = PA_new\n",
    "\n",
    "        it += 1\n",
    "\n",
    "    load_values(Buses, oldBuses, V_new, PA_new)    \n",
    "    calculate_injected(Buses, G, B)\n",
    "\n",
    "    # Print Data\n",
    "    print(\"\\nTotal nmber of iterations: \", total_iterations)\n",
    "    print(\"Iterations since last limit check failure: \", iterations)\n",
    "    print(\"\\nOld Voltages:\\n\", oldBuses[:,5])\n",
    "    print(\"\\nNew Voltages:\\n\", Buses[:,5])    \n",
    "    print(\"\\nOld Phase Angles:\\n\", oldBuses[:,6])\n",
    "    print(\"\\nNew Phase Angles:\\n\", Buses[:,6])\n",
    "    print(\"\\nOld Bus Values:\\n\", oldBuses, \"\\n\")\n",
    "    print(\"New Bus Values (after NR):\\n\", Buses, \"\\n\")\n",
    "\n",
    "    return Buses"
   ]
  },
  {
   "cell_type": "code",
   "execution_count": 16,
   "metadata": {},
   "outputs": [
    {
     "name": "stdout",
     "output_type": "stream",
     "text": [
      "\n",
      "Total nmber of iterations:  6\n",
      "Iterations since last limit check failure:  6\n",
      "\n",
      "Old Voltages:\n",
      " [1. 1. 1. 1. 1. 1. 1. 1. 1.]\n",
      "\n",
      "New Voltages:\n",
      " [1.         1.         1.         0.95882269 0.93189107 0.97631141\n",
      " 0.94983662 0.96916012 0.91554272]\n",
      "\n",
      "Old Phase Angles:\n",
      " [0. 0. 0. 0. 0. 0. 0. 0. 0.]\n",
      "\n",
      "New Phase Angles:\n",
      " [ 0.          0.1641205   0.08434231 -0.03952745 -0.06641806  0.03554824\n",
      "  0.00582116  0.06584373 -0.0761943 ]\n",
      "\n",
      "Old Bus Values:\n",
      " [[ 1.    0.    0.    0.    0.    1.    0.    1.  ]\n",
      " [ 2.    1.63  0.    0.    0.    1.    0.    2.  ]\n",
      " [ 3.    0.85  0.    0.    0.    1.    0.    2.  ]\n",
      " [ 4.    0.    0.    0.    0.    1.    0.    3.  ]\n",
      " [ 5.    0.    0.   -0.9  -0.3   1.    0.    3.  ]\n",
      " [ 6.    0.    0.    0.    0.    1.    0.    3.  ]\n",
      " [ 7.    0.    0.   -1.   -0.35  1.    0.    3.  ]\n",
      " [ 8.    0.    0.    0.    0.    1.    0.    3.  ]\n",
      " [ 9.    0.    0.   -1.25 -0.5   1.    0.    3.  ]] \n",
      "\n",
      "New Bus Values (after NR):\n",
      " [[ 1.00000000e+00  0.00000000e+00  0.00000000e+00  0.00000000e+00\n",
      "   0.00000000e+00  1.00000000e+00  0.00000000e+00  1.00000000e+00]\n",
      " [ 2.00000000e+00  1.63000000e+00  5.68261584e-01  0.00000000e+00\n",
      "   0.00000000e+00  1.00000000e+00  1.64120497e-01  2.00000000e+00]\n",
      " [ 3.00000000e+00  8.50000000e-01  4.24071574e-01  0.00000000e+00\n",
      "   0.00000000e+00  1.00000000e+00  8.43423084e-02  2.00000000e+00]\n",
      " [ 4.00000000e+00  0.00000000e+00  0.00000000e+00  0.00000000e+00\n",
      "   0.00000000e+00  9.58822688e-01 -3.95274539e-02  3.00000000e+00]\n",
      " [ 5.00000000e+00  0.00000000e+00  0.00000000e+00 -9.00000000e-01\n",
      "  -3.00000000e-01  9.31891069e-01 -6.64180582e-02  3.00000000e+00]\n",
      " [ 6.00000000e+00  0.00000000e+00  0.00000000e+00  0.00000000e+00\n",
      "   0.00000000e+00  9.76311406e-01  3.55482416e-02  3.00000000e+00]\n",
      " [ 7.00000000e+00  0.00000000e+00  0.00000000e+00 -1.00000000e+00\n",
      "  -3.50000000e-01  9.49836617e-01  5.82116358e-03  3.00000000e+00]\n",
      " [ 8.00000000e+00  0.00000000e+00  0.00000000e+00  0.00000000e+00\n",
      "   0.00000000e+00  9.69160116e-01  6.58437298e-02  3.00000000e+00]\n",
      " [ 9.00000000e+00  0.00000000e+00  0.00000000e+00 -1.25000000e+00\n",
      "  -5.00000000e-01  9.15542720e-01 -7.61943036e-02  3.00000000e+00]] \n",
      "\n"
     ]
    },
    {
     "data": {
      "text/plain": [
       "array([[ 1.00000000e+00,  0.00000000e+00,  0.00000000e+00,\n",
       "         0.00000000e+00,  0.00000000e+00,  1.00000000e+00,\n",
       "         0.00000000e+00,  1.00000000e+00],\n",
       "       [ 2.00000000e+00,  1.63000000e+00,  5.68261584e-01,\n",
       "         0.00000000e+00,  0.00000000e+00,  1.00000000e+00,\n",
       "         1.64120497e-01,  2.00000000e+00],\n",
       "       [ 3.00000000e+00,  8.50000000e-01,  4.24071574e-01,\n",
       "         0.00000000e+00,  0.00000000e+00,  1.00000000e+00,\n",
       "         8.43423084e-02,  2.00000000e+00],\n",
       "       [ 4.00000000e+00,  0.00000000e+00,  0.00000000e+00,\n",
       "         0.00000000e+00,  0.00000000e+00,  9.58822688e-01,\n",
       "        -3.95274539e-02,  3.00000000e+00],\n",
       "       [ 5.00000000e+00,  0.00000000e+00,  0.00000000e+00,\n",
       "        -9.00000000e-01, -3.00000000e-01,  9.31891069e-01,\n",
       "        -6.64180582e-02,  3.00000000e+00],\n",
       "       [ 6.00000000e+00,  0.00000000e+00,  0.00000000e+00,\n",
       "         0.00000000e+00,  0.00000000e+00,  9.76311406e-01,\n",
       "         3.55482416e-02,  3.00000000e+00],\n",
       "       [ 7.00000000e+00,  0.00000000e+00,  0.00000000e+00,\n",
       "        -1.00000000e+00, -3.50000000e-01,  9.49836617e-01,\n",
       "         5.82116358e-03,  3.00000000e+00],\n",
       "       [ 8.00000000e+00,  0.00000000e+00,  0.00000000e+00,\n",
       "         0.00000000e+00,  0.00000000e+00,  9.69160116e-01,\n",
       "         6.58437298e-02,  3.00000000e+00],\n",
       "       [ 9.00000000e+00,  0.00000000e+00,  0.00000000e+00,\n",
       "        -1.25000000e+00, -5.00000000e-01,  9.15542720e-01,\n",
       "        -7.61943036e-02,  3.00000000e+00]])"
      ]
     },
     "execution_count": 16,
     "metadata": {},
     "output_type": "execute_result"
    }
   ],
   "source": [
    "NR(bus_arr, branch_arr, reactive_min, reactive_max, 10**-2)"
   ]
  }
 ],
 "metadata": {
  "kernelspec": {
   "display_name": "Python 3",
   "language": "python",
   "name": "python3"
  },
  "language_info": {
   "codemirror_mode": {
    "name": "ipython",
    "version": 3
   },
   "file_extension": ".py",
   "mimetype": "text/x-python",
   "name": "python",
   "nbconvert_exporter": "python",
   "pygments_lexer": "ipython3",
   "version": "3.10.4"
  },
  "orig_nbformat": 4
 },
 "nbformat": 4,
 "nbformat_minor": 2
}
