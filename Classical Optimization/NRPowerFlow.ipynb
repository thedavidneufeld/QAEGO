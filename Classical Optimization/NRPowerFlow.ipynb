{
 "cells": [
  {
   "attachments": {},
   "cell_type": "markdown",
   "metadata": {},
   "source": [
    "This code is the general case for the problem found in 5.3.4 of the textbook Power Flow Analysis by N. V. Ramana"
   ]
  },
  {
   "attachments": {},
   "cell_type": "markdown",
   "metadata": {},
   "source": [
    "**Imports**"
   ]
  },
  {
   "cell_type": "code",
   "execution_count": 1,
   "metadata": {},
   "outputs": [],
   "source": [
    "import numpy as np\n",
    "from numpy.linalg import inv"
   ]
  },
  {
   "attachments": {},
   "cell_type": "markdown",
   "metadata": {},
   "source": [
    "**Initial Values**"
   ]
  },
  {
   "cell_type": "code",
   "execution_count": 2,
   "metadata": {},
   "outputs": [
    {
     "data": {
      "text/plain": [
       "array([-0.9,  1.4, -1.1])"
      ]
     },
     "metadata": {},
     "output_type": "display_data"
    },
    {
     "data": {
      "text/plain": [
       "array([-0.4,  0. , -0.4])"
      ]
     },
     "metadata": {},
     "output_type": "display_data"
    },
    {
     "data": {
      "text/plain": [
       "array([1.02, 1.03, 0.  ])"
      ]
     },
     "metadata": {},
     "output_type": "display_data"
    },
    {
     "data": {
      "text/plain": [
       "array([0., 0., 0.])"
      ]
     },
     "metadata": {},
     "output_type": "display_data"
    }
   ],
   "source": [
    "# The bus data\n",
    "# For each bus the data is as follows:\n",
    "# 0:BusNum, 1:PG, 2:QG, 3:PD, 4:QD, 5:V, 6:PA, 7:BusType\n",
    "# Where BusType 1 is Slack, 2 is PV, and 3 is PQ\n",
    "Buses = np.array([[1, 0, 0, -0.9, -0.4, 1.02, 0, 1], [2, 1.4, 0, 0, 0, 1.03, 0, 2], [3, 0, 0, -1.1, -0.4, 0, 0, 3]])\n",
    "\n",
    "# Load information on P, Q, V, and PA into variables\n",
    "P = []\n",
    "Q = []\n",
    "V = []\n",
    "PA = []\n",
    "for i in Buses:\n",
    "    V.append(i[5])\n",
    "    PA.append(i[6])\n",
    "    if i[7] == 2:\n",
    "        P.append(i[1])\n",
    "        Q.append(i[2])\n",
    "    else:\n",
    "        P.append(i[3])\n",
    "        Q.append(i[4])\n",
    "\n",
    "P = np.array(P)\n",
    "Q = np.array(Q)\n",
    "V = np.array(V)\n",
    "PA = np.array(PA)        \n",
    "display(P)\n",
    "display(Q)\n",
    "display(V)\n",
    "display(PA)"
   ]
  },
  {
   "cell_type": "code",
   "execution_count": 3,
   "metadata": {},
   "outputs": [],
   "source": [
    "# The series impedance of each line\n",
    "# Note that Buses.shape[0] is the number of rows in Buses (ie. the number of buses)\n",
    "SI = np.empty(Buses.shape[0], dtype = complex)\n",
    "SI.fill(complex(0.025, 0.1))"
   ]
  },
  {
   "attachments": {},
   "cell_type": "markdown",
   "metadata": {},
   "source": [
    "**Form J, Y<sub>bus</sub>, G, and B**"
   ]
  },
  {
   "cell_type": "code",
   "execution_count": 4,
   "metadata": {},
   "outputs": [
    {
     "data": {
      "text/plain": [
       "array([[ 4.70588235-18.82352941j, -2.35294118 +9.41176471j,\n",
       "        -2.35294118 +9.41176471j],\n",
       "       [-2.35294118 +9.41176471j,  4.70588235-18.82352941j,\n",
       "        -2.35294118 +9.41176471j],\n",
       "       [-2.35294118 +9.41176471j, -2.35294118 +9.41176471j,\n",
       "         4.70588235-18.82352941j]])"
      ]
     },
     "metadata": {},
     "output_type": "display_data"
    },
    {
     "data": {
      "text/plain": [
       "array([[ 4.70588235, -2.35294118, -2.35294118],\n",
       "       [-2.35294118,  4.70588235, -2.35294118],\n",
       "       [-2.35294118, -2.35294118,  4.70588235]])"
      ]
     },
     "metadata": {},
     "output_type": "display_data"
    },
    {
     "data": {
      "text/plain": [
       "array([[-18.82352941,   9.41176471,   9.41176471],\n",
       "       [  9.41176471, -18.82352941,   9.41176471],\n",
       "       [  9.41176471,   9.41176471, -18.82352941]])"
      ]
     },
     "metadata": {},
     "output_type": "display_data"
    }
   ],
   "source": [
    "SA = 1/SI\n",
    "Y = np.zeros((Buses.shape[0], Buses.shape[0]),  dtype = complex)\n",
    "for i in range(Y.shape[0]):\n",
    "    for j in range (Y.shape[1]):\n",
    "        if i != j:\n",
    "            Y[i, j] = Y[i, j] - SA[i]\n",
    "            Y[i, i] = Y[i, i] + SA[i]\n",
    "            \n",
    "G = Y.real\n",
    "B = Y.imag\n",
    "display(Y)\n",
    "display(G)\n",
    "display(B)"
   ]
  },
  {
   "attachments": {},
   "cell_type": "markdown",
   "metadata": {},
   "source": [
    "**Compute Powers**"
   ]
  },
  {
   "cell_type": "code",
   "execution_count": 5,
   "metadata": {},
   "outputs": [
    {
     "data": {
      "text/plain": [
       "array([1.02, 1.03, 1.  ])"
      ]
     },
     "execution_count": 5,
     "metadata": {},
     "output_type": "execute_result"
    }
   ],
   "source": [
    "# Flat start for bus voltages\n",
    "# Unknown values for bus volage will be set to 1\n",
    "for i in range(V.size):\n",
    "    if V[i] == 0:\n",
    "        V[i] = 1\n",
    "        \n",
    "V"
   ]
  },
  {
   "cell_type": "code",
   "execution_count": 6,
   "metadata": {},
   "outputs": [
    {
     "data": {
      "text/plain": [
       "array([ 0.        ,  0.09694118, -0.11764706])"
      ]
     },
     "metadata": {},
     "output_type": "display_data"
    },
    {
     "data": {
      "text/plain": [
       "array([ 0.        ,  0.38776471, -0.47058824])"
      ]
     },
     "metadata": {},
     "output_type": "display_data"
    }
   ],
   "source": [
    "P_new = np.zeros(Buses.shape[0])\n",
    "Q_new = np.zeros(Buses.shape[0])\n",
    "# We don't need to calculate for the slack bus (the first bus), so we start at the second bus\n",
    "for i in range(1, Buses.shape[0]):\n",
    "    for j in range (Buses.shape[0]):\n",
    "        P_new[i] = P_new[i]+V[i]*V[j]*(G[i][j]*np.cos(PA[i]-PA[j])+B[i][j]*np.sin(PA[i]-PA[j]))\n",
    "        Q_new[i] = Q_new[i]+V[i]*V[j]*(G[i][j]*np.sin(PA[i]-PA[j])-B[i][j]*np.cos(PA[i]-PA[j]))\n",
    "        \n",
    "display(P_new)\n",
    "display(Q_new)"
   ]
  },
  {
   "cell_type": "markdown",
   "metadata": {},
   "source": [
    "**Compute Power Mismatches**"
   ]
  },
  {
   "cell_type": "code",
   "execution_count": 7,
   "metadata": {},
   "outputs": [
    {
     "data": {
      "text/plain": [
       "array([ 1.30305882, -0.98235294,  0.07058824])"
      ]
     },
     "execution_count": 7,
     "metadata": {},
     "output_type": "execute_result"
    }
   ],
   "source": [
    "Delta_P = []\n",
    "Delta_Q = []\n",
    "for i in range(1, Buses.shape[0]):\n",
    "    # Buses[i][7] is Bus i's BusType, 2 is PV\n",
    "    if Buses[i][7] == 2:\n",
    "        Delta_P.append(P[i] - P_new[i])\n",
    "    # else (PQ)\n",
    "    else:\n",
    "        Delta_P.append(P[i] - P_new[i])\n",
    "        Delta_Q.append(Q[i] - Q_new[i])\n",
    "        \n",
    "P = P_new\n",
    "Q = Q_new\n",
    "Delta_PQ = np.append(Delta_P, Delta_Q)\n",
    "Delta_PQ"
   ]
  },
  {
   "attachments": {},
   "cell_type": "markdown",
   "metadata": {},
   "source": [
    "**Compute Jacobian Elements**"
   ]
  },
  {
   "cell_type": "code",
   "execution_count": 8,
   "metadata": {},
   "outputs": [
    {
     "data": {
      "text/plain": [
       "array([[19.58211765, -2.42352941],\n",
       "       [-2.42352941, 19.29411765]])"
      ]
     },
     "metadata": {},
     "output_type": "display_data"
    },
    {
     "data": {
      "text/plain": [
       "array([[9.69411765],\n",
       "       [4.58823529]])"
      ]
     },
     "metadata": {},
     "output_type": "display_data"
    },
    {
     "data": {
      "text/plain": [
       "array([[ 2.42352941, -4.82352941]])"
      ]
     },
     "metadata": {},
     "output_type": "display_data"
    },
    {
     "data": {
      "text/plain": [
       "array([[18.35294118]])"
      ]
     },
     "metadata": {},
     "output_type": "display_data"
    }
   ],
   "source": [
    "H = np.zeros((Buses.shape[0]-1, Buses.shape[0]-1))\n",
    "N = np.zeros((Buses.shape[0]-1, Buses.shape[0]-1))\n",
    "J = np.zeros((Buses.shape[0]-1, Buses.shape[0]-1))\n",
    "L = np.zeros((Buses.shape[0]-1, Buses.shape[0]-1))\n",
    "for i in range(1, Buses.shape[0]):\n",
    "    for j in range(1, Buses.shape[0]):\n",
    "        if i == j:\n",
    "            H[i-1][j-1] = -Q[i]-B[i][i]*(V[i]**2)\n",
    "            # Buses[i][7] is Bus i's BusType, 2 is PV\n",
    "            if Buses[i][7] != 2:\n",
    "                N[i-1][j-1] = P[i]+G[i][i]*(V[i]**2)\n",
    "                J[i-1][j-1] = P[i]-G[i][i]*(V[i]**2)\n",
    "                L[i-1][j-1] = Q[i]-B[i][i]*(V[i]**2)\n",
    "        else:\n",
    "            H[i-1][j-1] = V[i]*V[j]*(G[i][j]*np.cos(PA[i]-PA[j])+B[i][j]*np.sin(PA[i]-PA[j]))\n",
    "            if Buses[j][7] != 2:\n",
    "                N[i-1][j-1] = V[j]*V[i]*(G[i][j]*np.sin(PA[i]-PA[j])+B[i][j]*np.cos(PA[i]-PA[j]))\n",
    "            if Buses[i][7] != 2:\n",
    "                J[i-1][j-1] = -V[i]*V[j]*(G[i][j]*np.cos(PA[i]-PA[j])+B[i][j]*np.sin(PA[i]-PA[j]))\n",
    "            if Buses[i][7] != 2 and Buses[j][7] != 2:\n",
    "                L[i-1][j-1] = V[j]*V[i]*(G[i][j]*np.sin(PA[i]-PA[j])-B[i][j]*np.cos(PA[i]-PA[j]))\n",
    "\n",
    "for i in reversed(range(1, Buses.shape[0])):\n",
    "    if Buses[i][7] == 2:\n",
    "        # If Bus i is PV, remove column for that bus from N\n",
    "        N = np.delete(N, i-1, 1)\n",
    "        # If Bus i is PV, remove row for that bus from J\n",
    "        J = np.delete(J, i-1, 0)\n",
    "        # If Bus i is PV, remove row and column for that bus from L\n",
    "        L = np.delete(L, i-1, 1)\n",
    "        L = np.delete(L, i-1, 0)\n",
    "        \n",
    "display(H)\n",
    "display(N)\n",
    "display(J)\n",
    "display(L)"
   ]
  },
  {
   "cell_type": "code",
   "execution_count": 9,
   "metadata": {},
   "outputs": [
    {
     "data": {
      "text/plain": [
       "array([[19.58211765, -2.42352941,  9.69411765],\n",
       "       [-2.42352941, 19.29411765,  4.58823529],\n",
       "       [ 2.42352941, -4.82352941, 18.35294118]])"
      ]
     },
     "execution_count": 9,
     "metadata": {},
     "output_type": "execute_result"
    }
   ],
   "source": [
    "Jac = np.block([[H, N], [J, L]])\n",
    "Jac"
   ]
  },
  {
   "attachments": {},
   "cell_type": "markdown",
   "metadata": {},
   "source": [
    "**Compute Increment Matrix**"
   ]
  },
  {
   "cell_type": "code",
   "execution_count": 10,
   "metadata": {},
   "outputs": [
    {
     "data": {
      "text/plain": [
       "array([ 0.06942201, -0.03852157, -0.01544537])"
      ]
     },
     "metadata": {},
     "output_type": "display_data"
    },
    {
     "data": {
      "text/plain": [
       "array([ 0.06942201, -0.03852157])"
      ]
     },
     "metadata": {},
     "output_type": "display_data"
    },
    {
     "data": {
      "text/plain": [
       "array([-0.01544537])"
      ]
     },
     "metadata": {},
     "output_type": "display_data"
    }
   ],
   "source": [
    "Delta_PhaseV = np.dot(inv(Jac), Delta_PQ)\n",
    "Delta_Phase = Delta_PhaseV[0:len(Delta_P)]\n",
    "Delta_V = Delta_PhaseV[len(Delta_P):]\n",
    "display(Delta_PhaseV)\n",
    "display(Delta_Phase)\n",
    "display(Delta_V)"
   ]
  },
  {
   "attachments": {},
   "cell_type": "markdown",
   "metadata": {},
   "source": [
    "**$\\delta$ and $V$**"
   ]
  },
  {
   "cell_type": "code",
   "execution_count": 11,
   "metadata": {},
   "outputs": [
    {
     "data": {
      "text/plain": [
       "array([ 0.        ,  0.06942201, -0.03852157])"
      ]
     },
     "metadata": {},
     "output_type": "display_data"
    },
    {
     "data": {
      "text/plain": [
       "array([0.        , 0.        , 0.98455463])"
      ]
     },
     "metadata": {},
     "output_type": "display_data"
    }
   ],
   "source": [
    "PA_new = np.zeros(Buses.shape[0])\n",
    "V_new = np.zeros(Buses.shape[0])\n",
    "incr = 0\n",
    "for i in range(1, Buses.shape[0]):\n",
    "    PA_new[i] = PA[i] + Delta_PhaseV[i-1]\n",
    "    # Buses[i][7] is Bus i's BusType, 2 is PV\n",
    "    if Buses[i][7] != 2:\n",
    "        V_new[i] = V[i] + (Delta_V[incr]/V[i])*V[i]\n",
    "        incr = incr + 1\n",
    "        \n",
    "PA = PA_new\n",
    "V = V_new\n",
    "display(PA_new)\n",
    "display(V_new)"
   ]
  }
 ],
 "metadata": {
  "kernelspec": {
   "display_name": "Python 3",
   "language": "python",
   "name": "python3"
  },
  "language_info": {
   "codemirror_mode": {
    "name": "ipython",
    "version": 3
   },
   "file_extension": ".py",
   "mimetype": "text/x-python",
   "name": "python",
   "nbconvert_exporter": "python",
   "pygments_lexer": "ipython3",
   "version": "3.10.4"
  },
  "orig_nbformat": 4,
  "vscode": {
   "interpreter": {
    "hash": "aee8b7b246df8f9039afb4144a1f6fd8d2ca17a180786b69acc140d282b71a49"
   }
  }
 },
 "nbformat": 4,
 "nbformat_minor": 2
}
