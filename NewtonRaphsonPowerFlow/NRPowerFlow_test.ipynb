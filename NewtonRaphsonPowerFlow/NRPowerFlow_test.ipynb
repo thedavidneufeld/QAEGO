{
 "cells": [
  {
   "attachments": {},
   "cell_type": "markdown",
   "metadata": {},
   "source": [
    "**Imports**"
   ]
  },
  {
   "cell_type": "code",
   "execution_count": 1,
   "metadata": {},
   "outputs": [],
   "source": [
    "from PowerFlow import PowerData, NRPF"
   ]
  },
  {
   "attachments": {},
   "cell_type": "markdown",
   "metadata": {},
   "source": [
    "**Load case data as given in 5.3.4 of Power Flow Analysis by N.V. Ramana (also found in case3.m)**"
   ]
  },
  {
   "cell_type": "code",
   "execution_count": 2,
   "metadata": {},
   "outputs": [],
   "source": [
    "case3 = PowerData()\n",
    "case3.loadcasedata('case3.m')"
   ]
  },
  {
   "cell_type": "code",
   "execution_count": 3,
   "metadata": {},
   "outputs": [
    {
     "name": "stdout",
     "output_type": "stream",
     "text": [
      "[[1.   0.9  0.4  1.02 0.   1.  ]\n",
      " [2.   0.   0.   1.03 0.   2.  ]\n",
      " [3.   1.1  0.4  1.   0.   3.  ]] \n",
      "\n",
      "[[ 1.    0.    0.    1.02 -1.    1.  ]\n",
      " [ 2.    1.4   0.    1.03 -1.    1.  ]] \n",
      "\n",
      "[[1.   +0.j  2.   +0.j  0.025+0.1j]\n",
      " [1.   +0.j  3.   +0.j  0.025+0.1j]\n",
      " [2.   +0.j  3.   +0.j  0.025+0.1j]]\n"
     ]
    }
   ],
   "source": [
    "print(case3.buses, '\\n')\n",
    "print(case3.gens, '\\n')\n",
    "print(case3.branches)"
   ]
  },
  {
   "attachments": {},
   "cell_type": "markdown",
   "metadata": {},
   "source": [
    "**Initialize Solvers**"
   ]
  },
  {
   "cell_type": "code",
   "execution_count": 4,
   "metadata": {},
   "outputs": [],
   "source": [
    "# Classical\n",
    "pf = NRPF()\n",
    "# HHL\n",
    "pf_hhl = NRPF('hhl')"
   ]
  },
  {
   "attachments": {},
   "cell_type": "markdown",
   "metadata": {},
   "source": [
    "**Solve case3 classically**"
   ]
  },
  {
   "cell_type": "code",
   "execution_count": 5,
   "metadata": {},
   "outputs": [
    {
     "name": "stdout",
     "output_type": "stream",
     "text": [
      "\n",
      "Total nmber of iterations:  4\n",
      "Iterations since last limit check failure:  4\n",
      "\n",
      "Old Voltages:\n",
      " [1.02 1.03 1.  ]\n",
      "\n",
      "New Voltages:\n",
      " [1.02       1.03       0.98926027]\n",
      "\n",
      "Old Phase Angles:\n",
      " [0. 0. 0.]\n",
      "\n",
      "New Phase Angles:\n",
      " [ 0.          3.10386918 -1.26793587]\n",
      "\n",
      "Old Bus Values:\n",
      " [[1.   0.9  0.4  1.02 0.   1.  ]\n",
      " [2.   0.   0.   1.03 0.   2.  ]\n",
      " [3.   1.1  0.4  1.   0.   3.  ]] \n",
      "\n",
      "New Bus Values (after NR):\n",
      " [[ 1.          0.9         0.4         1.02        0.          1.        ]\n",
      " [ 2.          0.          0.          1.03        3.10386918  2.        ]\n",
      " [ 3.          1.1         0.4         0.98926027 -1.26793587  3.        ]] \n",
      "\n"
     ]
    }
   ],
   "source": [
    "c3_pf = pf.NR(case3, 1e-8)"
   ]
  },
  {
   "attachments": {},
   "cell_type": "markdown",
   "metadata": {},
   "source": [
    "**Solve case3 classically with NR_PC solver**"
   ]
  },
  {
   "cell_type": "code",
   "execution_count": 6,
   "metadata": {},
   "outputs": [
    {
     "name": "stdout",
     "output_type": "stream",
     "text": [
      "\n",
      "Total nmber of iterations:  4\n",
      "Iterations since last limit check failure:  4\n",
      "\n",
      "Old Voltages:\n",
      " [1.02 1.03 1.  ]\n",
      "\n",
      "New Voltages:\n",
      " [1.02       1.03       0.98926027]\n",
      "\n",
      "Old Phase Angles:\n",
      " [0. 0. 0.]\n",
      "\n",
      "New Phase Angles:\n",
      " [ 0.          3.10386918 -1.26793587]\n",
      "\n",
      "Old Bus Values:\n",
      " [[1.   0.9  0.4  1.02 0.   1.  ]\n",
      " [2.   0.   0.   1.03 0.   2.  ]\n",
      " [3.   1.1  0.4  1.   0.   3.  ]] \n",
      "\n",
      "New Bus Values (after NR):\n",
      " [[ 1.          0.9         0.4         1.02        0.          1.        ]\n",
      " [ 2.          0.          0.          1.03        3.10386918  2.        ]\n",
      " [ 3.          1.1         0.4         0.98926027 -1.26793587  3.        ]] \n",
      "\n"
     ]
    }
   ],
   "source": [
    "c3_pc = pf.NR_PC(case3, 1e-8)"
   ]
  },
  {
   "attachments": {},
   "cell_type": "markdown",
   "metadata": {},
   "source": [
    "**Solve case3 with hhl**"
   ]
  },
  {
   "cell_type": "code",
   "execution_count": 7,
   "metadata": {},
   "outputs": [
    {
     "name": "stdout",
     "output_type": "stream",
     "text": [
      "Delta_PAV difference at iteration  1 :\n",
      " 0.0036156327861971162 \n",
      "\n",
      "Delta_PAV difference at iteration  2 :\n",
      " 0.0002797605240416431 \n",
      "\n",
      "Delta_PAV difference at iteration  3 :\n",
      " 2.1845102075414193e-05 \n",
      "\n",
      "Delta_PAV difference at iteration  4 :\n",
      " 1.6773455776026918e-06 \n",
      "\n",
      "Delta_PAV difference at iteration  5 :\n",
      " 1.2872455781018092e-07 \n",
      "\n",
      "Delta_PAV difference at iteration  6 :\n",
      " 9.87839460708397e-09 \n",
      "\n",
      "Delta_PAV difference at iteration  7 :\n",
      " 7.580714481376128e-10 \n",
      "\n",
      "\n",
      "Total nmber of iterations:  7\n",
      "Iterations since last limit check failure:  7\n",
      "\n",
      "Old Voltages:\n",
      " [1.02 1.03 1.  ]\n",
      "\n",
      "New Voltages:\n",
      " [1.02       1.03       0.98926027]\n",
      "\n",
      "Old Phase Angles:\n",
      " [0. 0. 0.]\n",
      "\n",
      "New Phase Angles:\n",
      " [ 0.          3.10386915 -1.26793584]\n",
      "\n",
      "Old Bus Values:\n",
      " [[1.   0.9  0.4  1.02 0.   1.  ]\n",
      " [2.   0.   0.   1.03 0.   2.  ]\n",
      " [3.   1.1  0.4  1.   0.   3.  ]] \n",
      "\n",
      "New Bus Values (after NR):\n",
      " [[ 1.          0.9         0.4         1.02        0.          1.        ]\n",
      " [ 2.          0.          0.          1.03        3.10386915  2.        ]\n",
      " [ 3.          1.1         0.4         0.98926027 -1.26793584  3.        ]] \n",
      "\n"
     ]
    }
   ],
   "source": [
    "c3_hhl = pf_hhl.NR(case3, 1e-8)"
   ]
  },
  {
   "attachments": {},
   "cell_type": "markdown",
   "metadata": {},
   "source": [
    "**Solve case3 with hhl and NR_PC solver**"
   ]
  },
  {
   "cell_type": "code",
   "execution_count": 8,
   "metadata": {},
   "outputs": [
    {
     "name": "stdout",
     "output_type": "stream",
     "text": [
      "Delta_PAV difference at iteration  1 :\n",
      " 0.0036156327861971162 \n",
      "\n",
      "Delta_PAV difference at iteration  2 :\n",
      " 0.00028243146136242703 \n",
      "\n",
      "Delta_PAV difference at iteration  3 :\n",
      " 2.1726285468653736e-05 \n",
      "\n",
      "Delta_PAV difference at iteration  4 :\n",
      " 1.667730756378226e-06 \n",
      "\n",
      "Delta_PAV difference at iteration  5 :\n",
      " 1.2798577828118244e-07 \n",
      "\n",
      "Delta_PAV difference at iteration  6 :\n",
      " 9.821694335009272e-09 \n",
      "\n",
      "Delta_PAV difference at iteration  7 :\n",
      " 7.537202264547843e-10 \n",
      "\n",
      "\n",
      "Total nmber of iterations:  7\n",
      "Iterations since last limit check failure:  7\n",
      "\n",
      "Old Voltages:\n",
      " [1.02 1.03 1.  ]\n",
      "\n",
      "New Voltages:\n",
      " [1.02       1.03       0.98926027]\n",
      "\n",
      "Old Phase Angles:\n",
      " [0. 0. 0.]\n",
      "\n",
      "New Phase Angles:\n",
      " [ 0.          3.10386915 -1.26793584]\n",
      "\n",
      "Old Bus Values:\n",
      " [[1.   0.9  0.4  1.02 0.   1.  ]\n",
      " [2.   0.   0.   1.03 0.   2.  ]\n",
      " [3.   1.1  0.4  1.   0.   3.  ]] \n",
      "\n",
      "New Bus Values (after NR):\n",
      " [[ 1.          0.9         0.4         1.02        0.          1.        ]\n",
      " [ 2.          0.          0.          1.03        3.10386915  2.        ]\n",
      " [ 3.          1.1         0.4         0.98926027 -1.26793584  3.        ]] \n",
      "\n"
     ]
    }
   ],
   "source": [
    "c3_pc_hhl = pf_hhl.NR_PC(case3, 1e-8)"
   ]
  },
  {
   "attachments": {},
   "cell_type": "markdown",
   "metadata": {},
   "source": [
    "**Load simplified case9Q data (found in case9Q_simplified.m)**"
   ]
  },
  {
   "cell_type": "code",
   "execution_count": 9,
   "metadata": {},
   "outputs": [],
   "source": [
    "case9Q = PowerData()\n",
    "case9Q.loadcasedata('case9Q_simplified.m')"
   ]
  },
  {
   "cell_type": "code",
   "execution_count": 10,
   "metadata": {},
   "outputs": [
    {
     "name": "stdout",
     "output_type": "stream",
     "text": [
      "[[1.   0.   0.   1.   0.   1.  ]\n",
      " [2.   0.   0.   1.   0.   2.  ]\n",
      " [3.   0.   0.   1.   0.   2.  ]\n",
      " [4.   0.   0.   1.   0.   3.  ]\n",
      " [5.   0.9  0.3  1.   0.   3.  ]\n",
      " [6.   0.   0.   1.   0.   3.  ]\n",
      " [7.   1.   0.35 1.   0.   3.  ]\n",
      " [8.   0.   0.   1.   0.   3.  ]\n",
      " [9.   1.25 0.5  1.   0.   3.  ]] \n",
      "\n",
      "[[ 1.    0.    0.    1.   -3.    3.  ]\n",
      " [ 2.    1.63  0.    1.   -3.    3.  ]\n",
      " [ 3.    0.85  0.    1.   -3.    3.  ]] \n",
      "\n",
      "[[1.00e+00+0.j     4.00e+00+0.j     0.00e+00+0.0576j]\n",
      " [3.00e+00+0.j     6.00e+00+0.j     0.00e+00+0.0586j]\n",
      " [4.00e+00+0.j     5.00e+00+0.j     1.70e-02+0.092j ]\n",
      " [5.00e+00+0.j     6.00e+00+0.j     3.90e-02+0.17j  ]\n",
      " [6.00e+00+0.j     7.00e+00+0.j     1.19e-02+0.1008j]\n",
      " [7.00e+00+0.j     8.00e+00+0.j     8.50e-03+0.072j ]\n",
      " [8.00e+00+0.j     2.00e+00+0.j     0.00e+00+0.0625j]\n",
      " [8.00e+00+0.j     9.00e+00+0.j     3.20e-02+0.161j ]\n",
      " [9.00e+00+0.j     4.00e+00+0.j     1.00e-02+0.085j ]]\n"
     ]
    }
   ],
   "source": [
    "print(case9Q.buses, '\\n')\n",
    "print(case9Q.gens, '\\n')\n",
    "print(case9Q.branches)"
   ]
  },
  {
   "attachments": {},
   "cell_type": "markdown",
   "metadata": {},
   "source": [
    "**Solve case9Q classically**"
   ]
  },
  {
   "cell_type": "code",
   "execution_count": 11,
   "metadata": {},
   "outputs": [
    {
     "name": "stdout",
     "output_type": "stream",
     "text": [
      "\n",
      "Total nmber of iterations:  10\n",
      "Iterations since last limit check failure:  10\n",
      "\n",
      "Old Voltages:\n",
      " [1. 1. 1. 1. 1. 1. 1. 1. 1.]\n",
      "\n",
      "New Voltages:\n",
      " [1.         1.         1.         0.9578338  0.93035453 0.97592289\n",
      " 0.94985357 0.96854393 0.91386352]\n",
      "\n",
      "Old Phase Angles:\n",
      " [0. 0. 0. 0. 0. 0. 0. 0. 0.]\n",
      "\n",
      "New Phase Angles:\n",
      " [ 0.         10.10311892  4.99505594 -2.50618964 -4.09037385  2.06947308\n",
      "  0.72918348  4.06537055 -4.52705075]\n",
      "\n",
      "Old Bus Values:\n",
      " [[1.   0.   0.   1.   0.   1.  ]\n",
      " [2.   0.   0.   1.   0.   2.  ]\n",
      " [3.   0.   0.   1.   0.   2.  ]\n",
      " [4.   0.   0.   1.   0.   3.  ]\n",
      " [5.   0.9  0.3  1.   0.   3.  ]\n",
      " [6.   0.   0.   1.   0.   3.  ]\n",
      " [7.   1.   0.35 1.   0.   3.  ]\n",
      " [8.   0.   0.   1.   0.   3.  ]\n",
      " [9.   1.25 0.5  1.   0.   3.  ]] \n",
      "\n",
      "New Bus Values (after NR):\n",
      " [[ 1.          0.          0.          1.          0.          1.        ]\n",
      " [ 2.          0.          0.          1.         10.10311892  2.        ]\n",
      " [ 3.          0.          0.          1.          4.99505594  2.        ]\n",
      " [ 4.          0.          0.          0.9578338  -2.50618964  3.        ]\n",
      " [ 5.          0.9         0.3         0.93035453 -4.09037385  3.        ]\n",
      " [ 6.          0.          0.          0.97592289  2.06947308  3.        ]\n",
      " [ 7.          1.          0.35        0.94985357  0.72918348  3.        ]\n",
      " [ 8.          0.          0.          0.96854393  4.06537055  3.        ]\n",
      " [ 9.          1.25        0.5         0.91386352 -4.52705075  3.        ]] \n",
      "\n"
     ]
    }
   ],
   "source": [
    "c9Q_pf = pf.NR(case9Q, 1e-8)"
   ]
  },
  {
   "attachments": {},
   "cell_type": "markdown",
   "metadata": {},
   "source": [
    "**Solve case9Q classically with NR_PC solver**"
   ]
  },
  {
   "cell_type": "code",
   "execution_count": 12,
   "metadata": {},
   "outputs": [
    {
     "name": "stdout",
     "output_type": "stream",
     "text": [
      "\n",
      "Total nmber of iterations:  10\n",
      "Iterations since last limit check failure:  10\n",
      "\n",
      "Old Voltages:\n",
      " [1. 1. 1. 1. 1. 1. 1. 1. 1.]\n",
      "\n",
      "New Voltages:\n",
      " [1.         1.         1.         0.9578338  0.93035453 0.97592289\n",
      " 0.94985357 0.96854393 0.91386352]\n",
      "\n",
      "Old Phase Angles:\n",
      " [0. 0. 0. 0. 0. 0. 0. 0. 0.]\n",
      "\n",
      "New Phase Angles:\n",
      " [ 0.         10.10311891  4.99505593 -2.50618964 -4.09037386  2.06947307\n",
      "  0.72918347  4.06537054 -4.52705075]\n",
      "\n",
      "Old Bus Values:\n",
      " [[1.   0.   0.   1.   0.   1.  ]\n",
      " [2.   0.   0.   1.   0.   2.  ]\n",
      " [3.   0.   0.   1.   0.   2.  ]\n",
      " [4.   0.   0.   1.   0.   3.  ]\n",
      " [5.   0.9  0.3  1.   0.   3.  ]\n",
      " [6.   0.   0.   1.   0.   3.  ]\n",
      " [7.   1.   0.35 1.   0.   3.  ]\n",
      " [8.   0.   0.   1.   0.   3.  ]\n",
      " [9.   1.25 0.5  1.   0.   3.  ]] \n",
      "\n",
      "New Bus Values (after NR):\n",
      " [[ 1.          0.          0.          1.          0.          1.        ]\n",
      " [ 2.          0.          0.          1.         10.10311891  2.        ]\n",
      " [ 3.          0.          0.          1.          4.99505593  2.        ]\n",
      " [ 4.          0.          0.          0.9578338  -2.50618964  3.        ]\n",
      " [ 5.          0.9         0.3         0.93035453 -4.09037386  3.        ]\n",
      " [ 6.          0.          0.          0.97592289  2.06947307  3.        ]\n",
      " [ 7.          1.          0.35        0.94985357  0.72918347  3.        ]\n",
      " [ 8.          0.          0.          0.96854393  4.06537054  3.        ]\n",
      " [ 9.          1.25        0.5         0.91386352 -4.52705075  3.        ]] \n",
      "\n"
     ]
    }
   ],
   "source": [
    "c9Q_pc = pf.NR_PC(case9Q, 1e-8)"
   ]
  }
 ],
 "metadata": {
  "kernelspec": {
   "display_name": "Python 3",
   "language": "python",
   "name": "python3"
  },
  "language_info": {
   "codemirror_mode": {
    "name": "ipython",
    "version": 3
   },
   "file_extension": ".py",
   "mimetype": "text/x-python",
   "name": "python",
   "nbconvert_exporter": "python",
   "pygments_lexer": "ipython3",
   "version": "3.10.4"
  },
  "orig_nbformat": 4
 },
 "nbformat": 4,
 "nbformat_minor": 2
}
