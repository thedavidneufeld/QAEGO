{
 "cells": [
  {
   "attachments": {},
   "cell_type": "markdown",
   "metadata": {},
   "source": [
    "**Imports**"
   ]
  },
  {
   "cell_type": "code",
   "execution_count": 1,
   "metadata": {},
   "outputs": [],
   "source": [
    "from PowerFlow import PowerData, NRPF"
   ]
  },
  {
   "attachments": {},
   "cell_type": "markdown",
   "metadata": {},
   "source": [
    "**Load case data as given in 5.3.4 of Power Flow Analysis by N.V. Ramana (also found in case3.m)**"
   ]
  },
  {
   "cell_type": "code",
   "execution_count": 2,
   "metadata": {},
   "outputs": [],
   "source": [
    "case3 = PowerData()\n",
    "case3.addBus(1, 0.9, 0.4, 1, 0, 1)\n",
    "case3.addBus(2, 0, 0, 1, 0, 2)\n",
    "case3.addBus(3, 1.1, 0.4, 1, 0, 3)\n",
    "case3.addGen(1, 0, 0, 1.02, 0, 0)\n",
    "case3.addGen(2, 1.4, 0, 1.03, 0, 0.8)\n",
    "case3.addBranch(1, 2, complex(0.025, 0.1))\n",
    "case3.addBranch(1, 3, complex(0.025, 0.1))\n",
    "case3.addBranch(2, 3, complex(0.025, 0.1))"
   ]
  },
  {
   "cell_type": "code",
   "execution_count": 3,
   "metadata": {},
   "outputs": [
    {
     "name": "stdout",
     "output_type": "stream",
     "text": [
      "[[1.  0.9 0.4 1.  0.  1. ]\n",
      " [2.  0.  0.  1.  0.  2. ]\n",
      " [3.  1.1 0.4 1.  0.  3. ]] \n",
      "\n",
      "[[1.   0.   0.   1.02 0.   0.  ]\n",
      " [2.   1.4  0.   1.03 0.   0.8 ]] \n",
      "\n",
      "[[1.   +0.j  2.   +0.j  0.025+0.1j]\n",
      " [1.   +0.j  3.   +0.j  0.025+0.1j]\n",
      " [2.   +0.j  3.   +0.j  0.025+0.1j]]\n"
     ]
    }
   ],
   "source": [
    "print(case3.buses, '\\n')\n",
    "print(case3.gens, '\\n')\n",
    "print(case3.branches)"
   ]
  },
  {
   "attachments": {},
   "cell_type": "markdown",
   "metadata": {},
   "source": [
    "**Initialize solver as classical**"
   ]
  },
  {
   "cell_type": "code",
   "execution_count": 4,
   "metadata": {},
   "outputs": [
    {
     "data": {
      "text/plain": [
       "'classical'"
      ]
     },
     "execution_count": 4,
     "metadata": {},
     "output_type": "execute_result"
    }
   ],
   "source": [
    "pf = NRPF()\n",
    "pf.solve_method"
   ]
  },
  {
   "attachments": {},
   "cell_type": "markdown",
   "metadata": {},
   "source": [
    "**Solve case3 classically**"
   ]
  },
  {
   "cell_type": "code",
   "execution_count": 5,
   "metadata": {},
   "outputs": [
    {
     "name": "stdout",
     "output_type": "stream",
     "text": [
      "\n",
      "Total nmber of iterations:  7\n",
      "Iterations since last limit check failure:  7\n",
      "\n",
      "Old Voltages:\n",
      " [1. 1. 1.]\n",
      "\n",
      "New Voltages:\n",
      " [1.02       1.03       0.98920215]\n",
      "\n",
      "Old Phase Angles:\n",
      " [0. 0. 0.]\n",
      "\n",
      "New Phase Angles:\n",
      " [ 0.          0.05430748 -0.02224203]\n",
      "\n",
      "Old Bus Values:\n",
      " [[1.  0.9 0.4 1.  0.  1. ]\n",
      " [2.  0.  0.  1.  0.  2. ]\n",
      " [3.  1.1 0.4 1.  0.  3. ]] \n",
      "\n",
      "New Bus Values (after NR):\n",
      " [[ 1.          0.9         0.4         1.02        0.          1.        ]\n",
      " [ 2.          0.          0.          1.03        0.05430748  2.        ]\n",
      " [ 3.          1.1         0.4         0.98920215 -0.02224203  3.        ]] \n",
      "\n",
      "Old Gen Values:\n",
      " [[1.   0.   0.   1.02 0.   0.  ]\n",
      " [2.   1.4  0.   1.03 0.   0.8 ]] \n",
      "\n",
      "New Gen Values (after NR):\n",
      " [[1.         0.         0.         1.02       0.         0.        ]\n",
      " [2.         1.4        0.21758087 1.03       0.         0.8       ]] \n",
      "\n"
     ]
    }
   ],
   "source": [
    "case3_pf = pf.NR(case3, 1e-3)"
   ]
  },
  {
   "attachments": {},
   "cell_type": "markdown",
   "metadata": {},
   "source": [
    "**Set solver to hhl**"
   ]
  },
  {
   "cell_type": "code",
   "execution_count": 6,
   "metadata": {},
   "outputs": [
    {
     "data": {
      "text/plain": [
       "'hhl'"
      ]
     },
     "execution_count": 6,
     "metadata": {},
     "output_type": "execute_result"
    }
   ],
   "source": [
    "pf.set_solve_method('hhl')\n",
    "pf.solve_method"
   ]
  },
  {
   "attachments": {},
   "cell_type": "markdown",
   "metadata": {},
   "source": [
    "**Solve case3 with hhl**"
   ]
  },
  {
   "cell_type": "code",
   "execution_count": 7,
   "metadata": {},
   "outputs": [
    {
     "name": "stdout",
     "output_type": "stream",
     "text": [
      "Delta_PA difference at iteration  1 :\n",
      " 0.0005116255111062253 \n",
      "\n",
      "Delta_V difference at iteration  1 :\n",
      " 4.055082267919417e-05 \n",
      "\n",
      "Delta_PA difference at iteration  2 :\n",
      " 0.0002924586124099542 \n",
      "\n",
      "Delta_V difference at iteration  2 :\n",
      " 0.00040551348685342013 \n",
      "\n",
      "Delta_PA difference at iteration  3 :\n",
      " 4.265034767592628e-05 \n",
      "\n",
      "Delta_V difference at iteration  3 :\n",
      " 0.00011535798203577818 \n",
      "\n",
      "Delta_PA difference at iteration  4 :\n",
      " 5.999652617803409e-05 \n",
      "\n",
      "Delta_V difference at iteration  4 :\n",
      " 4.017653011352887e-05 \n",
      "\n",
      "\n",
      "Total nmber of iterations:  4\n",
      "Iterations since last limit check failure:  4\n",
      "\n",
      "Old Voltages:\n",
      " [1. 1. 1.]\n",
      "\n",
      "New Voltages:\n",
      " [1.02       1.03       0.98989312]\n",
      "\n",
      "Old Phase Angles:\n",
      " [0. 0. 0.]\n",
      "\n",
      "New Phase Angles:\n",
      " [ 0.          0.05200356 -0.02154434]\n",
      "\n",
      "Old Bus Values:\n",
      " [[1.  0.9 0.4 1.  0.  1. ]\n",
      " [2.  0.  0.  1.  0.  2. ]\n",
      " [3.  1.1 0.4 1.  0.  3. ]] \n",
      "\n",
      "New Bus Values (after NR):\n",
      " [[ 1.          0.9         0.4         1.02        0.          1.        ]\n",
      " [ 2.          0.          0.          1.03        0.05200356  2.        ]\n",
      " [ 3.          1.1         0.4         0.98989312 -0.02154434  3.        ]] \n",
      "\n",
      "Old Gen Values:\n",
      " [[1.   0.   0.   1.02 0.   0.  ]\n",
      " [2.   1.4  0.   1.03 0.   0.8 ]] \n",
      "\n",
      "New Gen Values (after NR):\n",
      " [[1.       0.       0.       1.02     0.       0.      ]\n",
      " [2.       1.4      0.220272 1.03     0.       0.8     ]] \n",
      "\n"
     ]
    }
   ],
   "source": [
    "case3_pf_hhl = pf.NR(case3, 1e-2)"
   ]
  },
  {
   "attachments": {},
   "cell_type": "markdown",
   "metadata": {},
   "source": [
    "**Load simplified case9Q data (found in case9Q_simplified.m)**"
   ]
  },
  {
   "cell_type": "code",
   "execution_count": 8,
   "metadata": {},
   "outputs": [],
   "source": [
    "case9Q = PowerData()\n",
    "case9Q.addBus(1, 0, 0, 1, 0, 1)\n",
    "case9Q.addBus(2, 0, 0, 1, 0, 2)\n",
    "case9Q.addBus(3, 0, 0, 1, 0, 2)\n",
    "case9Q.addBus(4, 0, 0, 1, 0, 3)\n",
    "case9Q.addBus(5, 0.9, 0.3, 1, 0, 3)\n",
    "case9Q.addBus(6, 0, 0, 1, 0, 3)\n",
    "case9Q.addBus(7, 1, 0.35, 1, 0, 3)\n",
    "case9Q.addBus(8, 0, 0, 1, 0, 3)\n",
    "case9Q.addBus(9, 1.25, 0.5, 1, 0, 3)\n",
    "case9Q.addGen(1, 0, 0, 1, -3, 3)\n",
    "case9Q.addGen(2, 1.63, 0, 1, -3, 3)\n",
    "case9Q.addGen(3, 0.85, 0, 1, -3, 3)\n",
    "case9Q.addBranch(1, 4, complex(0, 0.0576))\n",
    "case9Q.addBranch(4, 5, complex(0.017, 0.092))\n",
    "case9Q.addBranch(5, 6, complex(0.039, 0.17))\n",
    "case9Q.addBranch(3, 6, complex(0, 0.0586))\n",
    "case9Q.addBranch(6, 7, complex(0.0119, 0.1008))\n",
    "case9Q.addBranch(7, 8, complex(0.0085, 0.072))\n",
    "case9Q.addBranch(8, 2, complex(0, 0.0625))\n",
    "case9Q.addBranch(8, 9, complex(0.032, 0.161))\n",
    "case9Q.addBranch(9, 4, complex(0.01, 0.085))"
   ]
  },
  {
   "cell_type": "code",
   "execution_count": 9,
   "metadata": {},
   "outputs": [
    {
     "name": "stdout",
     "output_type": "stream",
     "text": [
      "[[1.   0.   0.   1.   0.   1.  ]\n",
      " [2.   0.   0.   1.   0.   2.  ]\n",
      " [3.   0.   0.   1.   0.   2.  ]\n",
      " [4.   0.   0.   1.   0.   3.  ]\n",
      " [5.   0.9  0.3  1.   0.   3.  ]\n",
      " [6.   0.   0.   1.   0.   3.  ]\n",
      " [7.   1.   0.35 1.   0.   3.  ]\n",
      " [8.   0.   0.   1.   0.   3.  ]\n",
      " [9.   1.25 0.5  1.   0.   3.  ]] \n",
      "\n",
      "[[ 1.    0.    0.    1.   -3.    3.  ]\n",
      " [ 2.    1.63  0.    1.   -3.    3.  ]\n",
      " [ 3.    0.85  0.    1.   -3.    3.  ]] \n",
      "\n",
      "[[1.00e+00+0.j     4.00e+00+0.j     0.00e+00+0.0576j]\n",
      " [3.00e+00+0.j     6.00e+00+0.j     0.00e+00+0.0586j]\n",
      " [4.00e+00+0.j     5.00e+00+0.j     1.70e-02+0.092j ]\n",
      " [5.00e+00+0.j     6.00e+00+0.j     3.90e-02+0.17j  ]\n",
      " [6.00e+00+0.j     7.00e+00+0.j     1.19e-02+0.1008j]\n",
      " [7.00e+00+0.j     8.00e+00+0.j     8.50e-03+0.072j ]\n",
      " [8.00e+00+0.j     2.00e+00+0.j     0.00e+00+0.0625j]\n",
      " [8.00e+00+0.j     9.00e+00+0.j     3.20e-02+0.161j ]\n",
      " [9.00e+00+0.j     4.00e+00+0.j     1.00e-02+0.085j ]]\n"
     ]
    }
   ],
   "source": [
    "print(case9Q.buses, '\\n')\n",
    "print(case9Q.gens, '\\n')\n",
    "print(case9Q.branches)"
   ]
  },
  {
   "attachments": {},
   "cell_type": "markdown",
   "metadata": {},
   "source": [
    "**Set solver to classical**"
   ]
  },
  {
   "cell_type": "code",
   "execution_count": 10,
   "metadata": {},
   "outputs": [
    {
     "data": {
      "text/plain": [
       "'classical'"
      ]
     },
     "execution_count": 10,
     "metadata": {},
     "output_type": "execute_result"
    }
   ],
   "source": [
    "pf.set_solve_method('classical')\n",
    "pf.solve_method"
   ]
  },
  {
   "attachments": {},
   "cell_type": "markdown",
   "metadata": {},
   "source": [
    "**Solve case9Q classically**"
   ]
  },
  {
   "cell_type": "code",
   "execution_count": 11,
   "metadata": {},
   "outputs": [
    {
     "name": "stdout",
     "output_type": "stream",
     "text": [
      "\n",
      "Total nmber of iterations:  6\n",
      "Iterations since last limit check failure:  6\n",
      "\n",
      "Old Voltages:\n",
      " [1. 1. 1. 1. 1. 1. 1. 1. 1.]\n",
      "\n",
      "New Voltages:\n",
      " [1.         1.         1.         0.95882269 0.93189107 0.97631141\n",
      " 0.94983662 0.96916012 0.91554272]\n",
      "\n",
      "Old Phase Angles:\n",
      " [0. 0. 0. 0. 0. 0. 0. 0. 0.]\n",
      "\n",
      "New Phase Angles:\n",
      " [ 0.          0.1641205   0.08434231 -0.03952745 -0.06641806  0.03554824\n",
      "  0.00582116  0.06584373 -0.0761943 ]\n",
      "\n",
      "Old Bus Values:\n",
      " [[1.   0.   0.   1.   0.   1.  ]\n",
      " [2.   0.   0.   1.   0.   2.  ]\n",
      " [3.   0.   0.   1.   0.   2.  ]\n",
      " [4.   0.   0.   1.   0.   3.  ]\n",
      " [5.   0.9  0.3  1.   0.   3.  ]\n",
      " [6.   0.   0.   1.   0.   3.  ]\n",
      " [7.   1.   0.35 1.   0.   3.  ]\n",
      " [8.   0.   0.   1.   0.   3.  ]\n",
      " [9.   1.25 0.5  1.   0.   3.  ]] \n",
      "\n",
      "New Bus Values (after NR):\n",
      " [[ 1.00000000e+00  0.00000000e+00  0.00000000e+00  1.00000000e+00\n",
      "   0.00000000e+00  1.00000000e+00]\n",
      " [ 2.00000000e+00  0.00000000e+00  0.00000000e+00  1.00000000e+00\n",
      "   1.64120497e-01  2.00000000e+00]\n",
      " [ 3.00000000e+00  0.00000000e+00  0.00000000e+00  1.00000000e+00\n",
      "   8.43423084e-02  2.00000000e+00]\n",
      " [ 4.00000000e+00  0.00000000e+00  0.00000000e+00  9.58822688e-01\n",
      "  -3.95274539e-02  3.00000000e+00]\n",
      " [ 5.00000000e+00  9.00000000e-01  3.00000000e-01  9.31891069e-01\n",
      "  -6.64180582e-02  3.00000000e+00]\n",
      " [ 6.00000000e+00  0.00000000e+00  0.00000000e+00  9.76311406e-01\n",
      "   3.55482416e-02  3.00000000e+00]\n",
      " [ 7.00000000e+00  1.00000000e+00  3.50000000e-01  9.49836617e-01\n",
      "   5.82116358e-03  3.00000000e+00]\n",
      " [ 8.00000000e+00  0.00000000e+00  0.00000000e+00  9.69160116e-01\n",
      "   6.58437298e-02  3.00000000e+00]\n",
      " [ 9.00000000e+00  1.25000000e+00  5.00000000e-01  9.15542720e-01\n",
      "  -7.61943036e-02  3.00000000e+00]] \n",
      "\n",
      "Old Gen Values:\n",
      " [[ 1.    0.    0.    1.   -3.    3.  ]\n",
      " [ 2.    1.63  0.    1.   -3.    3.  ]\n",
      " [ 3.    0.85  0.    1.   -3.    3.  ]] \n",
      "\n",
      "New Gen Values (after NR):\n",
      " [[ 1.          0.          0.          1.         -3.          3.        ]\n",
      " [ 2.          1.63        0.56826158  1.         -3.          3.        ]\n",
      " [ 3.          0.85        0.42407157  1.         -3.          3.        ]] \n",
      "\n"
     ]
    }
   ],
   "source": [
    "case9Q_pf = pf.NR(case9Q, 1e-2)"
   ]
  }
 ],
 "metadata": {
  "kernelspec": {
   "display_name": "Python 3",
   "language": "python",
   "name": "python3"
  },
  "language_info": {
   "codemirror_mode": {
    "name": "ipython",
    "version": 3
   },
   "file_extension": ".py",
   "mimetype": "text/x-python",
   "name": "python",
   "nbconvert_exporter": "python",
   "pygments_lexer": "ipython3",
   "version": "3.10.4"
  },
  "orig_nbformat": 4
 },
 "nbformat": 4,
 "nbformat_minor": 2
}
