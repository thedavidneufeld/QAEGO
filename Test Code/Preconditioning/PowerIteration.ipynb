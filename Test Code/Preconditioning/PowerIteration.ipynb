{
 "cells": [
  {
   "cell_type": "markdown",
   "metadata": {},
   "source": [
    "**Imports**"
   ]
  },
  {
   "cell_type": "code",
   "execution_count": 1,
   "metadata": {},
   "outputs": [],
   "source": [
    "import numpy as np"
   ]
  },
  {
   "cell_type": "markdown",
   "metadata": {},
   "source": [
    "**Power Iteration algorithm**"
   ]
  },
  {
   "cell_type": "code",
   "execution_count": 2,
   "metadata": {},
   "outputs": [],
   "source": [
    "# returns the largest eigenvalue and corresponding eigenvector of A\n",
    "# in terms of absolute value\n",
    "def powerIt(A):\n",
    "    # create a random vector with norm of 1\n",
    "    # vector needs to be compatible with A\n",
    "    v = np.random.rand(A.shape[0])\n",
    "    v = v/np.linalg.norm(v)\n",
    "    # keep track of iterations\n",
    "    i = 0\n",
    "    # conditional stop variable\n",
    "    stop = False\n",
    "    # repeat until stop condition is met\n",
    "    while(not stop):\n",
    "        # increase iteration count\n",
    "        i += 1\n",
    "        # compute dot product of A and v\n",
    "        w = np.dot(A, v)\n",
    "        # normalize dot product of A and v\n",
    "        # update value of v to be this\n",
    "        v = w/np.linalg.norm(w)\n",
    "        # compute the dot product of v^T, A, and v\n",
    "        u = np.dot(np.dot(v.T, A), v)\n",
    "        # if our calculated eigenvalue u multiplied by the potential\n",
    "        # eigenvector v is equivalent to the dot product of A and v\n",
    "        # within a tolerance, then end the algorithm\n",
    "        if np.linalg.norm(np.dot(A, v)-u*v) < 1e-12*np.dot(np.linalg.norm(A), np.linalg.norm(v)):\n",
    "            stop = True\n",
    "    return u, v, i"
   ]
  },
  {
   "cell_type": "markdown",
   "metadata": {},
   "source": [
    "**Test Algorithm**"
   ]
  },
  {
   "cell_type": "code",
   "execution_count": 3,
   "metadata": {},
   "outputs": [
    {
     "name": "stdout",
     "output_type": "stream",
     "text": [
      "Max eigenvalue: 1.791141004529088\n",
      "Corresponding eigenvector: [0.55237821 0.48702092 0.67652712]\n",
      "Iterations required: 13\n"
     ]
    }
   ],
   "source": [
    "# generate random 3x3 matrix\n",
    "A = np.random.rand(3, 3)\n",
    "# perfom power iteration algorithm on A\n",
    "u1, v1, i1 = powerIt(A)\n",
    "# print data\n",
    "print('Max eigenvalue:', u1)\n",
    "print('Corresponding eigenvector:', v1)\n",
    "print('Iterations required:', i1)"
   ]
  },
  {
   "cell_type": "code",
   "execution_count": 4,
   "metadata": {},
   "outputs": [
    {
     "name": "stdout",
     "output_type": "stream",
     "text": [
      "Max eigenvalue: 1.7911410045292777\n",
      "Corresponding eigenvector: [0.55237821 0.48702092 0.67652712]\n"
     ]
    }
   ],
   "source": [
    "# calculate eigenvalues and eigenvectors of A\n",
    "# using numpy's eig function\n",
    "vals, vecs = np.linalg.eig(A)\n",
    "# extract max eigenvalue and eigenvector \n",
    "# in terms of absolute value\n",
    "max_val = np.argmax(abs(vals))\n",
    "u2 = abs(vals[max_val])\n",
    "v2 = abs(vecs[:, max_val])\n",
    "# print absolute values of eigenvalues and eigenvectors\n",
    "print('Max eigenvalue:', u2)\n",
    "print('Corresponding eigenvector:', v2)"
   ]
  }
 ],
 "metadata": {
  "kernelspec": {
   "display_name": "Python 3",
   "language": "python",
   "name": "python3"
  },
  "language_info": {
   "codemirror_mode": {
    "name": "ipython",
    "version": 3
   },
   "file_extension": ".py",
   "mimetype": "text/x-python",
   "name": "python",
   "nbconvert_exporter": "python",
   "pygments_lexer": "ipython3",
   "version": "3.10.4"
  },
  "orig_nbformat": 4
 },
 "nbformat": 4,
 "nbformat_minor": 2
}
