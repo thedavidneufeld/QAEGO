{
 "cells": [
  {
   "cell_type": "markdown",
   "metadata": {},
   "source": [
    "**Imports**"
   ]
  },
  {
   "cell_type": "code",
   "execution_count": 1,
   "metadata": {},
   "outputs": [],
   "source": [
    "import numpy as np"
   ]
  },
  {
   "cell_type": "markdown",
   "metadata": {},
   "source": [
    "**RQI Algorithm**"
   ]
  },
  {
   "cell_type": "code",
   "execution_count": 2,
   "metadata": {},
   "outputs": [],
   "source": [
    "# based on a close approximation of an eigenvalue of A (mu)\n",
    "# returns the corresponding eigenvector as well as the correct eigenvalue\n",
    "# takes in a matrix A, eigenvalue approximation mu\n",
    "# tolerance ep, and a max number of iterations it\n",
    "def RQI(A, mu, ep, it):\n",
    "    # create a random vector with norm of 1\n",
    "    # vector needs to be compatible with A\n",
    "    y = np.random.rand(A.shape[0])\n",
    "    y = y/np.linalg.norm(y)\n",
    "    # initialize an identity matrix of the same size as A\n",
    "    I = np.eye(A.shape[0])\n",
    "    # keep track of iterations\n",
    "    i = 0\n",
    "    # conditional stop variable\n",
    "    stop = False\n",
    "    # repeat until stop condition is met \n",
    "    # or until the maximum number of iterations is reached\n",
    "    while(not stop):\n",
    "        # increase iteration count\n",
    "        i += 1\n",
    "        # check that max iterations hasn't been passed\n",
    "        # if it has been passed, return False to indicate failure\n",
    "        # also return the max number of iterations\n",
    "        if i > it:\n",
    "            return False, False, it\n",
    "        # compute the dot product of ((mu)I-A)^(-1) and y\n",
    "        invMat = np.linalg.inv(mu*I-A)\n",
    "        v = np.dot(invMat, y)\n",
    "        # update y with a normalized v\n",
    "        y = v/np.linalg.norm(v)\n",
    "        # update mu with (v^T)Av\n",
    "        mu = np.dot(np.dot(y.T, A), y)\n",
    "        # if ||Av-(mu)v|| <= ep*||A||, then return mu, y, and i\n",
    "        if np.linalg.norm(np.dot(A, v)-mu*v) <= ep*np.linalg.norm(A):\n",
    "            return mu, y, i"
   ]
  },
  {
   "cell_type": "markdown",
   "metadata": {},
   "source": [
    "**Test Algorithm**"
   ]
  },
  {
   "cell_type": "code",
   "execution_count": 3,
   "metadata": {},
   "outputs": [
    {
     "data": {
      "text/plain": [
       "((2.220202247071369+0j),\n",
       " array([0.47991313+0.j, 0.57198604+0.j, 0.61820231+0.j, 0.24564459+0.j]),\n",
       " 4)"
      ]
     },
     "execution_count": 3,
     "metadata": {},
     "output_type": "execute_result"
    }
   ],
   "source": [
    "# create a random matrix A\n",
    "A = np.random.rand(4, 4)\n",
    "# calculate the eigenvalues of A\n",
    "u, v = np.linalg.eig(A)\n",
    "# extract the first eigenvalue of A and subtract \n",
    "# a small value to make it an approximation\n",
    "mu = u[0]-0.25\n",
    "# perform the RQI algorithm on A and mu\n",
    "RQI(A, mu, 1e-4, 100)"
   ]
  },
  {
   "cell_type": "code",
   "execution_count": 4,
   "metadata": {},
   "outputs": [
    {
     "name": "stdout",
     "output_type": "stream",
     "text": [
      "(2.2202022470708407+0j) [0.47991313+0.j 0.57198604+0.j 0.61820231+0.j 0.24564459+0.j]\n"
     ]
    }
   ],
   "source": [
    "# output the real eigenvalue and eigenvector\n",
    "print(u[0], v[:,0])"
   ]
  }
 ],
 "metadata": {
  "kernelspec": {
   "display_name": "Python 3",
   "language": "python",
   "name": "python3"
  },
  "language_info": {
   "codemirror_mode": {
    "name": "ipython",
    "version": 3
   },
   "file_extension": ".py",
   "mimetype": "text/x-python",
   "name": "python",
   "nbconvert_exporter": "python",
   "pygments_lexer": "ipython3",
   "version": "3.10.4"
  },
  "orig_nbformat": 4
 },
 "nbformat": 4,
 "nbformat_minor": 2
}
