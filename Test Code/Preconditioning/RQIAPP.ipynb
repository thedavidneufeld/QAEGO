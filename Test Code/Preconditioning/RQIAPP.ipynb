{
 "cells": [
  {
   "cell_type": "markdown",
   "metadata": {},
   "source": [
    "**Imports**"
   ]
  },
  {
   "cell_type": "code",
   "execution_count": 1,
   "metadata": {},
   "outputs": [],
   "source": [
    "import numpy as np"
   ]
  },
  {
   "cell_type": "markdown",
   "metadata": {},
   "source": [
    "**Helper Functions**"
   ]
  },
  {
   "cell_type": "code",
   "execution_count": 2,
   "metadata": {},
   "outputs": [],
   "source": [
    "# given an approximate eigenvalue (mu) and a matrix M\n",
    "# returns (mu)*I-M\n",
    "def A(mu, M):\n",
    "    I = np.eye(M.shape[0])\n",
    "    return mu*I-M\n",
    "\n",
    "# calculates a preconditioned matrix C based on \n",
    "# an approximate eigenvalue (mu), a matrix M, and vectors\n",
    "# y and v\n",
    "# returns C^(-1)Y\n",
    "def f(mu, M, y, v):\n",
    "    # convert y and v to column vectors\n",
    "    Y = y[:, np.newaxis]\n",
    "    V = v[:, np.newaxis]\n",
    "    # calculate (mu)*I-M\n",
    "    A1 = A(mu, M)\n",
    "    # calculate ((mu)*I-M)/||((mu)*I-M)||+YV^H\n",
    "    C = A1/np.linalg.norm(A1) + np.dot(Y, V.T.conj())\n",
    "    # calculate and return C^(-1)Y\n",
    "    return np.dot(np.linalg.inv(C), y)"
   ]
  },
  {
   "cell_type": "markdown",
   "metadata": {},
   "source": [
    "**RQI with APP**"
   ]
  },
  {
   "cell_type": "code",
   "execution_count": 3,
   "metadata": {},
   "outputs": [],
   "source": [
    "# based on a close approximation of an eigenvalue of M (mu)\n",
    "# returns the corresponding eigenvector as well as the correct eigenvalue\n",
    "# takes in a matrix M, eigenvalue approximation mu\n",
    "# tolerance ep, and a max number of iterations it\n",
    "# \n",
    "# similar to regular RQI, but uses additive preprocessing\n",
    "def RQIAPP(M, mu, ep, it):\n",
    "    # create two random vectors with norm of 1\n",
    "    # vectors need to be compatible with M\n",
    "    y = np.random.rand(M.shape[0])\n",
    "    y = y/np.linalg.norm(y)\n",
    "    v = np.random.rand(M.shape[0])\n",
    "    v = v/np.linalg.norm(v)\n",
    "    # keep track of iterations\n",
    "    i = 0\n",
    "    # conditional stop variable\n",
    "    stop = False\n",
    "    # repeat until stop condition is met \n",
    "    # or until the maximum number of iterations is reached\n",
    "    while(not stop):\n",
    "        # increase iteration count\n",
    "        i += 1\n",
    "        # check that max iterations hasn't been passed\n",
    "        # if it has been passed, return False to indicate failure\n",
    "        # also return the max number of iterations\n",
    "        if i > it:\n",
    "            return False, False, it\n",
    "        # compute f()\n",
    "        x = f(mu, M, y, v)\n",
    "        # update y with a normalized x\n",
    "        y = x/np.linalg.norm(x)\n",
    "        # update mu with (v^T)Mv\n",
    "        mu = np.dot(np.dot(y.T, M), y)\n",
    "        # if ||Mx-(mu)x|| <= ep*||M||, then return mu, y, and i\n",
    "        if np.linalg.norm(np.dot(M, x)-mu*x) <= ep*np.linalg.norm(M):\n",
    "            return mu, y, i"
   ]
  },
  {
   "cell_type": "markdown",
   "metadata": {},
   "source": [
    "**Test Algorithm**"
   ]
  },
  {
   "cell_type": "code",
   "execution_count": 4,
   "metadata": {},
   "outputs": [
    {
     "data": {
      "text/plain": [
       "((2.0862906647223416+0j),\n",
       " array([0.46026298+0.j, 0.22826637+0.j, 0.44428589+0.j, 0.73393631+0.j]),\n",
       " 4)"
      ]
     },
     "execution_count": 4,
     "metadata": {},
     "output_type": "execute_result"
    }
   ],
   "source": [
    "# create a random matrix M\n",
    "M = np.random.rand(4, 4)\n",
    "# calculate the eigenvalues of M\n",
    "u, v = np.linalg.eig(M)\n",
    "# extract the first eigenvalue of M and subtract \n",
    "# a small value to make it an approximation\n",
    "mu = u[0]-0.25\n",
    "# perform the RQIAPP algorithm on M and mu\n",
    "RQIAPP(M, mu, 1e-8, 100)"
   ]
  },
  {
   "cell_type": "code",
   "execution_count": 5,
   "metadata": {},
   "outputs": [
    {
     "name": "stdout",
     "output_type": "stream",
     "text": [
      "(2.086290664722135+0j) [-0.46026298+0.j -0.22826637+0.j -0.44428589+0.j -0.73393631+0.j]\n"
     ]
    }
   ],
   "source": [
    "# output the real eigenvalue and eigenvector\n",
    "print(u[0], v[:,0])"
   ]
  }
 ],
 "metadata": {
  "kernelspec": {
   "display_name": "Python 3",
   "language": "python",
   "name": "python3"
  },
  "language_info": {
   "codemirror_mode": {
    "name": "ipython",
    "version": 3
   },
   "file_extension": ".py",
   "mimetype": "text/x-python",
   "name": "python",
   "nbconvert_exporter": "python",
   "pygments_lexer": "ipython3",
   "version": "3.10.4"
  },
  "orig_nbformat": 4
 },
 "nbformat": 4,
 "nbformat_minor": 2
}
