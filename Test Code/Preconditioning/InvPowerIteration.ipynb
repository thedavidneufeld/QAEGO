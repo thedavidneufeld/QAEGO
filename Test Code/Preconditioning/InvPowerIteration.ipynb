{
 "cells": [
  {
   "cell_type": "markdown",
   "metadata": {},
   "source": [
    "**Imports**"
   ]
  },
  {
   "cell_type": "code",
   "execution_count": 1,
   "metadata": {},
   "outputs": [],
   "source": [
    "import numpy as np"
   ]
  },
  {
   "cell_type": "markdown",
   "metadata": {},
   "source": [
    "**Inverse Power Iteration Algorithm**"
   ]
  },
  {
   "cell_type": "code",
   "execution_count": 2,
   "metadata": {},
   "outputs": [],
   "source": [
    "# based on a close approximation of an eigenvalue of A (mu)\n",
    "# returns the corresponding eigenvector\n",
    "# takes in a matrix A, eigenvalue approximation mu\n",
    "# tolerance ep, and a max number of iterations it\n",
    "def invPowerIt(A, mu, ep, it):\n",
    "    # create a random vector with norm of 1\n",
    "    # vector needs to be compatible with A\n",
    "    v = np.random.rand(A.shape[0])\n",
    "    v = v/np.linalg.norm(v)\n",
    "    # initialize an identity matrix of the same size as A\n",
    "    I = np.eye(A.shape[0])\n",
    "    # perform the calculation of (A-(mu)I)^(-1)\n",
    "    invMat = np.linalg.inv(A-mu*I)\n",
    "    # keep track of iterations\n",
    "    i = 0\n",
    "    # conditional stop variable\n",
    "    stop = False\n",
    "    # repeat until stop condition is met \n",
    "    # or until the maximum number of iterations is reached\n",
    "    while(not stop):\n",
    "        # increase iteration count\n",
    "        i += 1\n",
    "        # check that max iterations hasn't been passed\n",
    "        # if it has been passed, return False to indicate failure\n",
    "        # also return the max number of iterations\n",
    "        if i > it:\n",
    "            return False, it\n",
    "        # solve for w in (A-(mu)I)w=v\n",
    "        w = np.dot(invMat, v)\n",
    "        # normalize the dot product and assign to v1\n",
    "        v1 = w/np.linalg.norm(w)\n",
    "        # if ||v1-v|| <= ep, then end the loop\n",
    "        if np.linalg.norm(v1 - v) <= ep:\n",
    "            stop = True\n",
    "        # assign the value of v1 to v\n",
    "        v = v1\n",
    "    # return the eigenvector and number of iterations required\n",
    "    return v, i"
   ]
  },
  {
   "cell_type": "markdown",
   "metadata": {},
   "source": [
    "**Test Algorithm**"
   ]
  },
  {
   "cell_type": "code",
   "execution_count": 3,
   "metadata": {},
   "outputs": [
    {
     "data": {
      "text/plain": [
       "(array([0.44511727, 0.62619844, 0.53108454, 0.35734486]), 12)"
      ]
     },
     "execution_count": 3,
     "metadata": {},
     "output_type": "execute_result"
    }
   ],
   "source": [
    "# create a random matrix A\n",
    "A = np.random.rand(4, 4)\n",
    "# calculate the eigenvalues of A\n",
    "u, v = np.linalg.eig(A)\n",
    "# extract the first eigenvalue of A and subtract \n",
    "# a small value to make it an approximation\n",
    "mu = u[0]-0.25\n",
    "# perform the inverse power iteration algorithm\n",
    "# on A and mu\n",
    "invPowerIt(A, mu, 1e-8, 100)"
   ]
  },
  {
   "cell_type": "code",
   "execution_count": 4,
   "metadata": {},
   "outputs": [
    {
     "data": {
      "text/plain": [
       "array([-0.44511727, -0.62619844, -0.53108454, -0.35734486])"
      ]
     },
     "execution_count": 4,
     "metadata": {},
     "output_type": "execute_result"
    }
   ],
   "source": [
    "# output the real eigenvector of u[0]\n",
    "v[:,0]"
   ]
  }
 ],
 "metadata": {
  "kernelspec": {
   "display_name": "Python 3",
   "language": "python",
   "name": "python3"
  },
  "language_info": {
   "codemirror_mode": {
    "name": "ipython",
    "version": 3
   },
   "file_extension": ".py",
   "mimetype": "text/x-python",
   "name": "python",
   "nbconvert_exporter": "python",
   "pygments_lexer": "ipython3",
   "version": "3.10.4"
  },
  "orig_nbformat": 4
 },
 "nbformat": 4,
 "nbformat_minor": 2
}
