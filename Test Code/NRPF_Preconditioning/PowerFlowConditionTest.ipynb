{
 "cells": [
  {
   "cell_type": "markdown",
   "metadata": {},
   "source": [
    "**Imports**"
   ]
  },
  {
   "cell_type": "code",
   "execution_count": 19,
   "metadata": {},
   "outputs": [],
   "source": [
    "from PowerFlow import PowerData, NRPF"
   ]
  },
  {
   "cell_type": "markdown",
   "metadata": {},
   "source": [
    "**Initializations**"
   ]
  },
  {
   "cell_type": "code",
   "execution_count": 20,
   "metadata": {},
   "outputs": [],
   "source": [
    "pf = NRPF()"
   ]
  },
  {
   "cell_type": "markdown",
   "metadata": {},
   "source": [
    "**Load/Solve Case3**"
   ]
  },
  {
   "cell_type": "code",
   "execution_count": 21,
   "metadata": {},
   "outputs": [
    {
     "name": "stdout",
     "output_type": "stream",
     "text": [
      "[[1.   0.9  0.4  1.02 0.   1.  ]\n",
      " [2.   0.   0.   1.03 0.   2.  ]\n",
      " [3.   1.1  0.4  1.   0.   3.  ]] \n",
      "\n",
      "[[ 1.    0.    0.    1.02 -1.    1.  ]\n",
      " [ 2.    1.4   0.    1.03 -1.    1.  ]] \n",
      "\n",
      "[[1.   +0.j  2.   +0.j  0.025+0.1j]\n",
      " [1.   +0.j  3.   +0.j  0.025+0.1j]\n",
      " [2.   +0.j  3.   +0.j  0.025+0.1j]]\n"
     ]
    }
   ],
   "source": [
    "case3 = PowerData()\n",
    "case3.loadcasedata('case3.m')\n",
    "print(case3.buses, '\\n')\n",
    "print(case3.gens, '\\n')\n",
    "print(case3.branches)"
   ]
  },
  {
   "cell_type": "code",
   "execution_count": 22,
   "metadata": {},
   "outputs": [
    {
     "name": "stdout",
     "output_type": "stream",
     "text": [
      "Condition number of Jac in iteration 1: 3.016104013900365\n",
      "Condition number of Jac in iteration 2: 3.0193998699940114\n",
      "Condition number of Jac in iteration 3: 3.018534629407144\n",
      "Condition number of Jac in iteration 4: 3.018531982152145\n"
     ]
    },
    {
     "data": {
      "text/plain": [
       "{'iterations': 4,\n",
       " 'voltages': array([[1.02      , 1.03      , 1.        ],\n",
       "        [1.02      , 1.03      , 0.99102564],\n",
       "        [1.02      , 1.03      , 0.98926325],\n",
       "        [1.02      , 1.03      , 0.98926028],\n",
       "        [1.02      , 1.03      , 0.98926027]]),\n",
       " 'phase_angles': array([[ 0.        ,  0.        ,  0.        ],\n",
       "        [ 0.        ,  3.1485323 , -1.21297057],\n",
       "        [ 0.        ,  3.10372919, -1.267979  ],\n",
       "        [ 0.        ,  3.10386913, -1.26793577],\n",
       "        [ 0.        ,  3.10386918, -1.26793587]]),\n",
       " 'dpav_difference': array([0., 0., 0., 0.]),\n",
       " 'powerdata': <PowerFlow.PowerData at 0x12f910610>}"
      ]
     },
     "execution_count": 22,
     "metadata": {},
     "output_type": "execute_result"
    }
   ],
   "source": [
    "pf.NR(case3, 1e-8)"
   ]
  },
  {
   "cell_type": "markdown",
   "metadata": {},
   "source": [
    "**Load/Solve Case9Q**"
   ]
  },
  {
   "cell_type": "code",
   "execution_count": 23,
   "metadata": {},
   "outputs": [
    {
     "name": "stdout",
     "output_type": "stream",
     "text": [
      "[[1.   0.   0.   1.   0.   1.  ]\n",
      " [2.   0.   0.   1.   0.   2.  ]\n",
      " [3.   0.   0.   1.   0.   2.  ]\n",
      " [4.   0.   0.   1.   0.   3.  ]\n",
      " [5.   0.9  0.3  1.   0.   3.  ]\n",
      " [6.   0.   0.   1.   0.   3.  ]\n",
      " [7.   1.   0.35 1.   0.   3.  ]\n",
      " [8.   0.   0.   1.   0.   3.  ]\n",
      " [9.   1.25 0.5  1.   0.   3.  ]] \n",
      "\n",
      "[[ 1.    0.    0.    1.   -3.    3.  ]\n",
      " [ 2.    1.63  0.    1.   -3.    3.  ]\n",
      " [ 3.    0.85  0.    1.   -3.    3.  ]] \n",
      "\n",
      "[[1.00e+00+0.j     4.00e+00+0.j     0.00e+00+0.0576j]\n",
      " [3.00e+00+0.j     6.00e+00+0.j     0.00e+00+0.0586j]\n",
      " [4.00e+00+0.j     5.00e+00+0.j     1.70e-02+0.092j ]\n",
      " [5.00e+00+0.j     6.00e+00+0.j     3.90e-02+0.17j  ]\n",
      " [6.00e+00+0.j     7.00e+00+0.j     1.19e-02+0.1008j]\n",
      " [7.00e+00+0.j     8.00e+00+0.j     8.50e-03+0.072j ]\n",
      " [8.00e+00+0.j     2.00e+00+0.j     0.00e+00+0.0625j]\n",
      " [8.00e+00+0.j     9.00e+00+0.j     3.20e-02+0.161j ]\n",
      " [9.00e+00+0.j     4.00e+00+0.j     1.00e-02+0.085j ]]\n"
     ]
    }
   ],
   "source": [
    "case9Q = PowerData()\n",
    "case9Q.loadcasedata('case9Q_simplified.m')\n",
    "print(case9Q.buses, '\\n')\n",
    "print(case9Q.gens, '\\n')\n",
    "print(case9Q.branches)"
   ]
  },
  {
   "cell_type": "code",
   "execution_count": 24,
   "metadata": {},
   "outputs": [
    {
     "name": "stdout",
     "output_type": "stream",
     "text": [
      "Condition number of Jac in iteration 1: 59.4184596867475\n",
      "Condition number of Jac in iteration 2: 71.66178955301073\n",
      "Condition number of Jac in iteration 3: 72.74180723956586\n",
      "Condition number of Jac in iteration 4: 72.69883282262097\n",
      "Condition number of Jac in iteration 5: 72.71250076142589\n",
      "Condition number of Jac in iteration 6: 72.70922900684393\n",
      "Condition number of Jac in iteration 7: 72.71000353498809\n",
      "Condition number of Jac in iteration 8: 72.70982031104143\n",
      "Condition number of Jac in iteration 9: 72.7098636544552\n",
      "Condition number of Jac in iteration 10: 72.7098534011935\n"
     ]
    },
    {
     "data": {
      "text/plain": [
       "{'iterations': 10,\n",
       " 'voltages': array([[1.        , 1.        , 1.        , 1.        , 1.        ,\n",
       "         1.        , 1.        , 1.        , 1.        ],\n",
       "        [1.        , 1.        , 1.        , 0.96711123, 0.94348028,\n",
       "         0.98370619, 0.96257997, 0.98118981, 0.93204948],\n",
       "        [1.        , 1.        , 1.        , 0.95792223, 0.93049685,\n",
       "         0.97598669, 0.94997615, 0.9686839 , 0.91413024],\n",
       "        [1.        , 1.        , 1.        , 0.95783327, 0.93035482,\n",
       "         0.97592197, 0.9498522 , 0.96854229, 0.91386449],\n",
       "        [1.        , 1.        , 1.        , 0.95783336, 0.93035393,\n",
       "         0.97592282, 0.94985343, 0.96854384, 0.91386264],\n",
       "        [1.        , 1.        , 1.        , 0.95783392, 0.93035468,\n",
       "         0.97592291, 0.94985362, 0.96854396, 0.91386374],\n",
       "        [1.        , 1.        , 1.        , 0.95783378, 0.93035449,\n",
       "         0.97592289, 0.94985356, 0.96854393, 0.91386347],\n",
       "        [1.        , 1.        , 1.        , 0.95783381, 0.93035453,\n",
       "         0.97592289, 0.94985358, 0.96854393, 0.91386353],\n",
       "        [1.        , 1.        , 1.        , 0.9578338 , 0.93035452,\n",
       "         0.97592289, 0.94985357, 0.96854393, 0.91386352],\n",
       "        [1.        , 1.        , 1.        , 0.9578338 , 0.93035453,\n",
       "         0.97592289, 0.94985357, 0.96854393, 0.91386352],\n",
       "        [1.        , 1.        , 1.        , 0.9578338 , 0.93035453,\n",
       "         0.97592289, 0.94985357, 0.96854393, 0.91386352]]),\n",
       " 'phase_angles': array([[ 0.        ,  0.        ,  0.        ,  0.        ,  0.        ,\n",
       "          0.        ,  0.        ,  0.        ,  0.        ],\n",
       "        [ 0.        ,  9.78409459,  5.02105393, -2.21115872, -3.54756798,\n",
       "          2.16715115,  0.8984564 ,  3.94708705, -3.84587903],\n",
       "        [ 0.        , 10.11080788,  5.00240117, -2.49975512, -4.07775562,\n",
       "          2.07825601,  0.74360638,  4.07514757, -4.50576404],\n",
       "        [ 0.        , 10.10054248,  4.99303795, -2.50689911, -4.09157508,\n",
       "          2.06750468,  0.72696011,  4.06302734, -4.52840331],\n",
       "        [ 0.        , 10.10373424,  4.99552438, -2.50603385, -4.09010998,\n",
       "          2.06993026,  0.72970561,  4.06593125, -4.52675427],\n",
       "        [ 0.        , 10.102973  ,  4.99494533, -2.50622632, -4.0904359 ,\n",
       "          2.0693651 ,  0.72905994,  4.06523767, -4.52712052],\n",
       "        [ 0.        , 10.10315331,  4.99508199, -2.506181  , -4.09035924,\n",
       "          2.06949852,  0.72921258,  4.06540187, -4.52703431],\n",
       "        [ 0.        , 10.10311065,  4.99504968, -2.50619171, -4.09037737,\n",
       "          2.06946696,  0.72917648,  4.06536302, -4.5270547 ],\n",
       "        [ 0.        , 10.10312075,  4.99505732, -2.50618918, -4.09037308,\n",
       "          2.06947443,  0.72918502,  4.06537221, -4.52704987],\n",
       "        [ 0.        , 10.10311836,  4.99505551, -2.50618978, -4.09037409,\n",
       "          2.06947266,  0.729183  ,  4.06537004, -4.52705102],\n",
       "        [ 0.        , 10.10311892,  4.99505594, -2.50618964, -4.09037385,\n",
       "          2.06947308,  0.72918348,  4.06537055, -4.52705075]]),\n",
       " 'dpav_difference': array([0., 0., 0., 0., 0., 0., 0., 0., 0., 0.]),\n",
       " 'powerdata': <PowerFlow.PowerData at 0x12cc6fd00>}"
      ]
     },
     "execution_count": 24,
     "metadata": {},
     "output_type": "execute_result"
    }
   ],
   "source": [
    "pf.NR(case9Q, 1e-8)"
   ]
  }
 ],
 "metadata": {
  "kernelspec": {
   "display_name": "Python 3",
   "language": "python",
   "name": "python3"
  },
  "language_info": {
   "codemirror_mode": {
    "name": "ipython",
    "version": 3
   },
   "file_extension": ".py",
   "mimetype": "text/x-python",
   "name": "python",
   "nbconvert_exporter": "python",
   "pygments_lexer": "ipython3",
   "version": "3.10.4"
  }
 },
 "nbformat": 4,
 "nbformat_minor": 2
}
