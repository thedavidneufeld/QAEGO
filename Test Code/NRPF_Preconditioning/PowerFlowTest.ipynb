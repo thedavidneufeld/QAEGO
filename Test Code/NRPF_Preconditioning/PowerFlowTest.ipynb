{
 "cells": [
  {
   "cell_type": "markdown",
   "metadata": {},
   "source": [
    "**Imports**"
   ]
  },
  {
   "cell_type": "code",
   "execution_count": 1,
   "metadata": {},
   "outputs": [],
   "source": [
    "from PowerFlow import PowerData, NRPF"
   ]
  },
  {
   "cell_type": "markdown",
   "metadata": {},
   "source": [
    "**Initializations**"
   ]
  },
  {
   "cell_type": "code",
   "execution_count": 2,
   "metadata": {},
   "outputs": [],
   "source": [
    "# create NRPF object with classical solve method\n",
    "pf = NRPF()\n",
    "# create NRPF object with quantum solve method\n",
    "pf_hhl = NRPF('hhl')"
   ]
  },
  {
   "cell_type": "markdown",
   "metadata": {},
   "source": [
    "**Load/Solve Case3**"
   ]
  },
  {
   "cell_type": "code",
   "execution_count": 3,
   "metadata": {},
   "outputs": [
    {
     "name": "stdout",
     "output_type": "stream",
     "text": [
      "case3 buses:\n",
      " [[1.   0.9  0.4  1.02 0.   1.  ]\n",
      " [2.   0.   0.   1.03 0.   2.  ]\n",
      " [3.   1.1  0.4  1.   0.   3.  ]] \n",
      "\n",
      "case3 generators:\n",
      " [[ 1.    0.    0.    1.02 -1.    1.  ]\n",
      " [ 2.    1.4   0.    1.03 -1.    1.  ]] \n",
      "\n",
      "case3 branches:\n",
      " [[1.   +0.j  2.   +0.j  0.025+0.1j]\n",
      " [1.   +0.j  3.   +0.j  0.025+0.1j]\n",
      " [2.   +0.j  3.   +0.j  0.025+0.1j]]\n"
     ]
    }
   ],
   "source": [
    "# create a PowerData object and load case3\n",
    "case3 = PowerData()\n",
    "case3.loadcasedata('case3.m')\n",
    "# display case3\n",
    "print('case3 buses:\\n', case3.buses, '\\n')\n",
    "print('case3 generators:\\n', case3.gens, '\\n')\n",
    "print('case3 branches:\\n', case3.branches)"
   ]
  },
  {
   "cell_type": "code",
   "execution_count": 4,
   "metadata": {},
   "outputs": [
    {
     "name": "stdout",
     "output_type": "stream",
     "text": [
      "Condition number of Jac in iteration 1: 3.016104013900365\n",
      "Condition number of Jac in iteration 2: 3.0193998699940114\n",
      "Condition number of Jac in iteration 3: 3.018534629407144\n",
      "Condition number of Jac in iteration 4: 3.018531982152145\n",
      "\n",
      "Iterations: 4\n",
      "Voltages each iteration:\n",
      " [[1.02       1.03       1.        ]\n",
      " [1.02       1.03       0.99102564]\n",
      " [1.02       1.03       0.98926325]\n",
      " [1.02       1.03       0.98926028]\n",
      " [1.02       1.03       0.98926027]]\n",
      "Phase Angles each iteration:\n",
      " [[ 0.          0.          0.        ]\n",
      " [ 0.          3.1485323  -1.21297057]\n",
      " [ 0.          3.10372919 -1.267979  ]\n",
      " [ 0.          3.10386913 -1.26793577]\n",
      " [ 0.          3.10386918 -1.26793587]]\n"
     ]
    }
   ],
   "source": [
    "# solve case3 using the classical NR method\n",
    "case3_solve = pf.NR(case3, 1e-8)\n",
    "# print solver data\n",
    "print('\\nIterations:', case3_solve['iterations'])\n",
    "print('Voltages each iteration:\\n', case3_solve['voltages'])\n",
    "print('Phase Angles each iteration:\\n', case3_solve['phase_angles'])"
   ]
  },
  {
   "cell_type": "code",
   "execution_count": 5,
   "metadata": {},
   "outputs": [
    {
     "name": "stdout",
     "output_type": "stream",
     "text": [
      "Condition number of Jac in iteration 1: 3.028111506557652\n",
      "Condition number of Jac in iteration 2: 3.0860466465663645\n",
      "Condition number of Jac in iteration 3: 2.945936252594928\n",
      "Condition number of Jac in iteration 4: 2.9644653108699255\n",
      "Condition number of Jac in iteration 5: 2.9497355199640873\n",
      "\n",
      "Iterations: 5\n",
      "Voltages each iteration:\n",
      " [[1.02       1.03       1.        ]\n",
      " [1.02       1.03       0.99126573]\n",
      " [1.02       1.03       0.98925914]\n",
      " [1.02       1.03       0.98926025]\n",
      " [1.02       1.03       0.98926027]\n",
      " [1.02       1.03       0.98926027]]\n",
      "Phase Angles each iteration:\n",
      " [[ 0.          0.          0.        ]\n",
      " [ 0.          3.06429988 -1.18052007]\n",
      " [ 0.          3.10389128 -1.26806728]\n",
      " [ 0.          3.10386986 -1.26793882]\n",
      " [ 0.          3.1038692  -1.26793594]\n",
      " [ 0.          3.10386918 -1.26793587]]\n"
     ]
    }
   ],
   "source": [
    "# solve case3 using the classical NR method and APP\n",
    "case3_solve_APP = pf.NRAPP(case3, 1e-8)\n",
    "# print solver data\n",
    "print('\\nIterations:', case3_solve_APP['iterations'])\n",
    "print('Voltages each iteration:\\n', case3_solve_APP['voltages'])\n",
    "print('Phase Angles each iteration:\\n', case3_solve_APP['phase_angles'])"
   ]
  },
  {
   "cell_type": "code",
   "execution_count": 6,
   "metadata": {},
   "outputs": [
    {
     "name": "stdout",
     "output_type": "stream",
     "text": [
      "Condition number of Jac in iteration 1: 3.016104013900365\n",
      "Delta_PAV difference at iteration 1: 0.0036156327861971162 \n",
      "\n",
      "Condition number of Jac in iteration 2: 3.0172467777653664\n",
      "Delta_PAV difference at iteration 2: 0.0002797605240416431 \n",
      "\n",
      "Condition number of Jac in iteration 3: 3.0183380684200394\n",
      "Delta_PAV difference at iteration 3: 2.1845102075414193e-05 \n",
      "\n",
      "Condition number of Jac in iteration 4: 3.0185153173065795\n",
      "Delta_PAV difference at iteration 4: 1.6773455776026918e-06 \n",
      "\n",
      "Condition number of Jac in iteration 5: 3.018530694655885\n",
      "Delta_PAV difference at iteration 5: 1.2872455781018092e-07 \n",
      "\n",
      "Condition number of Jac in iteration 6: 3.0185318835234805\n",
      "Delta_PAV difference at iteration 6: 9.87839460708397e-09 \n",
      "\n",
      "Condition number of Jac in iteration 7: 3.018531974742858\n",
      "Delta_PAV difference at iteration 7: 7.580714481376128e-10 \n",
      "\n",
      "\n",
      "Iterations: 7\n",
      "Voltages each iteration:\n",
      " [[1.02       1.03       1.        ]\n",
      " [1.02       1.03       0.99135843]\n",
      " [1.02       1.03       0.98929856]\n",
      " [1.02       1.03       0.98926045]\n",
      " [1.02       1.03       0.98926026]\n",
      " [1.02       1.03       0.98926027]\n",
      " [1.02       1.03       0.98926027]\n",
      " [1.02       1.03       0.98926027]]\n",
      "Phase Angles each iteration:\n",
      " [[ 0.          0.          0.        ]\n",
      " [ 0.          2.98944347 -1.08165928]\n",
      " [ 0.          3.09314422 -1.25539755]\n",
      " [ 0.          3.10299349 -1.26702833]\n",
      " [ 0.          3.10380109 -1.26786714]\n",
      " [ 0.          3.10386394 -1.26793061]\n",
      " [ 0.          3.10386878 -1.26793546]\n",
      " [ 0.          3.10386915 -1.26793584]]\n"
     ]
    }
   ],
   "source": [
    "# solve case3 using the quantum NR method\n",
    "case3_hhl_solve = pf_hhl.NR(case3, 1e-8)\n",
    "# print solver data\n",
    "print('\\nIterations:', case3_hhl_solve['iterations'])\n",
    "print('Voltages each iteration:\\n', case3_hhl_solve['voltages'])\n",
    "print('Phase Angles each iteration:\\n', case3_hhl_solve['phase_angles'])"
   ]
  },
  {
   "cell_type": "code",
   "execution_count": 7,
   "metadata": {},
   "outputs": [
    {
     "name": "stdout",
     "output_type": "stream",
     "text": [
      "Condition number of Jac in iteration 1: 3.0007206525734738\n",
      "Delta_PAV difference at iteration 1: 0.000810652219676648 \n",
      "\n",
      "Condition number of Jac in iteration 2: 3.0818629645947815\n",
      "Delta_PAV difference at iteration 2: 2.2263874613655524e-05 \n",
      "\n",
      "Condition number of Jac in iteration 3: 3.044887768957739\n",
      "Delta_PAV difference at iteration 3: 9.21818409117741e-07 \n",
      "\n",
      "Condition number of Jac in iteration 4: 3.0508841819731867\n",
      "Delta_PAV difference at iteration 4: 8.45087852714935e-08 \n",
      "\n",
      "Condition number of Jac in iteration 5: 3.033624482002992\n",
      "Delta_PAV difference at iteration 5: 8.588191594706844e-09 \n",
      "\n",
      "Condition number of Jac in iteration 6: 3.015508242340439\n",
      "Delta_PAV difference at iteration 6: 6.059276968994652e-10 \n",
      "\n",
      "\n",
      "Iterations: 6\n",
      "Voltages each iteration:\n",
      " [[1.02       1.03       1.        ]\n",
      " [1.02       1.03       0.99126524]\n",
      " [1.02       1.03       0.98922935]\n",
      " [1.02       1.03       0.98925921]\n",
      " [1.02       1.03       0.98926024]\n",
      " [1.02       1.03       0.98926027]\n",
      " [1.02       1.03       0.98926027]]\n",
      "Phase Angles each iteration:\n",
      " [[ 0.          0.          0.        ]\n",
      " [ 0.          3.05269505 -1.16252973]\n",
      " [ 0.          3.10485973 -1.26811836]\n",
      " [ 0.          3.10395049 -1.26797467]\n",
      " [ 0.          3.10387449 -1.26793971]\n",
      " [ 0.          3.10386951 -1.2679362 ]\n",
      " [ 0.          3.1038692  -1.26793589]]\n"
     ]
    }
   ],
   "source": [
    "# solve case3 using the quantum NR method and APP\n",
    "case3_hhl_solve_APP = pf_hhl.NRAPP(case3, 1e-8)\n",
    "# print solver data\n",
    "print('\\nIterations:', case3_hhl_solve_APP['iterations'])\n",
    "print('Voltages each iteration:\\n', case3_hhl_solve_APP['voltages'])\n",
    "print('Phase Angles each iteration:\\n', case3_hhl_solve_APP['phase_angles'])"
   ]
  },
  {
   "cell_type": "markdown",
   "metadata": {},
   "source": [
    "**Load/Solve Case9Q**"
   ]
  },
  {
   "cell_type": "code",
   "execution_count": 8,
   "metadata": {},
   "outputs": [
    {
     "name": "stdout",
     "output_type": "stream",
     "text": [
      "case9Q buses:\n",
      " [[1.   0.   0.   1.   0.   1.  ]\n",
      " [2.   0.   0.   1.   0.   2.  ]\n",
      " [3.   0.   0.   1.   0.   2.  ]\n",
      " [4.   0.   0.   1.   0.   3.  ]\n",
      " [5.   0.9  0.3  1.   0.   3.  ]\n",
      " [6.   0.   0.   1.   0.   3.  ]\n",
      " [7.   1.   0.35 1.   0.   3.  ]\n",
      " [8.   0.   0.   1.   0.   3.  ]\n",
      " [9.   1.25 0.5  1.   0.   3.  ]] \n",
      "\n",
      "case9Q generators:\n",
      " [[ 1.    0.    0.    1.   -3.    3.  ]\n",
      " [ 2.    1.63  0.    1.   -3.    3.  ]\n",
      " [ 3.    0.85  0.    1.   -3.    3.  ]] \n",
      "\n",
      "case9Q branches:\n",
      " [[1.00e+00+0.j     4.00e+00+0.j     0.00e+00+0.0576j]\n",
      " [3.00e+00+0.j     6.00e+00+0.j     0.00e+00+0.0586j]\n",
      " [4.00e+00+0.j     5.00e+00+0.j     1.70e-02+0.092j ]\n",
      " [5.00e+00+0.j     6.00e+00+0.j     3.90e-02+0.17j  ]\n",
      " [6.00e+00+0.j     7.00e+00+0.j     1.19e-02+0.1008j]\n",
      " [7.00e+00+0.j     8.00e+00+0.j     8.50e-03+0.072j ]\n",
      " [8.00e+00+0.j     2.00e+00+0.j     0.00e+00+0.0625j]\n",
      " [8.00e+00+0.j     9.00e+00+0.j     3.20e-02+0.161j ]\n",
      " [9.00e+00+0.j     4.00e+00+0.j     1.00e-02+0.085j ]]\n"
     ]
    }
   ],
   "source": [
    "# create a PowerData object and load case9Q\n",
    "case9Q = PowerData()\n",
    "case9Q.loadcasedata('case9Q_simplified.m')\n",
    "# display case9Q\n",
    "print('case9Q buses:\\n', case9Q.buses, '\\n')\n",
    "print('case9Q generators:\\n', case9Q.gens, '\\n')\n",
    "print('case9Q branches:\\n', case9Q.branches)"
   ]
  },
  {
   "cell_type": "code",
   "execution_count": 9,
   "metadata": {},
   "outputs": [
    {
     "name": "stdout",
     "output_type": "stream",
     "text": [
      "Condition number of Jac in iteration 1: 59.4184596867475\n",
      "Condition number of Jac in iteration 2: 71.66178955301073\n",
      "Condition number of Jac in iteration 3: 72.74180723956586\n",
      "Condition number of Jac in iteration 4: 72.69883282262097\n",
      "Condition number of Jac in iteration 5: 72.71250076142589\n",
      "Condition number of Jac in iteration 6: 72.70922900684393\n",
      "Condition number of Jac in iteration 7: 72.71000353498809\n",
      "Condition number of Jac in iteration 8: 72.70982031104143\n",
      "Condition number of Jac in iteration 9: 72.7098636544552\n",
      "Condition number of Jac in iteration 10: 72.7098534011935\n",
      "\n",
      "Iterations: 10\n",
      "Voltages each iteration:\n",
      " [[1.         1.         1.         1.         1.         1.\n",
      "  1.         1.         1.        ]\n",
      " [1.         1.         1.         0.96711123 0.94348028 0.98370619\n",
      "  0.96257997 0.98118981 0.93204948]\n",
      " [1.         1.         1.         0.95792223 0.93049685 0.97598669\n",
      "  0.94997615 0.9686839  0.91413024]\n",
      " [1.         1.         1.         0.95783327 0.93035482 0.97592197\n",
      "  0.9498522  0.96854229 0.91386449]\n",
      " [1.         1.         1.         0.95783336 0.93035393 0.97592282\n",
      "  0.94985343 0.96854384 0.91386264]\n",
      " [1.         1.         1.         0.95783392 0.93035468 0.97592291\n",
      "  0.94985362 0.96854396 0.91386374]\n",
      " [1.         1.         1.         0.95783378 0.93035449 0.97592289\n",
      "  0.94985356 0.96854393 0.91386347]\n",
      " [1.         1.         1.         0.95783381 0.93035453 0.97592289\n",
      "  0.94985358 0.96854393 0.91386353]\n",
      " [1.         1.         1.         0.9578338  0.93035452 0.97592289\n",
      "  0.94985357 0.96854393 0.91386352]\n",
      " [1.         1.         1.         0.9578338  0.93035453 0.97592289\n",
      "  0.94985357 0.96854393 0.91386352]\n",
      " [1.         1.         1.         0.9578338  0.93035453 0.97592289\n",
      "  0.94985357 0.96854393 0.91386352]]\n",
      "Phase Angles each iteration:\n",
      " [[ 0.          0.          0.          0.          0.          0.\n",
      "   0.          0.          0.        ]\n",
      " [ 0.          9.78409459  5.02105393 -2.21115872 -3.54756798  2.16715115\n",
      "   0.8984564   3.94708705 -3.84587903]\n",
      " [ 0.         10.11080788  5.00240117 -2.49975512 -4.07775562  2.07825601\n",
      "   0.74360638  4.07514757 -4.50576404]\n",
      " [ 0.         10.10054248  4.99303795 -2.50689911 -4.09157508  2.06750468\n",
      "   0.72696011  4.06302734 -4.52840331]\n",
      " [ 0.         10.10373424  4.99552438 -2.50603385 -4.09010998  2.06993026\n",
      "   0.72970561  4.06593125 -4.52675427]\n",
      " [ 0.         10.102973    4.99494533 -2.50622632 -4.0904359   2.0693651\n",
      "   0.72905994  4.06523767 -4.52712052]\n",
      " [ 0.         10.10315331  4.99508199 -2.506181   -4.09035924  2.06949852\n",
      "   0.72921258  4.06540187 -4.52703431]\n",
      " [ 0.         10.10311065  4.99504968 -2.50619171 -4.09037737  2.06946696\n",
      "   0.72917648  4.06536302 -4.5270547 ]\n",
      " [ 0.         10.10312075  4.99505732 -2.50618918 -4.09037308  2.06947443\n",
      "   0.72918502  4.06537221 -4.52704987]\n",
      " [ 0.         10.10311836  4.99505551 -2.50618978 -4.09037409  2.06947266\n",
      "   0.729183    4.06537004 -4.52705102]\n",
      " [ 0.         10.10311892  4.99505594 -2.50618964 -4.09037385  2.06947308\n",
      "   0.72918348  4.06537055 -4.52705075]]\n"
     ]
    }
   ],
   "source": [
    "# solve case9Q using the classical NR method\n",
    "case9Q_solve = pf.NR(case9Q, 1e-8)\n",
    "# print solver data\n",
    "print('\\nIterations:', case9Q_solve['iterations'])\n",
    "print('Voltages each iteration:\\n', case9Q_solve['voltages'])\n",
    "print('Phase Angles each iteration:\\n', case9Q_solve['phase_angles'])"
   ]
  },
  {
   "cell_type": "code",
   "execution_count": 10,
   "metadata": {},
   "outputs": [
    {
     "name": "stdout",
     "output_type": "stream",
     "text": [
      "Condition number of Jac in iteration 1: 57.78153148219145\n",
      "Condition number of Jac in iteration 2: 73.54097734772037\n",
      "Condition number of Jac in iteration 3: 71.34014229921283\n",
      "Condition number of Jac in iteration 4: 73.72346703499326\n",
      "Condition number of Jac in iteration 5: 70.12368482161672\n",
      "Condition number of Jac in iteration 6: 74.96168814386618\n",
      "Condition number of Jac in iteration 7: 64.11250139498607\n",
      "Condition number of Jac in iteration 8: 74.52686733053748\n",
      "\n",
      "Iterations: 8\n",
      "Voltages each iteration:\n",
      " [[1.         1.         1.         1.         1.         1.\n",
      "  1.         1.         1.        ]\n",
      " [1.         1.         1.         0.96657293 0.94255521 0.9834395\n",
      "  0.96196751 0.98088194 0.93093731]\n",
      " [1.         1.         1.         0.95687012 0.9290266  0.97507755\n",
      "  0.94850934 0.96719577 0.91207675]\n",
      " [1.         1.         1.         0.95776372 0.93025165 0.97585728\n",
      "  0.94974899 0.96843821 0.91372451]\n",
      " [1.         1.         1.         0.95783048 0.93034906 0.97591918\n",
      "  0.94984765 0.96853781 0.91385609]\n",
      " [1.         1.         1.         0.95783345 0.93035391 0.97592249\n",
      "  0.94985293 0.96854326 0.91386267]\n",
      " [1.         1.         1.         0.9578338  0.93035451 0.97592288\n",
      "  0.94985355 0.9685439  0.91386349]\n",
      " [1.         1.         1.         0.9578338  0.93035452 0.97592289\n",
      "  0.94985357 0.96854393 0.91386351]\n",
      " [1.         1.         1.         0.9578338  0.93035453 0.97592289\n",
      "  0.94985357 0.96854393 0.91386352]]\n",
      "Phase Angles each iteration:\n",
      " [[ 0.          0.          0.          0.          0.          0.\n",
      "   0.          0.          0.        ]\n",
      " [ 0.          9.94423338  5.10323481 -2.24734933 -3.60563193  2.20262147\n",
      "   0.91316167  4.01169004 -3.90882552]\n",
      " [ 0.         10.1124172   4.97488383 -2.53642016 -4.14557123  2.04773145\n",
      "   0.70462725  4.06436776 -4.59095321]\n",
      " [ 0.         10.10588415  4.99559087 -2.50789216 -4.09341257  2.06975958\n",
      "   0.72918026  4.06710536 -4.53064352]\n",
      " [ 0.         10.10299094  4.99490357 -2.50635292 -4.09064854  2.06930495\n",
      "   0.72894688  4.06520202 -4.52737155]\n",
      " [ 0.         10.10314583  4.99507178 -2.50619669 -4.09038502  2.06948619\n",
      "   0.72919257  4.06538887 -4.52706444]\n",
      " [ 0.         10.1031159   4.99505359 -2.50619096 -4.09037599  2.06947066\n",
      "   0.72918033  4.06536746 -4.52705317]\n",
      " [ 0.         10.10311895  4.99505595 -2.50618972 -4.09037398  2.06947307\n",
      "   0.7291834   4.06537051 -4.52705089]\n",
      " [ 0.         10.1031188   4.99505585 -2.50618967 -4.09037391  2.06947299\n",
      "   0.72918337  4.06537044 -4.52705081]]\n"
     ]
    }
   ],
   "source": [
    "# solve case9Q using the classical NR method and APP\n",
    "case9Q_solve_APP = pf.NRAPP(case9Q, 1e-8)\n",
    "# print solver data\n",
    "print('\\nIterations:', case9Q_solve_APP['iterations'])\n",
    "print('Voltages each iteration:\\n', case9Q_solve_APP['voltages'])\n",
    "print('Phase Angles each iteration:\\n', case9Q_solve_APP['phase_angles'])"
   ]
  }
 ],
 "metadata": {
  "kernelspec": {
   "display_name": "Python 3",
   "language": "python",
   "name": "python3"
  },
  "language_info": {
   "codemirror_mode": {
    "name": "ipython",
    "version": 3
   },
   "file_extension": ".py",
   "mimetype": "text/x-python",
   "name": "python",
   "nbconvert_exporter": "python",
   "pygments_lexer": "ipython3",
   "version": "3.10.4"
  }
 },
 "nbformat": 4,
 "nbformat_minor": 2
}
