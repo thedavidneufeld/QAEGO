{
 "cells": [
  {
   "cell_type": "markdown",
   "metadata": {},
   "source": [
    "**Imports**"
   ]
  },
  {
   "cell_type": "code",
   "execution_count": 1,
   "metadata": {},
   "outputs": [],
   "source": [
    "from PowerFlow import PowerData, NRPF"
   ]
  },
  {
   "cell_type": "markdown",
   "metadata": {},
   "source": [
    "**Initializations**"
   ]
  },
  {
   "cell_type": "code",
   "execution_count": 2,
   "metadata": {},
   "outputs": [],
   "source": [
    "# create NRPF object with classical solve method\n",
    "pf = NRPF()\n",
    "# create NRPF object with quantum solve method\n",
    "pf_hhl = NRPF('hhl')"
   ]
  },
  {
   "cell_type": "markdown",
   "metadata": {},
   "source": [
    "**Load/Solve Case3**"
   ]
  },
  {
   "cell_type": "code",
   "execution_count": 3,
   "metadata": {},
   "outputs": [
    {
     "name": "stdout",
     "output_type": "stream",
     "text": [
      "case3 buses:\n",
      " [[1.   0.9  0.4  1.02 0.   1.  ]\n",
      " [2.   0.   0.   1.03 0.   2.  ]\n",
      " [3.   1.1  0.4  1.   0.   3.  ]] \n",
      "\n",
      "case3 generators:\n",
      " [[ 1.    0.    0.    1.02 -1.    1.  ]\n",
      " [ 2.    1.4   0.    1.03 -1.    1.  ]] \n",
      "\n",
      "case3 branches:\n",
      " [[1.   +0.j  2.   +0.j  0.025+0.1j]\n",
      " [1.   +0.j  3.   +0.j  0.025+0.1j]\n",
      " [2.   +0.j  3.   +0.j  0.025+0.1j]]\n"
     ]
    }
   ],
   "source": [
    "# create a PowerData object and load case3\n",
    "case3 = PowerData()\n",
    "case3.loadcasedata('case3.m')\n",
    "# display case3\n",
    "print('case3 buses:\\n', case3.buses, '\\n')\n",
    "print('case3 generators:\\n', case3.gens, '\\n')\n",
    "print('case3 branches:\\n', case3.branches)"
   ]
  },
  {
   "cell_type": "code",
   "execution_count": 4,
   "metadata": {},
   "outputs": [
    {
     "name": "stdout",
     "output_type": "stream",
     "text": [
      "Condition number of Jac in iteration 1: 3.016104013900365\n",
      "Condition number of Jac in iteration 2: 3.0193998699940114\n",
      "Condition number of Jac in iteration 3: 3.018534629407144\n",
      "Condition number of Jac in iteration 4: 3.018531982152145\n",
      "\n",
      "Iterations: 4\n",
      "Voltages each iteration:\n",
      " [[1.02       1.03       1.        ]\n",
      " [1.02       1.03       0.99102564]\n",
      " [1.02       1.03       0.98926325]\n",
      " [1.02       1.03       0.98926028]\n",
      " [1.02       1.03       0.98926027]]\n",
      "Phase Angles each iteration:\n",
      " [[ 0.          0.          0.        ]\n",
      " [ 0.          3.1485323  -1.21297057]\n",
      " [ 0.          3.10372919 -1.267979  ]\n",
      " [ 0.          3.10386913 -1.26793577]\n",
      " [ 0.          3.10386918 -1.26793587]]\n"
     ]
    }
   ],
   "source": [
    "# solve case3 using the classical NR method\n",
    "case3_solve = pf.NR(case3, 1e-8)\n",
    "# print solver data\n",
    "print('\\nIterations:', case3_solve['iterations'])\n",
    "print('Voltages each iteration:\\n', case3_solve['voltages'])\n",
    "print('Phase Angles each iteration:\\n', case3_solve['phase_angles'])"
   ]
  },
  {
   "cell_type": "code",
   "execution_count": 5,
   "metadata": {},
   "outputs": [
    {
     "name": "stdout",
     "output_type": "stream",
     "text": [
      "Condition number of Jac in iteration 1: 2.8565659463423305\n",
      "Condition number of Jac in iteration 2: 2.855765066619223\n",
      "Condition number of Jac in iteration 3: 2.854543462699941\n",
      "Condition number of Jac in iteration 4: 2.854541369724525\n",
      "Condition number of Jac in iteration 5: 2.854541234830279\n",
      "Condition number of Jac in iteration 6: 2.854541226217487\n",
      "\n",
      "Iterations: 6\n",
      "Voltages each iteration:\n",
      " [[1.02       1.03       1.        ]\n",
      " [1.02       1.03       0.99038422]\n",
      " [1.02       1.03       0.98927182]\n",
      " [1.02       1.03       0.98926111]\n",
      " [1.02       1.03       0.98926033]\n",
      " [1.02       1.03       0.98926028]\n",
      " [1.02       1.03       0.98926027]]\n",
      "Phase Angles each iteration:\n",
      " [[ 0.          0.          0.        ]\n",
      " [ 0.          3.08878049 -1.28390676]\n",
      " [ 0.          3.10530775 -1.26659795]\n",
      " [ 0.          3.10395245 -1.26784461]\n",
      " [ 0.          3.10387452 -1.26793005]\n",
      " [ 0.          3.10386952 -1.2679355 ]\n",
      " [ 0.          3.1038692  -1.26793584]]\n"
     ]
    }
   ],
   "source": [
    "# solve case3 using the classical NR method and APP\n",
    "case3_solve_APP = pf.NRAPP(case3, 1e-8)\n",
    "# print solver data\n",
    "print('\\nIterations:', case3_solve_APP['iterations'])\n",
    "print('Voltages each iteration:\\n', case3_solve_APP['voltages'])\n",
    "print('Phase Angles each iteration:\\n', case3_solve_APP['phase_angles'])"
   ]
  },
  {
   "cell_type": "code",
   "execution_count": 6,
   "metadata": {},
   "outputs": [
    {
     "name": "stdout",
     "output_type": "stream",
     "text": [
      "Condition number of Jac in iteration 1: 3.016104013900365\n",
      "Delta_PAV difference at iteration 1: 0.0036156327861971162 \n",
      "\n",
      "Condition number of Jac in iteration 2: 3.0172467777653664\n",
      "Delta_PAV difference at iteration 2: 0.0002797605240416431 \n",
      "\n",
      "Condition number of Jac in iteration 3: 3.0183380684200394\n",
      "Delta_PAV difference at iteration 3: 2.1845102075414193e-05 \n",
      "\n",
      "Condition number of Jac in iteration 4: 3.0185153173065795\n",
      "Delta_PAV difference at iteration 4: 1.6773455776026918e-06 \n",
      "\n",
      "Condition number of Jac in iteration 5: 3.018530694655885\n",
      "Delta_PAV difference at iteration 5: 1.2872455781018092e-07 \n",
      "\n",
      "Condition number of Jac in iteration 6: 3.0185318835234805\n",
      "Delta_PAV difference at iteration 6: 9.87839460708397e-09 \n",
      "\n",
      "Condition number of Jac in iteration 7: 3.018531974742858\n",
      "Delta_PAV difference at iteration 7: 7.580714481376128e-10 \n",
      "\n",
      "\n",
      "Iterations: 7\n",
      "Voltages each iteration:\n",
      " [[1.02       1.03       1.        ]\n",
      " [1.02       1.03       0.99135843]\n",
      " [1.02       1.03       0.98929856]\n",
      " [1.02       1.03       0.98926045]\n",
      " [1.02       1.03       0.98926026]\n",
      " [1.02       1.03       0.98926027]\n",
      " [1.02       1.03       0.98926027]\n",
      " [1.02       1.03       0.98926027]]\n",
      "Phase Angles each iteration:\n",
      " [[ 0.          0.          0.        ]\n",
      " [ 0.          2.98944347 -1.08165928]\n",
      " [ 0.          3.09314422 -1.25539755]\n",
      " [ 0.          3.10299349 -1.26702833]\n",
      " [ 0.          3.10380109 -1.26786714]\n",
      " [ 0.          3.10386394 -1.26793061]\n",
      " [ 0.          3.10386878 -1.26793546]\n",
      " [ 0.          3.10386915 -1.26793584]]\n"
     ]
    }
   ],
   "source": [
    "# solve case3 using the quantum NR method\n",
    "case3_hhl_solve = pf_hhl.NR(case3, 1e-8)\n",
    "# print solver data\n",
    "print('\\nIterations:', case3_hhl_solve['iterations'])\n",
    "print('Voltages each iteration:\\n', case3_hhl_solve['voltages'])\n",
    "print('Phase Angles each iteration:\\n', case3_hhl_solve['phase_angles'])"
   ]
  },
  {
   "cell_type": "code",
   "execution_count": 7,
   "metadata": {},
   "outputs": [
    {
     "name": "stdout",
     "output_type": "stream",
     "text": [
      "Condition number of Jac in iteration 1: 2.8933971096838533\n",
      "Delta_PAV difference at iteration 1: 0.003744623267247188 \n",
      "\n",
      "Condition number of Jac in iteration 2: 2.8920260230806774\n",
      "Delta_PAV difference at iteration 2: 0.00030231935455260126 \n",
      "\n",
      "Condition number of Jac in iteration 3: 2.8928500922149816\n",
      "Delta_PAV difference at iteration 3: 2.2166074392996653e-05 \n",
      "\n",
      "Condition number of Jac in iteration 4: 2.892981687499652\n",
      "Delta_PAV difference at iteration 4: 1.6067688381532965e-06 \n",
      "\n",
      "Condition number of Jac in iteration 5: 2.8929924298417937\n",
      "Delta_PAV difference at iteration 5: 1.1855615444358267e-07 \n",
      "\n",
      "Condition number of Jac in iteration 6: 2.8929932523842004\n",
      "Delta_PAV difference at iteration 6: 8.855991954156432e-09 \n",
      "\n",
      "Condition number of Jac in iteration 7: 2.8929933152135185\n",
      "Delta_PAV difference at iteration 7: 6.663338804049503e-10 \n",
      "\n",
      "\n",
      "Iterations: 7\n",
      "Voltages each iteration:\n",
      " [[1.02       1.03       1.        ]\n",
      " [1.02       1.03       0.99110285]\n",
      " [1.02       1.03       0.98933502]\n",
      " [1.02       1.03       0.98926373]\n",
      " [1.02       1.03       0.98926045]\n",
      " [1.02       1.03       0.98926028]\n",
      " [1.02       1.03       0.98926027]\n",
      " [1.02       1.03       0.98926027]]\n",
      "Phase Angles each iteration:\n",
      " [[ 0.          0.          0.        ]\n",
      " [ 0.          2.98174449 -1.06689572]\n",
      " [ 0.          3.09574457 -1.25241172]\n",
      " [ 0.          3.10319469 -1.26689714]\n",
      " [ 0.          3.10381452 -1.26786419]\n",
      " [ 0.          3.10386488 -1.26793073]\n",
      " [ 0.          3.10386885 -1.26793549]\n",
      " [ 0.          3.10386916 -1.26793584]]\n"
     ]
    }
   ],
   "source": [
    "# solve case3 using the quantum NR method and APP\n",
    "case3_hhl_solve_APP = pf_hhl.NRAPP(case3, 1e-8)\n",
    "# print solver data\n",
    "print('\\nIterations:', case3_hhl_solve_APP['iterations'])\n",
    "print('Voltages each iteration:\\n', case3_hhl_solve_APP['voltages'])\n",
    "print('Phase Angles each iteration:\\n', case3_hhl_solve_APP['phase_angles'])"
   ]
  },
  {
   "cell_type": "markdown",
   "metadata": {},
   "source": [
    "**Load/Solve Case9Q**"
   ]
  },
  {
   "cell_type": "code",
   "execution_count": 8,
   "metadata": {},
   "outputs": [
    {
     "name": "stdout",
     "output_type": "stream",
     "text": [
      "case9Q buses:\n",
      " [[1.   0.   0.   1.   0.   1.  ]\n",
      " [2.   0.   0.   1.   0.   2.  ]\n",
      " [3.   0.   0.   1.   0.   2.  ]\n",
      " [4.   0.   0.   1.   0.   3.  ]\n",
      " [5.   0.9  0.3  1.   0.   3.  ]\n",
      " [6.   0.   0.   1.   0.   3.  ]\n",
      " [7.   1.   0.35 1.   0.   3.  ]\n",
      " [8.   0.   0.   1.   0.   3.  ]\n",
      " [9.   1.25 0.5  1.   0.   3.  ]] \n",
      "\n",
      "case9Q generators:\n",
      " [[ 1.    0.    0.    1.   -3.    3.  ]\n",
      " [ 2.    1.63  0.    1.   -3.    3.  ]\n",
      " [ 3.    0.85  0.    1.   -3.    3.  ]] \n",
      "\n",
      "case9Q branches:\n",
      " [[1.00e+00+0.j     4.00e+00+0.j     0.00e+00+0.0576j]\n",
      " [3.00e+00+0.j     6.00e+00+0.j     0.00e+00+0.0586j]\n",
      " [4.00e+00+0.j     5.00e+00+0.j     1.70e-02+0.092j ]\n",
      " [5.00e+00+0.j     6.00e+00+0.j     3.90e-02+0.17j  ]\n",
      " [6.00e+00+0.j     7.00e+00+0.j     1.19e-02+0.1008j]\n",
      " [7.00e+00+0.j     8.00e+00+0.j     8.50e-03+0.072j ]\n",
      " [8.00e+00+0.j     2.00e+00+0.j     0.00e+00+0.0625j]\n",
      " [8.00e+00+0.j     9.00e+00+0.j     3.20e-02+0.161j ]\n",
      " [9.00e+00+0.j     4.00e+00+0.j     1.00e-02+0.085j ]]\n"
     ]
    }
   ],
   "source": [
    "# create a PowerData object and load case9Q\n",
    "case9Q = PowerData()\n",
    "case9Q.loadcasedata('case9Q_simplified.m')\n",
    "# display case9Q\n",
    "print('case9Q buses:\\n', case9Q.buses, '\\n')\n",
    "print('case9Q generators:\\n', case9Q.gens, '\\n')\n",
    "print('case9Q branches:\\n', case9Q.branches)"
   ]
  },
  {
   "cell_type": "code",
   "execution_count": 9,
   "metadata": {},
   "outputs": [
    {
     "name": "stdout",
     "output_type": "stream",
     "text": [
      "Condition number of Jac in iteration 1: 59.4184596867475\n",
      "Condition number of Jac in iteration 2: 71.66178955301073\n",
      "Condition number of Jac in iteration 3: 72.74180723956586\n",
      "Condition number of Jac in iteration 4: 72.69883282262097\n",
      "Condition number of Jac in iteration 5: 72.71250076142589\n",
      "Condition number of Jac in iteration 6: 72.70922900684393\n",
      "Condition number of Jac in iteration 7: 72.71000353498809\n",
      "Condition number of Jac in iteration 8: 72.70982031104143\n",
      "Condition number of Jac in iteration 9: 72.7098636544552\n",
      "Condition number of Jac in iteration 10: 72.7098534011935\n",
      "\n",
      "Iterations: 10\n",
      "Voltages each iteration:\n",
      " [[1.         1.         1.         1.         1.         1.\n",
      "  1.         1.         1.        ]\n",
      " [1.         1.         1.         0.96711123 0.94348028 0.98370619\n",
      "  0.96257997 0.98118981 0.93204948]\n",
      " [1.         1.         1.         0.95792223 0.93049685 0.97598669\n",
      "  0.94997615 0.9686839  0.91413024]\n",
      " [1.         1.         1.         0.95783327 0.93035482 0.97592197\n",
      "  0.9498522  0.96854229 0.91386449]\n",
      " [1.         1.         1.         0.95783336 0.93035393 0.97592282\n",
      "  0.94985343 0.96854384 0.91386264]\n",
      " [1.         1.         1.         0.95783392 0.93035468 0.97592291\n",
      "  0.94985362 0.96854396 0.91386374]\n",
      " [1.         1.         1.         0.95783378 0.93035449 0.97592289\n",
      "  0.94985356 0.96854393 0.91386347]\n",
      " [1.         1.         1.         0.95783381 0.93035453 0.97592289\n",
      "  0.94985358 0.96854393 0.91386353]\n",
      " [1.         1.         1.         0.9578338  0.93035452 0.97592289\n",
      "  0.94985357 0.96854393 0.91386352]\n",
      " [1.         1.         1.         0.9578338  0.93035453 0.97592289\n",
      "  0.94985357 0.96854393 0.91386352]\n",
      " [1.         1.         1.         0.9578338  0.93035453 0.97592289\n",
      "  0.94985357 0.96854393 0.91386352]]\n",
      "Phase Angles each iteration:\n",
      " [[ 0.          0.          0.          0.          0.          0.\n",
      "   0.          0.          0.        ]\n",
      " [ 0.          9.78409459  5.02105393 -2.21115872 -3.54756798  2.16715115\n",
      "   0.8984564   3.94708705 -3.84587903]\n",
      " [ 0.         10.11080788  5.00240117 -2.49975512 -4.07775562  2.07825601\n",
      "   0.74360638  4.07514757 -4.50576404]\n",
      " [ 0.         10.10054248  4.99303795 -2.50689911 -4.09157508  2.06750468\n",
      "   0.72696011  4.06302734 -4.52840331]\n",
      " [ 0.         10.10373424  4.99552438 -2.50603385 -4.09010998  2.06993026\n",
      "   0.72970561  4.06593125 -4.52675427]\n",
      " [ 0.         10.102973    4.99494533 -2.50622632 -4.0904359   2.0693651\n",
      "   0.72905994  4.06523767 -4.52712052]\n",
      " [ 0.         10.10315331  4.99508199 -2.506181   -4.09035924  2.06949852\n",
      "   0.72921258  4.06540187 -4.52703431]\n",
      " [ 0.         10.10311065  4.99504968 -2.50619171 -4.09037737  2.06946696\n",
      "   0.72917648  4.06536302 -4.5270547 ]\n",
      " [ 0.         10.10312075  4.99505732 -2.50618918 -4.09037308  2.06947443\n",
      "   0.72918502  4.06537221 -4.52704987]\n",
      " [ 0.         10.10311836  4.99505551 -2.50618978 -4.09037409  2.06947266\n",
      "   0.729183    4.06537004 -4.52705102]\n",
      " [ 0.         10.10311892  4.99505594 -2.50618964 -4.09037385  2.06947308\n",
      "   0.72918348  4.06537055 -4.52705075]]\n"
     ]
    }
   ],
   "source": [
    "# solve case9Q using the classical NR method\n",
    "case9Q_solve = pf.NR(case9Q, 1e-8)\n",
    "# print solver data\n",
    "print('\\nIterations:', case9Q_solve['iterations'])\n",
    "print('Voltages each iteration:\\n', case9Q_solve['voltages'])\n",
    "print('Phase Angles each iteration:\\n', case9Q_solve['phase_angles'])"
   ]
  },
  {
   "cell_type": "code",
   "execution_count": 10,
   "metadata": {},
   "outputs": [
    {
     "name": "stdout",
     "output_type": "stream",
     "text": [
      "Condition number of Jac in iteration 1: 42.32129329242752\n",
      "Condition number of Jac in iteration 2: 48.54849206527222\n",
      "Condition number of Jac in iteration 3: 49.593325208964124\n",
      "Condition number of Jac in iteration 4: 48.95672970242489\n",
      "Condition number of Jac in iteration 5: 48.83890600739401\n",
      "Condition number of Jac in iteration 6: 48.80319961631507\n",
      "Condition number of Jac in iteration 7: 48.79378362727697\n",
      "Condition number of Jac in iteration 8: 48.79119612676295\n",
      "Condition number of Jac in iteration 9: 48.790492301773796\n",
      "Condition number of Jac in iteration 10: 48.790300262674734\n",
      "Condition number of Jac in iteration 11: 48.79024790431493\n",
      "Condition number of Jac in iteration 12: 48.79023362583353\n",
      "Condition number of Jac in iteration 13: 48.790229732212694\n",
      "\n",
      "Iterations: 13\n",
      "Voltages each iteration:\n",
      " [[1.         1.         1.         1.         1.         1.\n",
      "  1.         1.         1.        ]\n",
      " [1.         1.         1.         0.96719449 0.94366832 0.98373638\n",
      "  0.96262565 0.98121994 0.93204277]\n",
      " [1.         1.         1.         0.95823845 0.93100729 0.97644136\n",
      "  0.95067811 0.96914908 0.91463012]\n",
      " [1.         1.         1.         0.95804799 0.93067716 0.97614608\n",
      "  0.95019843 0.96877301 0.91422398]\n",
      " [1.         1.         1.         0.95788161 0.93042835 0.9759759\n",
      "  0.94993595 0.96859805 0.91394413]\n",
      " [1.         1.         1.         0.95784746 0.93037547 0.97593781\n",
      "  0.94987674 0.96855918 0.91388658]\n",
      " [1.         1.         1.         0.95783747 0.93036016 0.97592692\n",
      "  0.94985983 0.96854804 0.91386971]\n",
      " [1.         1.         1.         0.95783481 0.93035607 0.97592399\n",
      "  0.94985528 0.96854506 0.91386521]\n",
      " [1.         1.         1.         0.95783408 0.93035495 0.97592319\n",
      "  0.94985404 0.96854424 0.91386398]\n",
      " [1.         1.         1.         0.95783388 0.93035464 0.97592297\n",
      "  0.9498537  0.96854402 0.91386364]\n",
      " [1.         1.         1.         0.95783382 0.93035456 0.97592292\n",
      "  0.94985361 0.96854395 0.91386355]\n",
      " [1.         1.         1.         0.95783381 0.93035453 0.9759229\n",
      "  0.94985358 0.96854394 0.91386353]\n",
      " [1.         1.         1.         0.9578338  0.93035453 0.97592289\n",
      "  0.94985358 0.96854393 0.91386352]\n",
      " [1.         1.         1.         0.9578338  0.93035453 0.97592289\n",
      "  0.94985358 0.96854393 0.91386352]]\n",
      "Phase Angles each iteration:\n",
      " [[ 0.          0.          0.          0.          0.          0.\n",
      "   0.          0.          0.        ]\n",
      " [ 0.          9.80323343  5.06361136 -2.20209165 -3.52585619  2.20445416\n",
      "   0.93235523  3.97187296 -3.83468434]\n",
      " [ 0.         10.43325033  5.32437362 -2.38947703 -3.88592947  2.38398516\n",
      "   1.06338034  4.38345698 -4.31114723]\n",
      " [ 0.         10.16948378  5.07768815 -2.47660268 -4.03823491  2.14687878\n",
      "   0.80543319  4.1321809  -4.47668769]\n",
      " [ 0.         10.12330835  5.0181569  -2.49802813 -4.07607462  2.09123251\n",
      "   0.75115421  4.08532501 -4.51295939]\n",
      " [ 0.         10.10847339  5.00131491 -2.50397732 -4.08648866  2.07535949\n",
      "   0.73508766  4.07068497 -4.52324347]\n",
      " [ 0.         10.1045909   4.99676565 -2.50558581 -4.089314    2.07108169\n",
      "   0.73080001  4.06682956 -4.52601051]\n",
      " [ 0.         10.1035194   4.99552189 -2.50602507 -4.09008495  2.06991142\n",
      "   0.72962375  4.06576764 -4.52676731]\n",
      " [ 0.         10.10322812  4.99518296 -2.50614478 -4.0902951   2.06959258\n",
      "   0.72930351  4.06547882 -4.52697348]\n",
      " [ 0.         10.10314862  4.99509052 -2.50617742 -4.09035241  2.06950561\n",
      "   0.72921614  4.0654     -4.52702971]\n",
      " [ 0.         10.10312694  4.99506531 -2.50618633 -4.09036804  2.06948189\n",
      "   0.72919232  4.06537851 -4.52704505]\n",
      " [ 0.         10.10312103  4.99505843 -2.50618875 -4.0903723   2.06947542\n",
      "   0.72918582  4.06537265 -4.52704923]\n",
      " [ 0.         10.10311942  4.99505656 -2.50618942 -4.09037346  2.06947366\n",
      "   0.72918405  4.06537105 -4.52705037]\n",
      " [ 0.         10.10311898  4.99505605 -2.5061896  -4.09037378  2.06947318\n",
      "   0.72918357  4.06537062 -4.52705068]]\n"
     ]
    }
   ],
   "source": [
    "# solve case9Q using the classical NR method and APP\n",
    "case9Q_solve_APP = pf.NRAPP(case9Q, 1e-8)\n",
    "# print solver data\n",
    "print('\\nIterations:', case9Q_solve_APP['iterations'])\n",
    "print('Voltages each iteration:\\n', case9Q_solve_APP['voltages'])\n",
    "print('Phase Angles each iteration:\\n', case9Q_solve_APP['phase_angles'])"
   ]
  }
 ],
 "metadata": {
  "kernelspec": {
   "display_name": "Python 3",
   "language": "python",
   "name": "python3"
  },
  "language_info": {
   "codemirror_mode": {
    "name": "ipython",
    "version": 3
   },
   "file_extension": ".py",
   "mimetype": "text/x-python",
   "name": "python",
   "nbconvert_exporter": "python",
   "pygments_lexer": "ipython3",
   "version": "3.10.4"
  }
 },
 "nbformat": 4,
 "nbformat_minor": 2
}
