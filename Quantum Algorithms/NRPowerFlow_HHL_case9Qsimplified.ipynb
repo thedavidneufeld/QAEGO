{
  "cells": [
    {
      "cell_type": "markdown",
      "metadata": {
        "id": "IMCLoL1IbAK9"
      },
      "source": [
        "**Imports**"
      ]
    },
    {
      "cell_type": "code",
      "source": [
        "!pip install git+https://github.com/anedumla/quantum_linear_solvers"
      ],
      "metadata": {
        "colab": {
          "base_uri": "https://localhost:8080/"
        },
        "id": "eE1ukeFRcTzy",
        "outputId": "984b3d3e-0bd5-4be6-db72-e0a3eaf1297c"
      },
      "execution_count": 20,
      "outputs": [
        {
          "output_type": "stream",
          "name": "stdout",
          "text": [
            "Looking in indexes: https://pypi.org/simple, https://us-python.pkg.dev/colab-wheels/public/simple/\n",
            "Collecting git+https://github.com/anedumla/quantum_linear_solvers\n",
            "  Cloning https://github.com/anedumla/quantum_linear_solvers to /tmp/pip-req-build-ir80rhwo\n",
            "  Running command git clone --filter=blob:none --quiet https://github.com/anedumla/quantum_linear_solvers /tmp/pip-req-build-ir80rhwo\n",
            "  Resolved https://github.com/anedumla/quantum_linear_solvers to commit 08bf4f6673308568b5654e5d3fde9f8df5d887d7\n",
            "  Installing build dependencies ... \u001b[?25l\u001b[?25hdone\n",
            "  Getting requirements to build wheel ... \u001b[?25l\u001b[?25hdone\n",
            "  Installing backend dependencies ... \u001b[?25l\u001b[?25hdone\n",
            "  Preparing metadata (pyproject.toml) ... \u001b[?25l\u001b[?25hdone\n",
            "Requirement already satisfied: importlib-metadata in /usr/local/lib/python3.10/dist-packages (from quantum-linear-solvers==0.1.dev5+g08bf4f6) (6.6.0)\n",
            "Requirement already satisfied: mapomatic==0.6 in /usr/local/lib/python3.10/dist-packages (from quantum-linear-solvers==0.1.dev5+g08bf4f6) (0.6.0)\n",
            "Requirement already satisfied: mthree==0.24 in /usr/local/lib/python3.10/dist-packages (from quantum-linear-solvers==0.1.dev5+g08bf4f6) (0.24.0)\n",
            "Requirement already satisfied: pylatexenc in /usr/local/lib/python3.10/dist-packages (from quantum-linear-solvers==0.1.dev5+g08bf4f6) (2.10)\n",
            "Requirement already satisfied: qiskit-aer in /usr/local/lib/python3.10/dist-packages (from quantum-linear-solvers==0.1.dev5+g08bf4f6) (0.12.0)\n",
            "Requirement already satisfied: qiskit-ibmq-provider in /usr/local/lib/python3.10/dist-packages (from quantum-linear-solvers==0.1.dev5+g08bf4f6) (0.20.2)\n",
            "Requirement already satisfied: qiskit-terra>=0.21 in /usr/local/lib/python3.10/dist-packages (from quantum-linear-solvers==0.1.dev5+g08bf4f6) (0.24.0)\n",
            "Requirement already satisfied: retworkx>=0.10.2 in /usr/local/lib/python3.10/dist-packages (from mapomatic==0.6->quantum-linear-solvers==0.1.dev5+g08bf4f6) (0.12.1)\n",
            "Requirement already satisfied: numpy>=1.17 in /usr/local/lib/python3.10/dist-packages (from mthree==0.24->quantum-linear-solvers==0.1.dev5+g08bf4f6) (1.22.4)\n",
            "Requirement already satisfied: scipy>=1.3 in /usr/local/lib/python3.10/dist-packages (from mthree==0.24->quantum-linear-solvers==0.1.dev5+g08bf4f6) (1.10.1)\n",
            "Requirement already satisfied: cython>=0.29 in /usr/local/lib/python3.10/dist-packages (from mthree==0.24->quantum-linear-solvers==0.1.dev5+g08bf4f6) (0.29.34)\n",
            "Requirement already satisfied: psutil in /usr/local/lib/python3.10/dist-packages (from mthree==0.24->quantum-linear-solvers==0.1.dev5+g08bf4f6) (5.9.5)\n",
            "Requirement already satisfied: orjson>=3.0.0 in /usr/local/lib/python3.10/dist-packages (from mthree==0.24->quantum-linear-solvers==0.1.dev5+g08bf4f6) (3.8.12)\n",
            "Requirement already satisfied: requests>=2.19 in /usr/local/lib/python3.10/dist-packages (from qiskit-ibmq-provider->quantum-linear-solvers==0.1.dev5+g08bf4f6) (2.27.1)\n",
            "Requirement already satisfied: requests-ntlm<=1.1.0 in /usr/local/lib/python3.10/dist-packages (from qiskit-ibmq-provider->quantum-linear-solvers==0.1.dev5+g08bf4f6) (1.1.0)\n",
            "Requirement already satisfied: urllib3>=1.21.1 in /usr/local/lib/python3.10/dist-packages (from qiskit-ibmq-provider->quantum-linear-solvers==0.1.dev5+g08bf4f6) (1.26.15)\n",
            "Requirement already satisfied: python-dateutil>=2.8.0 in /usr/local/lib/python3.10/dist-packages (from qiskit-ibmq-provider->quantum-linear-solvers==0.1.dev5+g08bf4f6) (2.8.2)\n",
            "Requirement already satisfied: websocket-client>=1.5.1 in /usr/local/lib/python3.10/dist-packages (from qiskit-ibmq-provider->quantum-linear-solvers==0.1.dev5+g08bf4f6) (1.5.1)\n",
            "Requirement already satisfied: websockets>=10.0 in /usr/local/lib/python3.10/dist-packages (from qiskit-ibmq-provider->quantum-linear-solvers==0.1.dev5+g08bf4f6) (11.0.3)\n",
            "Requirement already satisfied: rustworkx>=0.12.0 in /usr/local/lib/python3.10/dist-packages (from qiskit-terra>=0.21->quantum-linear-solvers==0.1.dev5+g08bf4f6) (0.12.1)\n",
            "Requirement already satisfied: ply>=3.10 in /usr/local/lib/python3.10/dist-packages (from qiskit-terra>=0.21->quantum-linear-solvers==0.1.dev5+g08bf4f6) (3.11)\n",
            "Requirement already satisfied: sympy>=1.3 in /usr/local/lib/python3.10/dist-packages (from qiskit-terra>=0.21->quantum-linear-solvers==0.1.dev5+g08bf4f6) (1.11.1)\n",
            "Requirement already satisfied: dill>=0.3 in /usr/local/lib/python3.10/dist-packages (from qiskit-terra>=0.21->quantum-linear-solvers==0.1.dev5+g08bf4f6) (0.3.6)\n",
            "Requirement already satisfied: stevedore>=3.0.0 in /usr/local/lib/python3.10/dist-packages (from qiskit-terra>=0.21->quantum-linear-solvers==0.1.dev5+g08bf4f6) (5.0.0)\n",
            "Requirement already satisfied: symengine<0.10,>=0.9 in /usr/local/lib/python3.10/dist-packages (from qiskit-terra>=0.21->quantum-linear-solvers==0.1.dev5+g08bf4f6) (0.9.2)\n",
            "Requirement already satisfied: zipp>=0.5 in /usr/local/lib/python3.10/dist-packages (from importlib-metadata->quantum-linear-solvers==0.1.dev5+g08bf4f6) (3.15.0)\n",
            "Requirement already satisfied: six>=1.5 in /usr/local/lib/python3.10/dist-packages (from python-dateutil>=2.8.0->qiskit-ibmq-provider->quantum-linear-solvers==0.1.dev5+g08bf4f6) (1.16.0)\n",
            "Requirement already satisfied: certifi>=2017.4.17 in /usr/local/lib/python3.10/dist-packages (from requests>=2.19->qiskit-ibmq-provider->quantum-linear-solvers==0.1.dev5+g08bf4f6) (2022.12.7)\n",
            "Requirement already satisfied: charset-normalizer~=2.0.0 in /usr/local/lib/python3.10/dist-packages (from requests>=2.19->qiskit-ibmq-provider->quantum-linear-solvers==0.1.dev5+g08bf4f6) (2.0.12)\n",
            "Requirement already satisfied: idna<4,>=2.5 in /usr/local/lib/python3.10/dist-packages (from requests>=2.19->qiskit-ibmq-provider->quantum-linear-solvers==0.1.dev5+g08bf4f6) (3.4)\n",
            "Requirement already satisfied: ntlm-auth>=1.0.2 in /usr/local/lib/python3.10/dist-packages (from requests-ntlm<=1.1.0->qiskit-ibmq-provider->quantum-linear-solvers==0.1.dev5+g08bf4f6) (1.5.0)\n",
            "Requirement already satisfied: cryptography>=1.3 in /usr/local/lib/python3.10/dist-packages (from requests-ntlm<=1.1.0->qiskit-ibmq-provider->quantum-linear-solvers==0.1.dev5+g08bf4f6) (40.0.2)\n",
            "Requirement already satisfied: pbr!=2.1.0,>=2.0.0 in /usr/local/lib/python3.10/dist-packages (from stevedore>=3.0.0->qiskit-terra>=0.21->quantum-linear-solvers==0.1.dev5+g08bf4f6) (5.11.1)\n",
            "Requirement already satisfied: mpmath>=0.19 in /usr/local/lib/python3.10/dist-packages (from sympy>=1.3->qiskit-terra>=0.21->quantum-linear-solvers==0.1.dev5+g08bf4f6) (1.3.0)\n",
            "Requirement already satisfied: cffi>=1.12 in /usr/local/lib/python3.10/dist-packages (from cryptography>=1.3->requests-ntlm<=1.1.0->qiskit-ibmq-provider->quantum-linear-solvers==0.1.dev5+g08bf4f6) (1.15.1)\n",
            "Requirement already satisfied: pycparser in /usr/local/lib/python3.10/dist-packages (from cffi>=1.12->cryptography>=1.3->requests-ntlm<=1.1.0->qiskit-ibmq-provider->quantum-linear-solvers==0.1.dev5+g08bf4f6) (2.21)\n"
          ]
        }
      ]
    },
    {
      "cell_type": "code",
      "execution_count": 21,
      "metadata": {
        "id": "sZdgY36ObAK_"
      },
      "outputs": [],
      "source": [
        "import numpy as np\n",
        "from numpy.linalg import inv, norm\n",
        "from math import ceil, log\n",
        "from linear_solvers import NumPyLinearSolver, HHL\n",
        "from qiskit import Aer\n",
        "from qiskit.quantum_info import Statevector"
      ]
    },
    {
      "cell_type": "markdown",
      "metadata": {
        "id": "3yoW4ClpbALB"
      },
      "source": [
        "**Setup of HHL helper functions**"
      ]
    },
    {
      "cell_type": "markdown",
      "metadata": {
        "id": "Dvu0hFyqbALB"
      },
      "source": [
        "**Function for converting an $M\\times N$ matrix to $N\\times N$**"
      ]
    },
    {
      "cell_type": "code",
      "execution_count": 22,
      "metadata": {
        "id": "-ZxXomVEbALC"
      },
      "outputs": [],
      "source": [
        "def make_nxn(matrix, vector):\n",
        "    if matrix.shape[0] != matrix.shape[1]:\n",
        "        # set n to the highest value between the rows and columns of matrix\n",
        "        # by doing this, we can ensure that the matrix will be nxn and the vector will be nx1\n",
        "        n = max(matrix.shape[0], matrix.shape[1])\n",
        "        matrix = np.pad(matrix, ((0, n-matrix.shape[0]), (0, n-matrix.shape[1])), 'constant', constant_values = (0))\n",
        "        vector.resize(1, n, refcheck=False)\n",
        "        # create a matrix (lambda) that contains a small value to add to the matrix and vector\n",
        "        # this will ensure that the matrix is invertible and still close in value to the original\n",
        "        la = np.empty(n)\n",
        "        la.fill(10**-6)\n",
        "        la_mat = np.diag(la)\n",
        "        matrix = matrix + la_mat\n",
        "        vector = vector + la\n",
        "    return matrix, vector"
      ]
    },
    {
      "cell_type": "markdown",
      "metadata": {
        "id": "3hFeOsQjbALD"
      },
      "source": [
        "**Function for converting an $N\\times N$ matrix to a $2^n\\times 2^n$ matrix**"
      ]
    },
    {
      "cell_type": "code",
      "execution_count": 23,
      "metadata": {
        "id": "WV5g6eubbALE"
      },
      "outputs": [],
      "source": [
        "def make_2nx2n(matrix, vector):\n",
        "    # this function assumes that the matrix is square\n",
        "    # if matrix is not 2^n x 2^n, then set n to the next highest power of 2\n",
        "    if not log(matrix.shape[0], 2).is_integer():\n",
        "        n = 2**(ceil(log(matrix.shape[0], 2)))\n",
        "        matrix = np.pad(matrix, ((0, n-matrix.shape[0]), (0, n-matrix.shape[1])), 'constant', constant_values = (0))\n",
        "        vector.resize(1, n, refcheck=False)\n",
        "        for i in range(n):\n",
        "            if matrix[i][i] == 0:\n",
        "                matrix[i][i] = 1\n",
        "    return matrix, vector"
      ]
    },
    {
      "cell_type": "markdown",
      "metadata": {
        "id": "J6X3kJxPbALF"
      },
      "source": [
        "**Function for converting an $N\\times N$ matrix to a Hermitian matrix**"
      ]
    },
    {
      "cell_type": "code",
      "execution_count": 24,
      "metadata": {
        "id": "plllTi_4bALG"
      },
      "outputs": [],
      "source": [
        "def make_hermitian(matrix, vector):\n",
        "    # this function assumes that the matrix is square\n",
        "    # if the matrix is not hermitian, make it hermitian and alter the vector accordingly\n",
        "    matrix_H = np.matrix(matrix).H\n",
        "    if not np.array_equal(matrix, matrix_H):\n",
        "        zeros = np.zeros((matrix.shape[0], matrix.shape[0]))\n",
        "        matrix = np.block([[zeros, matrix_H],\n",
        "                       [matrix, zeros]])\n",
        "        vector_conj = np.conj(vector)\n",
        "        vector = np.append(vector_conj, vector)\n",
        "    return matrix, vector"
      ]
    },
    {
      "cell_type": "markdown",
      "metadata": {
        "id": "EyZwkGAgbALH"
      },
      "source": [
        "**Function for making $A$ and $b$ from an equation $Ax=b$ compatible with the HHL algorithm**"
      ]
    },
    {
      "cell_type": "code",
      "execution_count": 25,
      "metadata": {
        "id": "ll03R_I5bALI"
      },
      "outputs": [],
      "source": [
        "def hhl_compatible(matrix, vector):\n",
        "    mat = matrix.copy()\n",
        "    vec = vector.copy()\n",
        "    mat, vec = make_nxn(mat,vec)\n",
        "    mat, vec = make_2nx2n(mat, vec)\n",
        "    mat, vec = make_hermitian(mat, vec)\n",
        "    return mat, vec"
      ]
    },
    {
      "cell_type": "markdown",
      "metadata": {
        "id": "RmGKNzD-bALJ"
      },
      "source": [
        "**Function for creating HHL object**"
      ]
    },
    {
      "cell_type": "code",
      "execution_count": 26,
      "metadata": {
        "id": "z71keAIxbALK"
      },
      "outputs": [],
      "source": [
        "def new_HHL():\n",
        "    backend = Aer.get_backend('aer_simulator')\n",
        "    hhl = HHL(1e-3, quantum_instance=backend)\n",
        "    return hhl"
      ]
    },
    {
      "cell_type": "markdown",
      "metadata": {
        "id": "1yRgfQqebALK"
      },
      "source": [
        "**Function for running HHL and extracting required data**"
      ]
    },
    {
      "cell_type": "code",
      "execution_count": 27,
      "metadata": {
        "id": "hxow5_19bALL"
      },
      "outputs": [],
      "source": [
        "def run_HHL(hhl, matrix, vector):\n",
        "    mat, vec = hhl_compatible(matrix, vector)\n",
        "    solution = hhl.solve(mat, vec)\n",
        "    sv = Statevector(solution.state)\n",
        "    data_start = int(sv.data.size / 2)\n",
        "    data_end = data_start + vec.size\n",
        "    sv_data = sv.data[data_start:data_end].real\n",
        "    solution_norm = solution.euclidean_norm\n",
        "    data = solution_norm * sv_data / norm(sv_data)\n",
        "    vec_norm = norm(vec)\n",
        "    final_data = (vec_norm * data)[0:vector.size]\n",
        "    return final_data"
      ]
    },
    {
      "cell_type": "markdown",
      "metadata": {
        "id": "2LSwLo0hbALL"
      },
      "source": [
        "**Input Data**"
      ]
    },
    {
      "cell_type": "code",
      "execution_count": 28,
      "metadata": {
        "id": "8fPu7FNObALL"
      },
      "outputs": [],
      "source": [
        "# Bus data\n",
        "# For each bus the data is as follows:\n",
        "# 0:BusNum, 1:PG, 2:QG, 3:PD, 4:QD, 5:V, 6:PA, 7:BusType\n",
        "# Where BusType 1 is Slack, 2 is PV, and 3 is PQ\n",
        "bus_arr = np.array([[1, 0, 0, 0, 0, 1, 0, 1], \n",
        "                    [2, 1.63, 0, 0, 0, 1, 0, 2], \n",
        "                    [3, 0.85, 0, 0, 0, 1, 0, 2],\n",
        "                    [4, 0, 0, 0, 0, 1, 0, 3],\n",
        "                    [5, 0, 0, -0.90, -0.30, 1, 0, 3],\n",
        "                    [6, 0, 0, 0, 0, 1, 0, 3],\n",
        "                    [7, 0, 0, -1.00, -0.35, 1, 0, 3],\n",
        "                    [8, 0, 0, 0, 0, 1, 0, 3],\n",
        "                    [9, 0, 0, -1.25, -0.50, 1, 0, 3]])\n",
        "\n",
        "# Reactive power limits\n",
        "reactive_min = []\n",
        "reactive_max = []\n",
        "for i in bus_arr:\n",
        "    if i[7] == 2:\n",
        "        reactive_min.append(-3.00)\n",
        "        reactive_max.append(3.00)\n",
        "    else:\n",
        "        reactive_min.append(0)\n",
        "        reactive_max.append(0)\n",
        "reactive_min = np.array(reactive_min)\n",
        "reactive_max = np.array(reactive_max)\n",
        "\n",
        "# Branch data\n",
        "# For each branch the data is as follows:\n",
        "# 0:BranchBuses, 1:LineImpedance\n",
        "branch_arr = [[[1, 4], complex(0, 0.0576)],\n",
        "              [[4, 5], complex(0.017, 0.092)],\n",
        "              [[5, 6], complex(0.039, 0.17)],\n",
        "              [[3, 6], complex(0, 0.0586)],\n",
        "              [[6, 7], complex(0.0119, 0.1008)],\n",
        "              [[7, 8], complex(0.0085, 0.072)],\n",
        "              [[8, 2], complex(0, 0.0625)],\n",
        "              [[8, 9], complex(0.032, 0.161)],\n",
        "              [[9, 4], complex(0.01, 0.085)]]"
      ]
    },
    {
      "cell_type": "markdown",
      "metadata": {
        "id": "uk7ADiS0bALM"
      },
      "source": [
        "**Function for creating Generator and Line Admittance arrays**"
      ]
    },
    {
      "cell_type": "code",
      "execution_count": 29,
      "metadata": {
        "id": "i-D1BXKbbALM"
      },
      "outputs": [],
      "source": [
        "def create_GA_LA(Buses, Branches):\n",
        "    # Impedance Values\n",
        "    # Line Admittance Matrix\n",
        "    LA = np.zeros((Buses.shape[0], Buses.shape[0]), dtype = complex)\n",
        "    for b in Branches:\n",
        "        # Branch b[0] contains a list of BusNums (BusNums are 1 higher than the index they are at)\n",
        "        i = b[0][0]-1\n",
        "        j = b[0][1]-1\n",
        "        # Set LI for both buses to 1/branch\n",
        "        LA[i][j] = 1/b[1]\n",
        "        LA[j][i] = 1/b[1]\n",
        "\n",
        "    # Compute Generator Admittance\n",
        "    GA = np.zeros(Buses.shape[0])\n",
        "\n",
        "    return GA, LA"
      ]
    },
    {
      "cell_type": "markdown",
      "metadata": {
        "id": "Q1CpFZ6KbALN"
      },
      "source": [
        "**Function for creating Y<sub>bus</sub>, G, and B**"
      ]
    },
    {
      "cell_type": "code",
      "execution_count": 30,
      "metadata": {
        "id": "tKR8yzS7bALN"
      },
      "outputs": [],
      "source": [
        "def create_Ybus(Buses, GA, LA):\n",
        "    Y = np.zeros((Buses.shape[0], Buses.shape[0]),  dtype = complex)\n",
        "    for i in range(Y.shape[0]):\n",
        "        Y[i][i] = Y[i][i] + GA[i]\n",
        "        for j in range (Y.shape[1]):\n",
        "            if i != j:\n",
        "                Y[i, j] = Y[i, j] - LA[i][j]\n",
        "                Y[i, i] = Y[i, i] + LA[i][j]\n",
        "                \n",
        "    G = Y.real\n",
        "    B = Y.imag\n",
        "\n",
        "    return Y, G, B"
      ]
    },
    {
      "cell_type": "markdown",
      "metadata": {
        "id": "vosdC_cCbALO"
      },
      "source": [
        "**Function for setting initial values of unknown quantities**"
      ]
    },
    {
      "cell_type": "code",
      "execution_count": 31,
      "metadata": {
        "id": "geAxy_eUbALO"
      },
      "outputs": [],
      "source": [
        "def init_unknown(V, PA):\n",
        "    # Flat start for bus voltages\n",
        "    # Unknown values for bus volage will be set to 1\n",
        "    for i in range(V.size):\n",
        "        if V[i] == 0:\n",
        "            V[i] = 1"
      ]
    },
    {
      "cell_type": "markdown",
      "metadata": {
        "id": "-hXSH1dAbALP"
      },
      "source": [
        "**Function for computing powers**"
      ]
    },
    {
      "cell_type": "code",
      "execution_count": 32,
      "metadata": {
        "id": "yC-FooBXbALP"
      },
      "outputs": [],
      "source": [
        "def compute_powers(Buses, V, PA, G, B):\n",
        "    P_new = np.zeros(Buses.shape[0])\n",
        "    Q_new = np.zeros(Buses.shape[0])\n",
        "    # We don't need to calculate for the slack bus (the first bus), so we start at the second bus\n",
        "    for i in range(1, Buses.shape[0]):\n",
        "        for j in range (Buses.shape[0]):\n",
        "            P_new[i] = P_new[i]+V[i]*V[j]*(G[i][j]*np.cos(PA[i]-PA[j])+B[i][j]*np.sin(PA[i]-PA[j]))\n",
        "            Q_new[i] = Q_new[i]+V[i]*V[j]*(G[i][j]*np.sin(PA[i]-PA[j])-B[i][j]*np.cos(PA[i]-PA[j]))\n",
        "\n",
        "    return P_new, Q_new"
      ]
    },
    {
      "cell_type": "markdown",
      "metadata": {
        "id": "W-Z3qO3cbALP"
      },
      "source": [
        "**Function for checking reactive power limits**"
      ]
    },
    {
      "cell_type": "code",
      "execution_count": 33,
      "metadata": {
        "id": "hdlod5KIbALQ"
      },
      "outputs": [],
      "source": [
        "def check_limits(Buses, V, Q_new, Q_min, Q_max):\n",
        "    for i in range(1, Buses.shape[0]):\n",
        "        # Buses[i][7] is bus i's BusType, 2 is PV\n",
        "        if Buses[i][7] == 2:\n",
        "            # Check that Q for bus i is within limits\n",
        "            if (Q_new[i] > Q_max[i]) or (Q_new[i] < Q_min[i]):\n",
        "                # BusType 3 is PQ\n",
        "                Buses[i][7] = 3\n",
        "                # Set Bus's V to initial value\n",
        "                Buses[i][5] = 1\n",
        "                V[i] = 1\n",
        "                return False\n",
        "    # If the for loop is able to complete, all limit checks pass\n",
        "    return True"
      ]
    },
    {
      "cell_type": "markdown",
      "metadata": {
        "id": "srsLoao_bALQ"
      },
      "source": [
        "**Function for computing power mismatches**"
      ]
    },
    {
      "cell_type": "code",
      "execution_count": 34,
      "metadata": {
        "id": "gQLmFGItbALQ"
      },
      "outputs": [],
      "source": [
        "def compute_power_mismatches(Buses, P, Q, P_new, Q_new):\n",
        "    Delta_P = []\n",
        "    Delta_Q = []\n",
        "    for i in range(1, Buses.shape[0]):\n",
        "        Delta_P.append(P[i] - P_new[i])\n",
        "        # Buses[i][7] is Bus i's BusType, 3 is PQ\n",
        "        if Buses[i][7] == 3:\n",
        "            Delta_Q.append(Q[i] - Q_new[i])\n",
        "            \n",
        "    \n",
        "    return Delta_P, Delta_Q"
      ]
    },
    {
      "cell_type": "markdown",
      "metadata": {
        "id": "TgDWrYP6bALR"
      },
      "source": [
        "**Function for computing the elements of the Jacobian matrix**"
      ]
    },
    {
      "cell_type": "code",
      "execution_count": 35,
      "metadata": {
        "id": "CiOx_PEybALR"
      },
      "outputs": [],
      "source": [
        "def compute_Jacobian(Buses, P_new, Q_new, V, PA, G, B):\n",
        "    H = np.zeros((Buses.shape[0]-1, Buses.shape[0]-1))\n",
        "    N = np.zeros((Buses.shape[0]-1, Buses.shape[0]-1))\n",
        "    J = np.zeros((Buses.shape[0]-1, Buses.shape[0]-1))\n",
        "    L = np.zeros((Buses.shape[0]-1, Buses.shape[0]-1))\n",
        "    for i in range(1, Buses.shape[0]):\n",
        "        for j in range(1, Buses.shape[0]):\n",
        "            if i == j:\n",
        "                H[i-1][j-1] = -Q_new[i]-B[i][i]*(V[i]**2)\n",
        "                # Buses[i][7] is Bus i's BusType, 2 is PV\n",
        "                if Buses[i][7] != 2:\n",
        "                    N[i-1][j-1] = P_new[i]+G[i][i]*(V[i]**2)\n",
        "                    J[i-1][j-1] = P_new[i]-G[i][i]*(V[i]**2)\n",
        "                    L[i-1][j-1] = Q_new[i]-B[i][i]*(V[i]**2)\n",
        "            else:\n",
        "                H[i-1][j-1] = V[i]*V[j]*(G[i][j]*np.cos(PA[i]-PA[j])+B[i][j]*np.sin(PA[i]-PA[j]))\n",
        "                if Buses[j][7] != 2:\n",
        "                    N[i-1][j-1] = V[j]*V[i]*(G[i][j]*np.sin(PA[i]-PA[j])+B[i][j]*np.cos(PA[i]-PA[j]))\n",
        "                if Buses[i][7] != 2:\n",
        "                    J[i-1][j-1] = -V[i]*V[j]*(G[i][j]*np.cos(PA[i]-PA[j])+B[i][j]*np.sin(PA[i]-PA[j]))\n",
        "                if Buses[i][7] != 2 and Buses[j][7] != 2:\n",
        "                    L[i-1][j-1] = V[j]*V[i]*(G[i][j]*np.sin(PA[i]-PA[j])-B[i][j]*np.cos(PA[i]-PA[j]))\n",
        "\n",
        "    for i in reversed(range(1, Buses.shape[0])):\n",
        "        if Buses[i][7] == 2:\n",
        "            # If Bus i is PV, remove column for that bus from N\n",
        "            N = np.delete(N, i-1, 1)\n",
        "            # If Bus i is PV, remove row for that bus from J\n",
        "            J = np.delete(J, i-1, 0)\n",
        "            # If Bus i is PV, remove row and column for that bus from L\n",
        "            L = np.delete(L, i-1, 1)\n",
        "            L = np.delete(L, i-1, 0)\n",
        "\n",
        "    Jac = np.block([[H, N], [J, L]])\n",
        "    return Jac"
      ]
    },
    {
      "cell_type": "markdown",
      "metadata": {
        "id": "BCZgyqr9bALR"
      },
      "source": [
        "**Function for computing the increment matrix**"
      ]
    },
    {
      "cell_type": "code",
      "execution_count": 36,
      "metadata": {
        "id": "uTehB-wLbALS"
      },
      "outputs": [],
      "source": [
        "def compute_increment(Jac, Delta_P, Delta_Q):\n",
        "    Delta_PQ = np.append(Delta_P, Delta_Q)\n",
        "    Delta_PAV = np.dot(inv(Jac), Delta_PQ)\n",
        "    Delta_PA = Delta_PAV[0:len(Delta_P)]\n",
        "    Delta_V = Delta_PAV[len(Delta_P):]\n",
        "\n",
        "    return Delta_PA, Delta_V"
      ]
    },
    {
      "cell_type": "markdown",
      "metadata": {
        "id": "d2Awx0OZbALS"
      },
      "source": [
        "**Function for computing the increment matrix (with HHL)**"
      ]
    },
    {
      "cell_type": "code",
      "execution_count": 37,
      "metadata": {
        "id": "kgQt2v_ObALS"
      },
      "outputs": [],
      "source": [
        "def compute_increment_hhl(Jac, Delta_P, Delta_Q, hhl):\n",
        "    Delta_PQ = np.append(Delta_P, Delta_Q)\n",
        "    Delta_PAV = run_HHL(hhl, Jac, Delta_PQ)\n",
        "    Delta_PA = Delta_PAV[0:len(Delta_P)]\n",
        "    Delta_V = Delta_PAV[len(Delta_P):]\n",
        "\n",
        "    return Delta_PA, Delta_V"
      ]
    },
    {
      "cell_type": "markdown",
      "metadata": {
        "id": "LDuAmvqAbALT"
      },
      "source": [
        "**Function for computing new values of $\\delta$ and $V$**"
      ]
    },
    {
      "cell_type": "code",
      "execution_count": 38,
      "metadata": {
        "id": "MOEJ8jjpbALT"
      },
      "outputs": [],
      "source": [
        "def compute_new_PAV(Buses, V, PA, Delta_PA, Delta_V):\n",
        "    PA_new = np.zeros(Buses.shape[0])\n",
        "    V_new = np.zeros(Buses.shape[0])\n",
        "    PA_new[0] = PA[0]\n",
        "    V_new[0] = V[0]\n",
        "    incr = 0\n",
        "    for i in range(1, Buses.shape[0]):\n",
        "        PA_new[i] = PA[i] + Delta_PA[i-1]\n",
        "        # Buses[i][7] is Bus i's BusType, 3 is PQ\n",
        "        if Buses[i][7] == 3:\n",
        "            V_new[i] = V[i] + (Delta_V[incr])*V[i]\n",
        "            incr = incr + 1\n",
        "        else:\n",
        "            V_new[i] = V[i]\n",
        "    \n",
        "    return PA_new, V_new"
      ]
    },
    {
      "cell_type": "markdown",
      "metadata": {
        "id": "RyQWKYVXbALT"
      },
      "source": [
        "**Function for checking if $\\delta$ and $V$ have converged**"
      ]
    },
    {
      "cell_type": "code",
      "execution_count": 39,
      "metadata": {
        "id": "zSjnzKwIbALU"
      },
      "outputs": [],
      "source": [
        "def check_convergence(Buses, V, PA, V_new, PA_new, ep):\n",
        "    convergence_PA = np.zeros(Buses.shape[0])\n",
        "    convergence_V = np.zeros(Buses.shape[0])\n",
        "    for i in range(Buses.shape[0]):\n",
        "        convergence_PA[i] = abs(PA_new[i] - PA[i])\n",
        "        convergence_V[i] = abs(V_new[i] - V[i])\n",
        "    for i in range(Buses.shape[0]):\n",
        "        if (convergence_PA[i] > ep):\n",
        "            return False\n",
        "        # Buses[i][7] is Bus i's BusType, 3 is PQ\n",
        "        if Buses[i][7] == 3:\n",
        "            if(convergence_V[i] > ep):\n",
        "                return False\n",
        "    # If this line is reached, all convergence levels are <= ep\n",
        "    return True"
      ]
    },
    {
      "cell_type": "markdown",
      "metadata": {
        "id": "FIhW56HybALU"
      },
      "source": [
        "**Function for loading calculated values into Bus array**"
      ]
    },
    {
      "cell_type": "code",
      "execution_count": 40,
      "metadata": {
        "id": "ulK5zI4BbALU"
      },
      "outputs": [],
      "source": [
        "def load_values(Buses, oldBuses, V_new, PA_new):\n",
        "    # Load calculated values into Buses and change altered PV buses back to PV\n",
        "        for i in range(Buses.shape[0]):\n",
        "            # Buses[i][6] is Bus i's PA\n",
        "            Buses[i][6] = PA_new[i]\n",
        "            # Buses[i][5] is Bus i's V\n",
        "            Buses[i][5] = V_new[i]\n",
        "            # Buses[i][7] is Bus i's BusType, 3 is PQ, 2 is PV\n",
        "            if (Buses[i][7] == 3) and (oldBuses[i][7] == 2):\n",
        "                Buses[i][7] = 2"
      ]
    },
    {
      "cell_type": "markdown",
      "metadata": {
        "id": "hyzjiHIIbALV"
      },
      "source": [
        "**Function for calculating injected P and Q values**"
      ]
    },
    {
      "cell_type": "code",
      "execution_count": 41,
      "metadata": {
        "id": "TeWeCH4ibALV"
      },
      "outputs": [],
      "source": [
        "def calculate_injected(Buses, G, B):\n",
        "    for i in range(1, Buses.shape[0]):\n",
        "        # Buses[i][7] is Bus i's BusType, 3 is PQ\n",
        "        if Buses[i][7] == 2:\n",
        "            for j in range(Buses.shape[0]):\n",
        "                # Buses[i][2] is Bus i's QG, [i][5] is V, [i][6] is PA\n",
        "                Buses[i][2] = Buses[i][2]+Buses[i][5]*Buses[j][5]*(G[i][j]*np.sin(Buses[i][6]-Buses[j][6])-B[i][j]*np.cos(Buses[i][6]-Buses[j][6]))"
      ]
    },
    {
      "cell_type": "markdown",
      "metadata": {
        "id": "H3Ejcv1FbALV"
      },
      "source": [
        "**Function for using Newton Raphson for Power Flow Problem**"
      ]
    },
    {
      "cell_type": "code",
      "execution_count": 42,
      "metadata": {
        "id": "xVgbVs1jbALV"
      },
      "outputs": [],
      "source": [
        "def NR(oldBuses, Branches, Q_min, Q_max, ep):\n",
        "    # Make a copy of the old buses to retain its data\n",
        "    Buses = np.copy(oldBuses)\n",
        "\n",
        "    # Load information on P, Q, V, and PA into variables\n",
        "    P = []\n",
        "    Q = []\n",
        "    V = []\n",
        "    PA = []\n",
        "    for i in Buses:\n",
        "        V.append(i[5])\n",
        "        PA.append(i[6])\n",
        "        if i[7] == 2:\n",
        "            P.append(i[1])\n",
        "            Q.append(i[2])\n",
        "        else:\n",
        "            P.append(i[3])\n",
        "            Q.append(i[4])\n",
        "    P = np.array(P)\n",
        "    Q = np.array(Q)\n",
        "    V = np.array(V)\n",
        "    PA = np.array(PA)\n",
        "\n",
        "    # Value calculations\n",
        "    GA, LA = create_GA_LA(Buses, Branches)\n",
        "    Y, G, B = create_Ybus(Buses, GA, LA)\n",
        "    init_unknown(V, PA)\n",
        "\n",
        "    total_iterations = 0 # Total iterations of NR\n",
        "    iterations = 0 # Iterations since limit check last failed\n",
        "    # Perform NR method iteratively\n",
        "    # Stop condition handled within the loop\n",
        "    while(True):\n",
        "        P_new, Q_new = compute_powers(Buses, V, PA, G, B)\n",
        "        # If limit check fails, treat ith PV bus as PQ bus and recompute powers\n",
        "        if not check_limits(Buses, V, Q_new, Q_min, Q_max):\n",
        "            iterations = 0\n",
        "            P_new, Q_new = compute_powers(Buses, V, PA, G, B)\n",
        "        Delta_P, Delta_Q = compute_power_mismatches(Buses, P, Q, P_new, Q_new)\n",
        "        Jac = compute_Jacobian(Buses, P_new, Q_new, V, PA, G, B)\n",
        "        Delta_PA, Delta_V = compute_increment(Jac, Delta_P, Delta_Q)\n",
        "        PA_new, V_new = compute_new_PAV(Buses, V, PA, Delta_PA, Delta_V)\n",
        "        total_iterations += 1\n",
        "        iterations += 1\n",
        "        # If convergence has been reached, exit loop\n",
        "        if check_convergence(Buses, V, PA, V_new, PA_new, ep):\n",
        "            break\n",
        "        V = V_new\n",
        "        PA = PA_new\n",
        "\n",
        "    load_values(Buses, oldBuses, V_new, PA_new)    \n",
        "    calculate_injected(Buses, G, B)\n",
        "\n",
        "    # Print Data\n",
        "    print(\"\\nTotal nmber of iterations: \", total_iterations)\n",
        "    print(\"Iterations since last limit check failure: \", iterations)\n",
        "    print(\"\\nOld Voltages:\\n\", oldBuses[:,5])\n",
        "    print(\"\\nNew Voltages:\\n\", Buses[:,5])    \n",
        "    print(\"\\nOld Phase Angles:\\n\", oldBuses[:,6])\n",
        "    print(\"\\nNew Phase Angles:\\n\", Buses[:,6])\n",
        "    print(\"\\nOld Bus Values:\\n\", oldBuses, \"\\n\")\n",
        "    print(\"New Bus Values (after NR):\\n\", Buses, \"\\n\")\n",
        "\n",
        "    return Buses"
      ]
    },
    {
      "cell_type": "markdown",
      "metadata": {
        "id": "WS5oDBGgbALW"
      },
      "source": [
        "**Function for using Newton Raphson for Power Flow Problem (with HHL)**"
      ]
    },
    {
      "cell_type": "code",
      "execution_count": 43,
      "metadata": {
        "id": "uDCVP2csbALW"
      },
      "outputs": [],
      "source": [
        "def NR_hhl(oldBuses, Branches, Q_min, Q_max, ep):\n",
        "    # Make a copy of the old buses to retain its data\n",
        "    Buses = np.copy(oldBuses)\n",
        "\n",
        "    # Load information on P, Q, V, and PA into variables\n",
        "    P = []\n",
        "    Q = []\n",
        "    V = []\n",
        "    PA = []\n",
        "    for i in Buses:\n",
        "        V.append(i[5])\n",
        "        PA.append(i[6])\n",
        "        if i[7] == 2:\n",
        "            P.append(i[1])\n",
        "            Q.append(i[2])\n",
        "        else:\n",
        "            P.append(i[3])\n",
        "            Q.append(i[4])\n",
        "    P = np.array(P)\n",
        "    Q = np.array(Q)\n",
        "    V = np.array(V)\n",
        "    PA = np.array(PA)\n",
        "\n",
        "    # Value calculations\n",
        "    GA, LA = create_GA_LA(Buses, Branches)\n",
        "    Y, G, B = create_Ybus(Buses, GA, LA)\n",
        "    init_unknown(V, PA)\n",
        "\n",
        "    total_iterations = 0 # Total iterations of NR\n",
        "    iterations = 0 # Iterations since limit check last failed\n",
        "\n",
        "    hhl = new_HHL() # HHL setup for running compute_increment_hhl()\n",
        "\n",
        "    # Perform NR method iteratively\n",
        "    # Stop condition handled within the loop\n",
        "    while(True):\n",
        "        P_new, Q_new = compute_powers(Buses, V, PA, G, B)\n",
        "        # If limit check fails, treat ith PV bus as PQ bus and recompute powers\n",
        "        if not check_limits(Buses, V, Q_new, Q_min, Q_max):\n",
        "            iterations = 0\n",
        "            P_new, Q_new = compute_powers(Buses, V, PA, G, B)\n",
        "        Delta_P, Delta_Q = compute_power_mismatches(Buses, P, Q, P_new, Q_new)\n",
        "        Jac = compute_Jacobian(Buses, P_new, Q_new, V, PA, G, B)\n",
        "        Delta_PA, Delta_V = compute_increment_hhl(Jac, Delta_P, Delta_Q, hhl)\n",
        "        Delta_PA2, Delta_V2 = compute_increment(Jac, Delta_P, Delta_Q)\n",
        "        PA_new, V_new = compute_new_PAV(Buses, V, PA, Delta_PA, Delta_V)\n",
        "        total_iterations += 1\n",
        "        iterations += 1\n",
        "\n",
        "        # Compare HHL with Classical Method\n",
        "        print(\"Delta_PA difference at iteration \", total_iterations, \":\\n\", np.linalg.norm(Delta_PA2 - Delta_PA))\n",
        "        print(\"Delta_V difference at iteration \", total_iterations, \":\\n\", np.linalg.norm(Delta_V2 - Delta_V))\n",
        "\n",
        "        # If convergence has been reached, exit loop\n",
        "        if check_convergence(Buses, V, PA, V_new, PA_new, ep):\n",
        "            break\n",
        "        V = V_new\n",
        "        PA = PA_new\n",
        "\n",
        "    load_values(Buses, oldBuses, V_new, PA_new)    \n",
        "    calculate_injected(Buses, G, B)\n",
        "\n",
        "    # Print Data\n",
        "    print(\"\\nTotal nmber of iterations: \", total_iterations)\n",
        "    print(\"Iterations since last limit check failure: \", iterations)\n",
        "    print(\"\\nOld Voltages:\\n\", oldBuses[:,5])\n",
        "    print(\"\\nNew Voltages:\\n\", Buses[:,5])    \n",
        "    print(\"\\nOld Phase Angles:\\n\", oldBuses[:,6])\n",
        "    print(\"\\nNew Phase Angles:\\n\", Buses[:,6])\n",
        "    print(\"\\nOld Bus Values:\\n\", oldBuses, \"\\n\")\n",
        "    print(\"New Bus Values (after NR):\\n\", Buses, \"\\n\")\n",
        "\n",
        "    return Buses"
      ]
    },
    {
      "cell_type": "code",
      "execution_count": 44,
      "metadata": {
        "colab": {
          "base_uri": "https://localhost:8080/"
        },
        "id": "BUSjoVoWbALX",
        "outputId": "e5e4415d-7b0f-4cac-9683-c20f974b7f38"
      },
      "outputs": [
        {
          "output_type": "stream",
          "name": "stdout",
          "text": [
            "\n",
            "Total nmber of iterations:  6\n",
            "Iterations since last limit check failure:  6\n",
            "\n",
            "Old Voltages:\n",
            " [1. 1. 1. 1. 1. 1. 1. 1. 1.]\n",
            "\n",
            "New Voltages:\n",
            " [1.         1.         1.         0.95882269 0.93189107 0.97631141\n",
            " 0.94983662 0.96916012 0.91554272]\n",
            "\n",
            "Old Phase Angles:\n",
            " [0. 0. 0. 0. 0. 0. 0. 0. 0.]\n",
            "\n",
            "New Phase Angles:\n",
            " [ 0.          0.1641205   0.08434231 -0.03952745 -0.06641806  0.03554824\n",
            "  0.00582116  0.06584373 -0.0761943 ]\n",
            "\n",
            "Old Bus Values:\n",
            " [[ 1.    0.    0.    0.    0.    1.    0.    1.  ]\n",
            " [ 2.    1.63  0.    0.    0.    1.    0.    2.  ]\n",
            " [ 3.    0.85  0.    0.    0.    1.    0.    2.  ]\n",
            " [ 4.    0.    0.    0.    0.    1.    0.    3.  ]\n",
            " [ 5.    0.    0.   -0.9  -0.3   1.    0.    3.  ]\n",
            " [ 6.    0.    0.    0.    0.    1.    0.    3.  ]\n",
            " [ 7.    0.    0.   -1.   -0.35  1.    0.    3.  ]\n",
            " [ 8.    0.    0.    0.    0.    1.    0.    3.  ]\n",
            " [ 9.    0.    0.   -1.25 -0.5   1.    0.    3.  ]] \n",
            "\n",
            "New Bus Values (after NR):\n",
            " [[ 1.00000000e+00  0.00000000e+00  0.00000000e+00  0.00000000e+00\n",
            "   0.00000000e+00  1.00000000e+00  0.00000000e+00  1.00000000e+00]\n",
            " [ 2.00000000e+00  1.63000000e+00  5.68261584e-01  0.00000000e+00\n",
            "   0.00000000e+00  1.00000000e+00  1.64120497e-01  2.00000000e+00]\n",
            " [ 3.00000000e+00  8.50000000e-01  4.24071574e-01  0.00000000e+00\n",
            "   0.00000000e+00  1.00000000e+00  8.43423084e-02  2.00000000e+00]\n",
            " [ 4.00000000e+00  0.00000000e+00  0.00000000e+00  0.00000000e+00\n",
            "   0.00000000e+00  9.58822688e-01 -3.95274539e-02  3.00000000e+00]\n",
            " [ 5.00000000e+00  0.00000000e+00  0.00000000e+00 -9.00000000e-01\n",
            "  -3.00000000e-01  9.31891069e-01 -6.64180582e-02  3.00000000e+00]\n",
            " [ 6.00000000e+00  0.00000000e+00  0.00000000e+00  0.00000000e+00\n",
            "   0.00000000e+00  9.76311406e-01  3.55482416e-02  3.00000000e+00]\n",
            " [ 7.00000000e+00  0.00000000e+00  0.00000000e+00 -1.00000000e+00\n",
            "  -3.50000000e-01  9.49836617e-01  5.82116358e-03  3.00000000e+00]\n",
            " [ 8.00000000e+00  0.00000000e+00  0.00000000e+00  0.00000000e+00\n",
            "   0.00000000e+00  9.69160116e-01  6.58437298e-02  3.00000000e+00]\n",
            " [ 9.00000000e+00  0.00000000e+00  0.00000000e+00 -1.25000000e+00\n",
            "  -5.00000000e-01  9.15542720e-01 -7.61943036e-02  3.00000000e+00]] \n",
            "\n"
          ]
        }
      ],
      "source": [
        "bus = NR(bus_arr, branch_arr, reactive_min, reactive_max, 10**-2)"
      ]
    },
    {
      "cell_type": "code",
      "execution_count": 45,
      "metadata": {
        "colab": {
          "base_uri": "https://localhost:8080/"
        },
        "id": "9h3D8CJAbALX",
        "outputId": "a0ba1324-ff19-4865-af9c-5459478bd2ca"
      },
      "outputs": [
        {
          "output_type": "stream",
          "name": "stdout",
          "text": [
            "Delta_PA difference at iteration  1 :\n",
            " 0.002520461468223451\n",
            "Delta_V difference at iteration  1 :\n",
            " 0.0019115010692515957\n",
            "Delta_PA difference at iteration  2 :\n",
            " 0.0003678731901436753\n",
            "Delta_V difference at iteration  2 :\n",
            " 0.0003577865654118941\n",
            "Delta_PA difference at iteration  3 :\n",
            " 0.0003940280509858189\n",
            "Delta_V difference at iteration  3 :\n",
            " 0.00014136451065736795\n",
            "Delta_PA difference at iteration  4 :\n",
            " 0.00010612836718058284\n",
            "Delta_V difference at iteration  4 :\n",
            " 0.00010421533687292276\n",
            "Delta_PA difference at iteration  5 :\n",
            " 0.00013353610739727024\n",
            "Delta_V difference at iteration  5 :\n",
            " 9.100251044316122e-05\n",
            "Delta_PA difference at iteration  6 :\n",
            " 4.0787001634213585e-05\n",
            "Delta_V difference at iteration  6 :\n",
            " 3.536604711984953e-05\n",
            "\n",
            "Total nmber of iterations:  6\n",
            "Iterations since last limit check failure:  6\n",
            "\n",
            "Old Voltages:\n",
            " [1. 1. 1. 1. 1. 1. 1. 1. 1.]\n",
            "\n",
            "New Voltages:\n",
            " [1.         1.         1.         0.95886124 0.93195952 0.97632117\n",
            " 0.94992658 0.96915659 0.91561236]\n",
            "\n",
            "Old Phase Angles:\n",
            " [0. 0. 0. 0. 0. 0. 0. 0. 0.]\n",
            "\n",
            "New Phase Angles:\n",
            " [ 0.          0.16444683  0.08455317 -0.03961223 -0.06646528  0.03520628\n",
            "  0.00592808  0.06539799 -0.07620209]\n",
            "\n",
            "Old Bus Values:\n",
            " [[ 1.    0.    0.    0.    0.    1.    0.    1.  ]\n",
            " [ 2.    1.63  0.    0.    0.    1.    0.    2.  ]\n",
            " [ 3.    0.85  0.    0.    0.    1.    0.    2.  ]\n",
            " [ 4.    0.    0.    0.    0.    1.    0.    3.  ]\n",
            " [ 5.    0.    0.   -0.9  -0.3   1.    0.    3.  ]\n",
            " [ 6.    0.    0.    0.    0.    1.    0.    3.  ]\n",
            " [ 7.    0.    0.   -1.   -0.35  1.    0.    3.  ]\n",
            " [ 8.    0.    0.    0.    0.    1.    0.    3.  ]\n",
            " [ 9.    0.    0.   -1.25 -0.5   1.    0.    3.  ]] \n",
            "\n",
            "New Bus Values (after NR):\n",
            " [[ 1.00000000e+00  0.00000000e+00  0.00000000e+00  0.00000000e+00\n",
            "   0.00000000e+00  1.00000000e+00  0.00000000e+00  1.00000000e+00]\n",
            " [ 2.00000000e+00  1.63000000e+00  5.69496980e-01  0.00000000e+00\n",
            "   0.00000000e+00  1.00000000e+00  1.64446834e-01  2.00000000e+00]\n",
            " [ 3.00000000e+00  8.50000000e-01  4.24356911e-01  0.00000000e+00\n",
            "   0.00000000e+00  1.00000000e+00  8.45531723e-02  2.00000000e+00]\n",
            " [ 4.00000000e+00  0.00000000e+00  0.00000000e+00  0.00000000e+00\n",
            "   0.00000000e+00  9.58861241e-01 -3.96122263e-02  3.00000000e+00]\n",
            " [ 5.00000000e+00  0.00000000e+00  0.00000000e+00 -9.00000000e-01\n",
            "  -3.00000000e-01  9.31959517e-01 -6.64652847e-02  3.00000000e+00]\n",
            " [ 6.00000000e+00  0.00000000e+00  0.00000000e+00  0.00000000e+00\n",
            "   0.00000000e+00  9.76321171e-01  3.52062836e-02  3.00000000e+00]\n",
            " [ 7.00000000e+00  0.00000000e+00  0.00000000e+00 -1.00000000e+00\n",
            "  -3.50000000e-01  9.49926576e-01  5.92807595e-03  3.00000000e+00]\n",
            " [ 8.00000000e+00  0.00000000e+00  0.00000000e+00  0.00000000e+00\n",
            "   0.00000000e+00  9.69156592e-01  6.53979934e-02  3.00000000e+00]\n",
            " [ 9.00000000e+00  0.00000000e+00  0.00000000e+00 -1.25000000e+00\n",
            "  -5.00000000e-01  9.15612356e-01 -7.62020918e-02  3.00000000e+00]] \n",
            "\n"
          ]
        }
      ],
      "source": [
        "bus_hhl = NR_hhl(bus_arr, branch_arr, reactive_min, reactive_max, 10**-2)"
      ]
    }
  ],
  "metadata": {
    "kernelspec": {
      "display_name": "Python 3",
      "language": "python",
      "name": "python3"
    },
    "language_info": {
      "codemirror_mode": {
        "name": "ipython",
        "version": 3
      },
      "file_extension": ".py",
      "mimetype": "text/x-python",
      "name": "python",
      "nbconvert_exporter": "python",
      "pygments_lexer": "ipython3",
      "version": "3.10.4"
    },
    "orig_nbformat": 4,
    "colab": {
      "provenance": []
    }
  },
  "nbformat": 4,
  "nbformat_minor": 0
}