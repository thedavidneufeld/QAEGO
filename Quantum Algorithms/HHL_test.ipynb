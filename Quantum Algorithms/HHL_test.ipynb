{
 "cells": [
  {
   "cell_type": "code",
   "execution_count": 1,
   "metadata": {},
   "outputs": [],
   "source": [
    "import numpy as np\n",
    "import math\n",
    "from linear_solvers import NumPyLinearSolver, HHL\n",
    "from qiskit import Aer\n",
    "from numpy.linalg import norm\n",
    "from qiskit.quantum_info import Statevector"
   ]
  },
  {
   "cell_type": "code",
   "execution_count": 2,
   "metadata": {},
   "outputs": [],
   "source": [
    "def make_nxn(matrix, vector):\n",
    "    if matrix.shape[0] != matrix.shape[1]:\n",
    "        # set n to the highest value between the rows and columns of matrix\n",
    "        # by doing this, we can ensure that the matrix will be nxn and the vector will be nx1\n",
    "        n = max(matrix.shape[0], matrix.shape[1])\n",
    "        matrix = np.pad(matrix, ((0, n-matrix.shape[0]), (0, n-matrix.shape[1])), 'constant', constant_values = (0))\n",
    "        vector.resize(1, n, refcheck=False)\n",
    "        # create a matrix (lambda) that contains a small value to add to the matrix and vector\n",
    "        # this will ensure that the matrix is invertible and still close in value to the original\n",
    "        la = np.empty(n)\n",
    "        la.fill(10**-6)\n",
    "        la_mat = np.diag(la)\n",
    "        matrix = matrix + la_mat\n",
    "        vector = vector + la\n",
    "    return matrix, vector"
   ]
  },
  {
   "cell_type": "code",
   "execution_count": 3,
   "metadata": {},
   "outputs": [],
   "source": [
    "def make_2nx2n(matrix, vector):\n",
    "    # this function assumes that the matrix is square\n",
    "    # if matrix is not 2^n x 2^n, then set n to the next highest power of 2\n",
    "    if not math.log(matrix.shape[0], 2).is_integer():\n",
    "        n = 2**(math.ceil(math.log(matrix.shape[0], 2)))\n",
    "        matrix = np.pad(matrix, ((0, n-matrix.shape[0]), (0, n-matrix.shape[1])), 'constant', constant_values = (0))\n",
    "        vector.resize(1, n, refcheck=False)\n",
    "        for i in range(n):\n",
    "            if matrix[i][i] == 0:\n",
    "                matrix[i][i] = 1\n",
    "    return matrix, vector"
   ]
  },
  {
   "cell_type": "code",
   "execution_count": 4,
   "metadata": {},
   "outputs": [],
   "source": [
    "def make_hermitian(matrix, vector):\n",
    "    # this function assumes that the matrix is square\n",
    "    # if the matrix is not hermitian, make it hermitian and alter the vector accordingly\n",
    "    matrix_H = np.matrix(matrix).H\n",
    "    if not np.array_equal(matrix, matrix_H):\n",
    "        zeros = np.zeros((matrix.shape[0], matrix.shape[0]))\n",
    "        matrix = np.block([[zeros, matrix_H],\n",
    "                       [matrix, zeros]])\n",
    "        vector_conj = np.conj(vector)\n",
    "        vector = np.append(vector_conj, vector)\n",
    "    return matrix, vector"
   ]
  },
  {
   "cell_type": "code",
   "execution_count": 5,
   "metadata": {},
   "outputs": [],
   "source": [
    "def hhl_compatible(matrix, vector):\n",
    "    mat = matrix.copy()\n",
    "    vec = vector.copy()\n",
    "    mat, vec = make_nxn(mat,vec)\n",
    "    mat, vec = make_2nx2n(mat, vec)\n",
    "    mat, vec = make_hermitian(mat, vec)\n",
    "    return mat, vec"
   ]
  },
  {
   "cell_type": "code",
   "execution_count": 6,
   "metadata": {},
   "outputs": [],
   "source": [
    "m= np.array([[19.58211765, -2.42352941,  9.69411765],\n",
    "             [-2.42352941, 19.29411765,  4.58823529],\n",
    "             [ 2.42352941, -4.82352941, 18.35294118]])\n",
    "v = np.array([ 1.30305882, -0.98235294,  0.07058824])"
   ]
  },
  {
   "cell_type": "code",
   "execution_count": 7,
   "metadata": {},
   "outputs": [],
   "source": [
    "m2, v2 = hhl_compatible(m, v)"
   ]
  },
  {
   "cell_type": "code",
   "execution_count": 8,
   "metadata": {},
   "outputs": [
    {
     "name": "stdout",
     "output_type": "stream",
     "text": [
      "[[ 0.          0.          0.          0.         19.58211765 -2.42352941\n",
      "   2.42352941  0.        ]\n",
      " [ 0.          0.          0.          0.         -2.42352941 19.29411765\n",
      "  -4.82352941  0.        ]\n",
      " [ 0.          0.          0.          0.          9.69411765  4.58823529\n",
      "  18.35294118  0.        ]\n",
      " [ 0.          0.          0.          0.          0.          0.\n",
      "   0.          1.        ]\n",
      " [19.58211765 -2.42352941  9.69411765  0.          0.          0.\n",
      "   0.          0.        ]\n",
      " [-2.42352941 19.29411765  4.58823529  0.          0.          0.\n",
      "   0.          0.        ]\n",
      " [ 2.42352941 -4.82352941 18.35294118  0.          0.          0.\n",
      "   0.          0.        ]\n",
      " [ 0.          0.          0.          1.          0.          0.\n",
      "   0.          0.        ]]\n",
      "[ 1.30305882 -0.98235294  0.07058824  0.          1.30305882 -0.98235294\n",
      "  0.07058824  0.        ]\n"
     ]
    }
   ],
   "source": [
    "print(m2)\n",
    "print(v2)"
   ]
  },
  {
   "cell_type": "code",
   "execution_count": 9,
   "metadata": {},
   "outputs": [],
   "source": [
    "v2_norm = np.linalg.norm(v2)"
   ]
  },
  {
   "cell_type": "code",
   "execution_count": 10,
   "metadata": {},
   "outputs": [],
   "source": [
    "backend = Aer.get_backend('aer_simulator')\n",
    "hhl = HHL(1e-3, quantum_instance=backend)\n",
    "quantum_solution = hhl.solve(m2, v2)"
   ]
  },
  {
   "cell_type": "code",
   "execution_count": 11,
   "metadata": {},
   "outputs": [],
   "source": [
    "classical_solution = NumPyLinearSolver().solve(m2, v2/v2_norm)"
   ]
  },
  {
   "cell_type": "code",
   "execution_count": 12,
   "metadata": {},
   "outputs": [
    {
     "data": {
      "text/plain": [
       "0.04941639906242655"
      ]
     },
     "execution_count": 12,
     "metadata": {},
     "output_type": "execute_result"
    }
   ],
   "source": [
    "quantum_solution.euclidean_norm"
   ]
  },
  {
   "cell_type": "code",
   "execution_count": 13,
   "metadata": {},
   "outputs": [
    {
     "data": {
      "text/plain": [
       "0.04944199003885272"
      ]
     },
     "execution_count": 13,
     "metadata": {},
     "output_type": "execute_result"
    }
   ],
   "source": [
    "classical_solution.euclidean_norm"
   ]
  },
  {
   "cell_type": "code",
   "execution_count": 14,
   "metadata": {},
   "outputs": [
    {
     "name": "stdout",
     "output_type": "stream",
     "text": [
      "      ┌─────────────┐┌──────┐        ┌─────────┐\n",
      "q4_0: ┤0            ├┤6     ├────────┤6        ├\n",
      "      │             ││      │        │         │\n",
      "q4_1: ┤1 circuit-97 ├┤7     ├────────┤7        ├\n",
      "      │             ││      │        │         │\n",
      "q4_2: ┤2            ├┤8     ├────────┤8        ├\n",
      "      └─────────────┘│      │┌──────┐│         │\n",
      "q5_0: ───────────────┤0     ├┤5     ├┤0        ├\n",
      "                     │      ││      ││         │\n",
      "q5_1: ───────────────┤1 QPE ├┤4     ├┤1 QPE_dg ├\n",
      "                     │      ││      ││         │\n",
      "q5_2: ───────────────┤2     ├┤3     ├┤2        ├\n",
      "                     │      ││      ││         │\n",
      "q5_3: ───────────────┤3     ├┤2 1/x ├┤3        ├\n",
      "                     │      ││      ││         │\n",
      "q5_4: ───────────────┤4     ├┤1     ├┤4        ├\n",
      "                     │      ││      ││         │\n",
      "q5_5: ───────────────┤5     ├┤0     ├┤5        ├\n",
      "                     └──────┘│      │└─────────┘\n",
      "  q6: ───────────────────────┤6     ├───────────\n",
      "                             └──────┘           \n"
     ]
    }
   ],
   "source": [
    "print(quantum_solution.state)"
   ]
  },
  {
   "cell_type": "code",
   "execution_count": 15,
   "metadata": {},
   "outputs": [
    {
     "data": {
      "text/plain": [
       "array([ 0.06965146, -0.03806428, -0.01540482])"
      ]
     },
     "execution_count": 15,
     "metadata": {},
     "output_type": "execute_result"
    }
   ],
   "source": [
    "sv = Statevector(quantum_solution.state)\n",
    "sv = sv.data[512:520].real\n",
    "norm = quantum_solution.euclidean_norm\n",
    "solution = norm * sv / np.linalg.norm(sv)\n",
    "(v2_norm * solution)[0:3]"
   ]
  },
  {
   "cell_type": "code",
   "execution_count": 16,
   "metadata": {},
   "outputs": [
    {
     "data": {
      "text/plain": [
       "array([ 0.06942201, -0.03852157, -0.01544537])"
      ]
     },
     "execution_count": 16,
     "metadata": {},
     "output_type": "execute_result"
    }
   ],
   "source": [
    "(v2_norm * classical_solution.state)[0:3]"
   ]
  }
 ],
 "metadata": {
  "kernelspec": {
   "display_name": "Python 3",
   "language": "python",
   "name": "python3"
  },
  "language_info": {
   "codemirror_mode": {
    "name": "ipython",
    "version": 3
   },
   "file_extension": ".py",
   "mimetype": "text/x-python",
   "name": "python",
   "nbconvert_exporter": "python",
   "pygments_lexer": "ipython3",
   "version": "3.10.4"
  },
  "orig_nbformat": 4
 },
 "nbformat": 4,
 "nbformat_minor": 2
}
